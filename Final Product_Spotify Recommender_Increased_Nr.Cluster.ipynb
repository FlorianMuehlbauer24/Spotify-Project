{
 "cells": [
  {
   "cell_type": "code",
   "execution_count": 11,
   "id": "d52f4707",
   "metadata": {},
   "outputs": [],
   "source": [
    "import numpy as np\n",
    "import pandas as pd\n",
    "import pickle\n",
    "from sklearn import datasets # sklearn comes with some toy datasets to practice\n",
    "from sklearn.preprocessing import StandardScaler\n",
    "from sklearn.cluster import KMeans\n",
    "import matplotlib.pyplot as plt\n",
    "from sklearn.metrics import silhouette_score"
   ]
  },
  {
   "cell_type": "markdown",
   "id": "96ca2a96",
   "metadata": {},
   "source": [
    "### Model creation\n",
    "(Upload dataframe)\n",
    "1. numerical Varibales only - > drop other columns\n",
    "2. scale\n",
    "3. train kmeans + (pickle)\n",
    "create model\n",
    "\n",
    "### User Input\n",
    "- User inputs song\n",
    "- search the song - > ID\n",
    "- Audio features of the song\n",
    "- scale\n",
    "- predict the cluster\n",
    "- recommand a song from the cluster. Input track ID into the integrated player"
   ]
  },
  {
   "cell_type": "markdown",
   "id": "70821af3",
   "metadata": {},
   "source": [
    "#### Loading the  combined spotify dataset"
   ]
  },
  {
   "cell_type": "code",
   "execution_count": 12,
   "id": "7f88b43f",
   "metadata": {},
   "outputs": [],
   "source": [
    "df_combined = pd.read_csv('df_combined.csv')"
   ]
  },
  {
   "cell_type": "markdown",
   "id": "50e5e969",
   "metadata": {},
   "source": [
    "### Use numerical columns only"
   ]
  },
  {
   "cell_type": "code",
   "execution_count": 13,
   "id": "ec3f86e6",
   "metadata": {},
   "outputs": [],
   "source": [
    "columns_numerical = ['danceability', 'energy', 'key', 'loudness', 'mode',\n",
    "                     'speechiness', 'acousticness', 'instrumentalness', 'liveness',\n",
    "                     'valence', 'tempo']\n",
    "\n",
    "df_combined_numerical = df_combined[columns_numerical]"
   ]
  },
  {
   "cell_type": "code",
   "execution_count": 14,
   "id": "51d33637",
   "metadata": {},
   "outputs": [],
   "source": [
    "X = df_combined_numerical"
   ]
  },
  {
   "cell_type": "markdown",
   "id": "fccfce49",
   "metadata": {},
   "source": [
    "### Scaling"
   ]
  },
  {
   "cell_type": "code",
   "execution_count": 15,
   "id": "e7809809",
   "metadata": {},
   "outputs": [],
   "source": [
    "scaler = StandardScaler()\n",
    "scaler.fit(X)\n",
    "X_scaled = scaler.transform(X)\n",
    "X_scaled_df = pd.DataFrame(X_scaled, columns = X.columns)"
   ]
  },
  {
   "cell_type": "code",
   "execution_count": 16,
   "id": "a22cbf4f",
   "metadata": {},
   "outputs": [
    {
     "data": {
      "text/html": [
       "<div>\n",
       "<style scoped>\n",
       "    .dataframe tbody tr th:only-of-type {\n",
       "        vertical-align: middle;\n",
       "    }\n",
       "\n",
       "    .dataframe tbody tr th {\n",
       "        vertical-align: top;\n",
       "    }\n",
       "\n",
       "    .dataframe thead th {\n",
       "        text-align: right;\n",
       "    }\n",
       "</style>\n",
       "<table border=\"1\" class=\"dataframe\">\n",
       "  <thead>\n",
       "    <tr style=\"text-align: right;\">\n",
       "      <th></th>\n",
       "      <th>danceability</th>\n",
       "      <th>energy</th>\n",
       "      <th>key</th>\n",
       "      <th>loudness</th>\n",
       "      <th>mode</th>\n",
       "      <th>speechiness</th>\n",
       "      <th>acousticness</th>\n",
       "      <th>instrumentalness</th>\n",
       "      <th>liveness</th>\n",
       "      <th>valence</th>\n",
       "      <th>tempo</th>\n",
       "    </tr>\n",
       "  </thead>\n",
       "  <tbody>\n",
       "    <tr>\n",
       "      <th>count</th>\n",
       "      <td>8.887000e+03</td>\n",
       "      <td>8.887000e+03</td>\n",
       "      <td>8.887000e+03</td>\n",
       "      <td>8.887000e+03</td>\n",
       "      <td>8.887000e+03</td>\n",
       "      <td>8.887000e+03</td>\n",
       "      <td>8.887000e+03</td>\n",
       "      <td>8.887000e+03</td>\n",
       "      <td>8.887000e+03</td>\n",
       "      <td>8.887000e+03</td>\n",
       "      <td>8.887000e+03</td>\n",
       "    </tr>\n",
       "    <tr>\n",
       "      <th>mean</th>\n",
       "      <td>-4.285483e-16</td>\n",
       "      <td>-3.933690e-16</td>\n",
       "      <td>7.475610e-17</td>\n",
       "      <td>-6.396244e-17</td>\n",
       "      <td>-1.599061e-17</td>\n",
       "      <td>4.477371e-17</td>\n",
       "      <td>2.398591e-16</td>\n",
       "      <td>-1.918873e-17</td>\n",
       "      <td>1.019401e-16</td>\n",
       "      <td>-4.893127e-16</td>\n",
       "      <td>6.092422e-16</td>\n",
       "    </tr>\n",
       "    <tr>\n",
       "      <th>std</th>\n",
       "      <td>1.000056e+00</td>\n",
       "      <td>1.000056e+00</td>\n",
       "      <td>1.000056e+00</td>\n",
       "      <td>1.000056e+00</td>\n",
       "      <td>1.000056e+00</td>\n",
       "      <td>1.000056e+00</td>\n",
       "      <td>1.000056e+00</td>\n",
       "      <td>1.000056e+00</td>\n",
       "      <td>1.000056e+00</td>\n",
       "      <td>1.000056e+00</td>\n",
       "      <td>1.000056e+00</td>\n",
       "    </tr>\n",
       "    <tr>\n",
       "      <th>min</th>\n",
       "      <td>-3.431159e+00</td>\n",
       "      <td>-2.861366e+00</td>\n",
       "      <td>-1.462468e+00</td>\n",
       "      <td>-1.346158e+01</td>\n",
       "      <td>-1.324046e+00</td>\n",
       "      <td>-9.440292e-01</td>\n",
       "      <td>-9.175969e-01</td>\n",
       "      <td>-3.948318e-01</td>\n",
       "      <td>-1.091874e+00</td>\n",
       "      <td>-2.057268e+00</td>\n",
       "      <td>-4.248285e+00</td>\n",
       "    </tr>\n",
       "    <tr>\n",
       "      <th>25%</th>\n",
       "      <td>-6.968676e-01</td>\n",
       "      <td>-6.954302e-01</td>\n",
       "      <td>-9.047424e-01</td>\n",
       "      <td>-5.206510e-01</td>\n",
       "      <td>-1.324046e+00</td>\n",
       "      <td>-5.388507e-01</td>\n",
       "      <td>-8.309590e-01</td>\n",
       "      <td>-3.948318e-01</td>\n",
       "      <td>-6.080738e-01</td>\n",
       "      <td>-8.156256e-01</td>\n",
       "      <td>-7.561734e-01</td>\n",
       "    </tr>\n",
       "    <tr>\n",
       "      <th>50%</th>\n",
       "      <td>7.509832e-02</td>\n",
       "      <td>1.117003e-01</td>\n",
       "      <td>-6.815456e-02</td>\n",
       "      <td>1.859300e-01</td>\n",
       "      <td>7.552608e-01</td>\n",
       "      <td>-4.041849e-01</td>\n",
       "      <td>-4.154511e-01</td>\n",
       "      <td>-3.944273e-01</td>\n",
       "      <td>-4.085747e-01</td>\n",
       "      <td>5.524385e-03</td>\n",
       "      <td>-1.622793e-02</td>\n",
       "    </tr>\n",
       "    <tr>\n",
       "      <th>75%</th>\n",
       "      <td>7.409926e-01</td>\n",
       "      <td>8.048293e-01</td>\n",
       "      <td>7.684332e-01</td>\n",
       "      <td>7.131241e-01</td>\n",
       "      <td>7.552608e-01</td>\n",
       "      <td>6.899985e-03</td>\n",
       "      <td>6.206665e-01</td>\n",
       "      <td>-3.404172e-01</td>\n",
       "      <td>3.113303e-01</td>\n",
       "      <td>8.227075e-01</td>\n",
       "      <td>6.066379e-01</td>\n",
       "    </tr>\n",
       "    <tr>\n",
       "      <th>max</th>\n",
       "      <td>2.337960e+00</td>\n",
       "      <td>1.694041e+00</td>\n",
       "      <td>1.605021e+00</td>\n",
       "      <td>2.444326e+00</td>\n",
       "      <td>7.552608e-01</td>\n",
       "      <td>8.884208e+00</td>\n",
       "      <td>2.600960e+00</td>\n",
       "      <td>3.998481e+00</td>\n",
       "      <td>4.893099e+00</td>\n",
       "      <td>1.866004e+00</td>\n",
       "      <td>3.246507e+00</td>\n",
       "    </tr>\n",
       "  </tbody>\n",
       "</table>\n",
       "</div>"
      ],
      "text/plain": [
       "       danceability        energy           key      loudness          mode  \\\n",
       "count  8.887000e+03  8.887000e+03  8.887000e+03  8.887000e+03  8.887000e+03   \n",
       "mean  -4.285483e-16 -3.933690e-16  7.475610e-17 -6.396244e-17 -1.599061e-17   \n",
       "std    1.000056e+00  1.000056e+00  1.000056e+00  1.000056e+00  1.000056e+00   \n",
       "min   -3.431159e+00 -2.861366e+00 -1.462468e+00 -1.346158e+01 -1.324046e+00   \n",
       "25%   -6.968676e-01 -6.954302e-01 -9.047424e-01 -5.206510e-01 -1.324046e+00   \n",
       "50%    7.509832e-02  1.117003e-01 -6.815456e-02  1.859300e-01  7.552608e-01   \n",
       "75%    7.409926e-01  8.048293e-01  7.684332e-01  7.131241e-01  7.552608e-01   \n",
       "max    2.337960e+00  1.694041e+00  1.605021e+00  2.444326e+00  7.552608e-01   \n",
       "\n",
       "        speechiness  acousticness  instrumentalness      liveness  \\\n",
       "count  8.887000e+03  8.887000e+03      8.887000e+03  8.887000e+03   \n",
       "mean   4.477371e-17  2.398591e-16     -1.918873e-17  1.019401e-16   \n",
       "std    1.000056e+00  1.000056e+00      1.000056e+00  1.000056e+00   \n",
       "min   -9.440292e-01 -9.175969e-01     -3.948318e-01 -1.091874e+00   \n",
       "25%   -5.388507e-01 -8.309590e-01     -3.948318e-01 -6.080738e-01   \n",
       "50%   -4.041849e-01 -4.154511e-01     -3.944273e-01 -4.085747e-01   \n",
       "75%    6.899985e-03  6.206665e-01     -3.404172e-01  3.113303e-01   \n",
       "max    8.884208e+00  2.600960e+00      3.998481e+00  4.893099e+00   \n",
       "\n",
       "            valence         tempo  \n",
       "count  8.887000e+03  8.887000e+03  \n",
       "mean  -4.893127e-16  6.092422e-16  \n",
       "std    1.000056e+00  1.000056e+00  \n",
       "min   -2.057268e+00 -4.248285e+00  \n",
       "25%   -8.156256e-01 -7.561734e-01  \n",
       "50%    5.524385e-03 -1.622793e-02  \n",
       "75%    8.227075e-01  6.066379e-01  \n",
       "max    1.866004e+00  3.246507e+00  "
      ]
     },
     "execution_count": 16,
     "metadata": {},
     "output_type": "execute_result"
    }
   ],
   "source": [
    "X_scaled_df.describe()"
   ]
  },
  {
   "cell_type": "markdown",
   "id": "ab5423a0",
   "metadata": {},
   "source": [
    "### Train Kmeans"
   ]
  },
  {
   "cell_type": "code",
   "execution_count": 17,
   "id": "89753452",
   "metadata": {},
   "outputs": [
    {
     "name": "stderr",
     "output_type": "stream",
     "text": [
      "C:\\Users\\flori\\anaconda4\\Lib\\site-packages\\sklearn\\cluster\\_kmeans.py:1412: FutureWarning: The default value of `n_init` will change from 10 to 'auto' in 1.4. Set the value of `n_init` explicitly to suppress the warning\n",
      "  super()._check_params_vs_input(X, default_n_init=10)\n"
     ]
    },
    {
     "data": {
      "text/html": [
       "<style>#sk-container-id-2 {color: black;}#sk-container-id-2 pre{padding: 0;}#sk-container-id-2 div.sk-toggleable {background-color: white;}#sk-container-id-2 label.sk-toggleable__label {cursor: pointer;display: block;width: 100%;margin-bottom: 0;padding: 0.3em;box-sizing: border-box;text-align: center;}#sk-container-id-2 label.sk-toggleable__label-arrow:before {content: \"▸\";float: left;margin-right: 0.25em;color: #696969;}#sk-container-id-2 label.sk-toggleable__label-arrow:hover:before {color: black;}#sk-container-id-2 div.sk-estimator:hover label.sk-toggleable__label-arrow:before {color: black;}#sk-container-id-2 div.sk-toggleable__content {max-height: 0;max-width: 0;overflow: hidden;text-align: left;background-color: #f0f8ff;}#sk-container-id-2 div.sk-toggleable__content pre {margin: 0.2em;color: black;border-radius: 0.25em;background-color: #f0f8ff;}#sk-container-id-2 input.sk-toggleable__control:checked~div.sk-toggleable__content {max-height: 200px;max-width: 100%;overflow: auto;}#sk-container-id-2 input.sk-toggleable__control:checked~label.sk-toggleable__label-arrow:before {content: \"▾\";}#sk-container-id-2 div.sk-estimator input.sk-toggleable__control:checked~label.sk-toggleable__label {background-color: #d4ebff;}#sk-container-id-2 div.sk-label input.sk-toggleable__control:checked~label.sk-toggleable__label {background-color: #d4ebff;}#sk-container-id-2 input.sk-hidden--visually {border: 0;clip: rect(1px 1px 1px 1px);clip: rect(1px, 1px, 1px, 1px);height: 1px;margin: -1px;overflow: hidden;padding: 0;position: absolute;width: 1px;}#sk-container-id-2 div.sk-estimator {font-family: monospace;background-color: #f0f8ff;border: 1px dotted black;border-radius: 0.25em;box-sizing: border-box;margin-bottom: 0.5em;}#sk-container-id-2 div.sk-estimator:hover {background-color: #d4ebff;}#sk-container-id-2 div.sk-parallel-item::after {content: \"\";width: 100%;border-bottom: 1px solid gray;flex-grow: 1;}#sk-container-id-2 div.sk-label:hover label.sk-toggleable__label {background-color: #d4ebff;}#sk-container-id-2 div.sk-serial::before {content: \"\";position: absolute;border-left: 1px solid gray;box-sizing: border-box;top: 0;bottom: 0;left: 50%;z-index: 0;}#sk-container-id-2 div.sk-serial {display: flex;flex-direction: column;align-items: center;background-color: white;padding-right: 0.2em;padding-left: 0.2em;position: relative;}#sk-container-id-2 div.sk-item {position: relative;z-index: 1;}#sk-container-id-2 div.sk-parallel {display: flex;align-items: stretch;justify-content: center;background-color: white;position: relative;}#sk-container-id-2 div.sk-item::before, #sk-container-id-2 div.sk-parallel-item::before {content: \"\";position: absolute;border-left: 1px solid gray;box-sizing: border-box;top: 0;bottom: 0;left: 50%;z-index: -1;}#sk-container-id-2 div.sk-parallel-item {display: flex;flex-direction: column;z-index: 1;position: relative;background-color: white;}#sk-container-id-2 div.sk-parallel-item:first-child::after {align-self: flex-end;width: 50%;}#sk-container-id-2 div.sk-parallel-item:last-child::after {align-self: flex-start;width: 50%;}#sk-container-id-2 div.sk-parallel-item:only-child::after {width: 0;}#sk-container-id-2 div.sk-dashed-wrapped {border: 1px dashed gray;margin: 0 0.4em 0.5em 0.4em;box-sizing: border-box;padding-bottom: 0.4em;background-color: white;}#sk-container-id-2 div.sk-label label {font-family: monospace;font-weight: bold;display: inline-block;line-height: 1.2em;}#sk-container-id-2 div.sk-label-container {text-align: center;}#sk-container-id-2 div.sk-container {/* jupyter's `normalize.less` sets `[hidden] { display: none; }` but bootstrap.min.css set `[hidden] { display: none !important; }` so we also need the `!important` here to be able to override the default hidden behavior on the sphinx rendered scikit-learn.org. See: https://github.com/scikit-learn/scikit-learn/issues/21755 */display: inline-block !important;position: relative;}#sk-container-id-2 div.sk-text-repr-fallback {display: none;}</style><div id=\"sk-container-id-2\" class=\"sk-top-container\"><div class=\"sk-text-repr-fallback\"><pre>KMeans(n_clusters=15, random_state=1234)</pre><b>In a Jupyter environment, please rerun this cell to show the HTML representation or trust the notebook. <br />On GitHub, the HTML representation is unable to render, please try loading this page with nbviewer.org.</b></div><div class=\"sk-container\" hidden><div class=\"sk-item\"><div class=\"sk-estimator sk-toggleable\"><input class=\"sk-toggleable__control sk-hidden--visually\" id=\"sk-estimator-id-2\" type=\"checkbox\" checked><label for=\"sk-estimator-id-2\" class=\"sk-toggleable__label sk-toggleable__label-arrow\">KMeans</label><div class=\"sk-toggleable__content\"><pre>KMeans(n_clusters=15, random_state=1234)</pre></div></div></div></div></div>"
      ],
      "text/plain": [
       "KMeans(n_clusters=15, random_state=1234)"
      ]
     },
     "execution_count": 17,
     "metadata": {},
     "output_type": "execute_result"
    }
   ],
   "source": [
    "kmeans = KMeans(n_clusters=15, random_state=1234)\n",
    "kmeans.fit(X_scaled_df)"
   ]
  },
  {
   "cell_type": "code",
   "execution_count": 18,
   "id": "86186771",
   "metadata": {},
   "outputs": [
    {
     "data": {
      "text/plain": [
       "array([2, 2, 9, ..., 3, 5, 5])"
      ]
     },
     "execution_count": 18,
     "metadata": {},
     "output_type": "execute_result"
    }
   ],
   "source": [
    "labels = kmeans.labels_\n",
    "labels"
   ]
  },
  {
   "cell_type": "code",
   "execution_count": 19,
   "id": "f4583696",
   "metadata": {},
   "outputs": [
    {
     "data": {
      "text/plain": [
       "array([ 0,  1,  2,  3,  4,  5,  6,  7,  8,  9, 10, 11, 12, 13, 14])"
      ]
     },
     "execution_count": 19,
     "metadata": {},
     "output_type": "execute_result"
    }
   ],
   "source": [
    "np.unique(labels)"
   ]
  },
  {
   "cell_type": "code",
   "execution_count": 20,
   "id": "cbdc6288",
   "metadata": {},
   "outputs": [
    {
     "data": {
      "text/plain": [
       "array([2, 2, 9, ..., 3, 5, 5])"
      ]
     },
     "execution_count": 20,
     "metadata": {},
     "output_type": "execute_result"
    }
   ],
   "source": [
    "clusters = kmeans.predict(X_scaled_df)\n",
    "clusters"
   ]
  },
  {
   "cell_type": "code",
   "execution_count": 21,
   "id": "ec172266",
   "metadata": {},
   "outputs": [
    {
     "data": {
      "text/plain": [
       "0     447\n",
       "1     992\n",
       "2     974\n",
       "3     720\n",
       "4     425\n",
       "5     665\n",
       "6     184\n",
       "7     533\n",
       "8     546\n",
       "9     593\n",
       "10    575\n",
       "11    293\n",
       "12    626\n",
       "13    611\n",
       "14    703\n",
       "Name: count, dtype: int64"
      ]
     },
     "execution_count": 21,
     "metadata": {},
     "output_type": "execute_result"
    }
   ],
   "source": [
    "clusters = kmeans.predict(X_scaled_df)\n",
    "#clusters\n",
    "pd.Series(clusters).value_counts().sort_index()"
   ]
  },
  {
   "cell_type": "code",
   "execution_count": 22,
   "id": "4e282648",
   "metadata": {},
   "outputs": [
    {
     "name": "stderr",
     "output_type": "stream",
     "text": [
      "C:\\Users\\flori\\AppData\\Local\\Temp\\ipykernel_5544\\3390344749.py:2: SettingWithCopyWarning: \n",
      "A value is trying to be set on a copy of a slice from a DataFrame.\n",
      "Try using .loc[row_indexer,col_indexer] = value instead\n",
      "\n",
      "See the caveats in the documentation: https://pandas.pydata.org/pandas-docs/stable/user_guide/indexing.html#returning-a-view-versus-a-copy\n",
      "  X[\"cluster\"] = clusters\n"
     ]
    },
    {
     "data": {
      "text/html": [
       "<div>\n",
       "<style scoped>\n",
       "    .dataframe tbody tr th:only-of-type {\n",
       "        vertical-align: middle;\n",
       "    }\n",
       "\n",
       "    .dataframe tbody tr th {\n",
       "        vertical-align: top;\n",
       "    }\n",
       "\n",
       "    .dataframe thead th {\n",
       "        text-align: right;\n",
       "    }\n",
       "</style>\n",
       "<table border=\"1\" class=\"dataframe\">\n",
       "  <thead>\n",
       "    <tr style=\"text-align: right;\">\n",
       "      <th></th>\n",
       "      <th>danceability</th>\n",
       "      <th>energy</th>\n",
       "      <th>key</th>\n",
       "      <th>loudness</th>\n",
       "      <th>mode</th>\n",
       "      <th>speechiness</th>\n",
       "      <th>acousticness</th>\n",
       "      <th>instrumentalness</th>\n",
       "      <th>liveness</th>\n",
       "      <th>valence</th>\n",
       "      <th>tempo</th>\n",
       "      <th>cluster</th>\n",
       "    </tr>\n",
       "  </thead>\n",
       "  <tbody>\n",
       "    <tr>\n",
       "      <th>0</th>\n",
       "      <td>0.697</td>\n",
       "      <td>0.832</td>\n",
       "      <td>9</td>\n",
       "      <td>-7.264</td>\n",
       "      <td>1</td>\n",
       "      <td>0.0298</td>\n",
       "      <td>0.168000</td>\n",
       "      <td>0.001310</td>\n",
       "      <td>0.2690</td>\n",
       "      <td>0.979</td>\n",
       "      <td>125.926</td>\n",
       "      <td>2</td>\n",
       "    </tr>\n",
       "    <tr>\n",
       "      <th>1</th>\n",
       "      <td>0.645</td>\n",
       "      <td>0.795</td>\n",
       "      <td>7</td>\n",
       "      <td>-12.095</td>\n",
       "      <td>1</td>\n",
       "      <td>0.0527</td>\n",
       "      <td>0.347000</td>\n",
       "      <td>0.003890</td>\n",
       "      <td>0.1040</td>\n",
       "      <td>0.535</td>\n",
       "      <td>112.067</td>\n",
       "      <td>2</td>\n",
       "    </tr>\n",
       "    <tr>\n",
       "      <th>2</th>\n",
       "      <td>0.629</td>\n",
       "      <td>0.545</td>\n",
       "      <td>10</td>\n",
       "      <td>-13.123</td>\n",
       "      <td>0</td>\n",
       "      <td>0.0546</td>\n",
       "      <td>0.719000</td>\n",
       "      <td>0.003080</td>\n",
       "      <td>0.0604</td>\n",
       "      <td>0.194</td>\n",
       "      <td>108.376</td>\n",
       "      <td>9</td>\n",
       "    </tr>\n",
       "    <tr>\n",
       "      <th>3</th>\n",
       "      <td>0.650</td>\n",
       "      <td>0.306</td>\n",
       "      <td>9</td>\n",
       "      <td>-9.443</td>\n",
       "      <td>1</td>\n",
       "      <td>0.0393</td>\n",
       "      <td>0.570000</td>\n",
       "      <td>0.000007</td>\n",
       "      <td>0.0707</td>\n",
       "      <td>0.605</td>\n",
       "      <td>118.068</td>\n",
       "      <td>8</td>\n",
       "    </tr>\n",
       "    <tr>\n",
       "      <th>4</th>\n",
       "      <td>0.502</td>\n",
       "      <td>0.912</td>\n",
       "      <td>1</td>\n",
       "      <td>-4.556</td>\n",
       "      <td>1</td>\n",
       "      <td>0.0564</td>\n",
       "      <td>0.000025</td>\n",
       "      <td>0.000173</td>\n",
       "      <td>0.1060</td>\n",
       "      <td>0.720</td>\n",
       "      <td>116.761</td>\n",
       "      <td>1</td>\n",
       "    </tr>\n",
       "    <tr>\n",
       "      <th>...</th>\n",
       "      <td>...</td>\n",
       "      <td>...</td>\n",
       "      <td>...</td>\n",
       "      <td>...</td>\n",
       "      <td>...</td>\n",
       "      <td>...</td>\n",
       "      <td>...</td>\n",
       "      <td>...</td>\n",
       "      <td>...</td>\n",
       "      <td>...</td>\n",
       "      <td>...</td>\n",
       "      <td>...</td>\n",
       "    </tr>\n",
       "    <tr>\n",
       "      <th>8882</th>\n",
       "      <td>0.490</td>\n",
       "      <td>0.352</td>\n",
       "      <td>6</td>\n",
       "      <td>-11.577</td>\n",
       "      <td>0</td>\n",
       "      <td>0.0254</td>\n",
       "      <td>0.709000</td>\n",
       "      <td>0.085600</td>\n",
       "      <td>0.1140</td>\n",
       "      <td>0.166</td>\n",
       "      <td>99.992</td>\n",
       "      <td>9</td>\n",
       "    </tr>\n",
       "    <tr>\n",
       "      <th>8883</th>\n",
       "      <td>0.527</td>\n",
       "      <td>0.591</td>\n",
       "      <td>6</td>\n",
       "      <td>-7.664</td>\n",
       "      <td>0</td>\n",
       "      <td>0.0396</td>\n",
       "      <td>0.194000</td>\n",
       "      <td>0.019400</td>\n",
       "      <td>0.0907</td>\n",
       "      <td>0.461</td>\n",
       "      <td>123.167</td>\n",
       "      <td>7</td>\n",
       "    </tr>\n",
       "    <tr>\n",
       "      <th>8884</th>\n",
       "      <td>0.420</td>\n",
       "      <td>0.837</td>\n",
       "      <td>2</td>\n",
       "      <td>-5.240</td>\n",
       "      <td>1</td>\n",
       "      <td>0.0610</td>\n",
       "      <td>0.215000</td>\n",
       "      <td>0.000030</td>\n",
       "      <td>0.0876</td>\n",
       "      <td>0.196</td>\n",
       "      <td>75.043</td>\n",
       "      <td>3</td>\n",
       "    </tr>\n",
       "    <tr>\n",
       "      <th>8885</th>\n",
       "      <td>0.648</td>\n",
       "      <td>0.594</td>\n",
       "      <td>11</td>\n",
       "      <td>-7.027</td>\n",
       "      <td>0</td>\n",
       "      <td>0.0293</td>\n",
       "      <td>0.114000</td>\n",
       "      <td>0.046200</td>\n",
       "      <td>0.1160</td>\n",
       "      <td>0.544</td>\n",
       "      <td>113.983</td>\n",
       "      <td>5</td>\n",
       "    </tr>\n",
       "    <tr>\n",
       "      <th>8886</th>\n",
       "      <td>0.852</td>\n",
       "      <td>0.747</td>\n",
       "      <td>11</td>\n",
       "      <td>-3.666</td>\n",
       "      <td>0</td>\n",
       "      <td>0.1690</td>\n",
       "      <td>0.031100</td>\n",
       "      <td>0.000000</td>\n",
       "      <td>0.0789</td>\n",
       "      <td>0.898</td>\n",
       "      <td>148.005</td>\n",
       "      <td>5</td>\n",
       "    </tr>\n",
       "  </tbody>\n",
       "</table>\n",
       "<p>8887 rows × 12 columns</p>\n",
       "</div>"
      ],
      "text/plain": [
       "      danceability  energy  key  loudness  mode  speechiness  acousticness  \\\n",
       "0            0.697   0.832    9    -7.264     1       0.0298      0.168000   \n",
       "1            0.645   0.795    7   -12.095     1       0.0527      0.347000   \n",
       "2            0.629   0.545   10   -13.123     0       0.0546      0.719000   \n",
       "3            0.650   0.306    9    -9.443     1       0.0393      0.570000   \n",
       "4            0.502   0.912    1    -4.556     1       0.0564      0.000025   \n",
       "...            ...     ...  ...       ...   ...          ...           ...   \n",
       "8882         0.490   0.352    6   -11.577     0       0.0254      0.709000   \n",
       "8883         0.527   0.591    6    -7.664     0       0.0396      0.194000   \n",
       "8884         0.420   0.837    2    -5.240     1       0.0610      0.215000   \n",
       "8885         0.648   0.594   11    -7.027     0       0.0293      0.114000   \n",
       "8886         0.852   0.747   11    -3.666     0       0.1690      0.031100   \n",
       "\n",
       "      instrumentalness  liveness  valence    tempo  cluster  \n",
       "0             0.001310    0.2690    0.979  125.926        2  \n",
       "1             0.003890    0.1040    0.535  112.067        2  \n",
       "2             0.003080    0.0604    0.194  108.376        9  \n",
       "3             0.000007    0.0707    0.605  118.068        8  \n",
       "4             0.000173    0.1060    0.720  116.761        1  \n",
       "...                ...       ...      ...      ...      ...  \n",
       "8882          0.085600    0.1140    0.166   99.992        9  \n",
       "8883          0.019400    0.0907    0.461  123.167        7  \n",
       "8884          0.000030    0.0876    0.196   75.043        3  \n",
       "8885          0.046200    0.1160    0.544  113.983        5  \n",
       "8886          0.000000    0.0789    0.898  148.005        5  \n",
       "\n",
       "[8887 rows x 12 columns]"
      ]
     },
     "execution_count": 22,
     "metadata": {},
     "output_type": "execute_result"
    }
   ],
   "source": [
    "#X_df = pd.DataFrame(X)\n",
    "X[\"cluster\"] = clusters\n",
    "X"
   ]
  },
  {
   "cell_type": "markdown",
   "id": "4fe4491a",
   "metadata": {},
   "source": [
    "### Training the model / Chosing K"
   ]
  },
  {
   "cell_type": "code",
   "execution_count": 23,
   "id": "b36c169a",
   "metadata": {},
   "outputs": [
    {
     "name": "stdout",
     "output_type": "stream",
     "text": [
      "Training a K-Means model with 2 clusters! \n",
      "\n"
     ]
    },
    {
     "name": "stderr",
     "output_type": "stream",
     "text": [
      "C:\\Users\\flori\\anaconda4\\Lib\\site-packages\\sklearn\\cluster\\_kmeans.py:1412: FutureWarning: The default value of `n_init` will change from 10 to 'auto' in 1.4. Set the value of `n_init` explicitly to suppress the warning\n",
      "  super()._check_params_vs_input(X, default_n_init=10)\n"
     ]
    },
    {
     "name": "stdout",
     "output_type": "stream",
     "text": [
      "Training a K-Means model with 3 clusters! \n",
      "\n"
     ]
    },
    {
     "name": "stderr",
     "output_type": "stream",
     "text": [
      "C:\\Users\\flori\\anaconda4\\Lib\\site-packages\\sklearn\\cluster\\_kmeans.py:1412: FutureWarning: The default value of `n_init` will change from 10 to 'auto' in 1.4. Set the value of `n_init` explicitly to suppress the warning\n",
      "  super()._check_params_vs_input(X, default_n_init=10)\n"
     ]
    },
    {
     "name": "stdout",
     "output_type": "stream",
     "text": [
      "Training a K-Means model with 4 clusters! \n",
      "\n"
     ]
    },
    {
     "name": "stderr",
     "output_type": "stream",
     "text": [
      "C:\\Users\\flori\\anaconda4\\Lib\\site-packages\\sklearn\\cluster\\_kmeans.py:1412: FutureWarning: The default value of `n_init` will change from 10 to 'auto' in 1.4. Set the value of `n_init` explicitly to suppress the warning\n",
      "  super()._check_params_vs_input(X, default_n_init=10)\n"
     ]
    },
    {
     "name": "stdout",
     "output_type": "stream",
     "text": [
      "Training a K-Means model with 5 clusters! \n",
      "\n"
     ]
    },
    {
     "name": "stderr",
     "output_type": "stream",
     "text": [
      "C:\\Users\\flori\\anaconda4\\Lib\\site-packages\\sklearn\\cluster\\_kmeans.py:1412: FutureWarning: The default value of `n_init` will change from 10 to 'auto' in 1.4. Set the value of `n_init` explicitly to suppress the warning\n",
      "  super()._check_params_vs_input(X, default_n_init=10)\n"
     ]
    },
    {
     "name": "stdout",
     "output_type": "stream",
     "text": [
      "Training a K-Means model with 6 clusters! \n",
      "\n"
     ]
    },
    {
     "name": "stderr",
     "output_type": "stream",
     "text": [
      "C:\\Users\\flori\\anaconda4\\Lib\\site-packages\\sklearn\\cluster\\_kmeans.py:1412: FutureWarning: The default value of `n_init` will change from 10 to 'auto' in 1.4. Set the value of `n_init` explicitly to suppress the warning\n",
      "  super()._check_params_vs_input(X, default_n_init=10)\n"
     ]
    },
    {
     "name": "stdout",
     "output_type": "stream",
     "text": [
      "Training a K-Means model with 7 clusters! \n",
      "\n"
     ]
    },
    {
     "name": "stderr",
     "output_type": "stream",
     "text": [
      "C:\\Users\\flori\\anaconda4\\Lib\\site-packages\\sklearn\\cluster\\_kmeans.py:1412: FutureWarning: The default value of `n_init` will change from 10 to 'auto' in 1.4. Set the value of `n_init` explicitly to suppress the warning\n",
      "  super()._check_params_vs_input(X, default_n_init=10)\n"
     ]
    },
    {
     "name": "stdout",
     "output_type": "stream",
     "text": [
      "Training a K-Means model with 8 clusters! \n",
      "\n"
     ]
    },
    {
     "name": "stderr",
     "output_type": "stream",
     "text": [
      "C:\\Users\\flori\\anaconda4\\Lib\\site-packages\\sklearn\\cluster\\_kmeans.py:1412: FutureWarning: The default value of `n_init` will change from 10 to 'auto' in 1.4. Set the value of `n_init` explicitly to suppress the warning\n",
      "  super()._check_params_vs_input(X, default_n_init=10)\n"
     ]
    },
    {
     "name": "stdout",
     "output_type": "stream",
     "text": [
      "Training a K-Means model with 9 clusters! \n",
      "\n"
     ]
    },
    {
     "name": "stderr",
     "output_type": "stream",
     "text": [
      "C:\\Users\\flori\\anaconda4\\Lib\\site-packages\\sklearn\\cluster\\_kmeans.py:1412: FutureWarning: The default value of `n_init` will change from 10 to 'auto' in 1.4. Set the value of `n_init` explicitly to suppress the warning\n",
      "  super()._check_params_vs_input(X, default_n_init=10)\n"
     ]
    },
    {
     "name": "stdout",
     "output_type": "stream",
     "text": [
      "Training a K-Means model with 10 clusters! \n",
      "\n"
     ]
    },
    {
     "name": "stderr",
     "output_type": "stream",
     "text": [
      "C:\\Users\\flori\\anaconda4\\Lib\\site-packages\\sklearn\\cluster\\_kmeans.py:1412: FutureWarning: The default value of `n_init` will change from 10 to 'auto' in 1.4. Set the value of `n_init` explicitly to suppress the warning\n",
      "  super()._check_params_vs_input(X, default_n_init=10)\n"
     ]
    },
    {
     "name": "stdout",
     "output_type": "stream",
     "text": [
      "Training a K-Means model with 11 clusters! \n",
      "\n"
     ]
    },
    {
     "name": "stderr",
     "output_type": "stream",
     "text": [
      "C:\\Users\\flori\\anaconda4\\Lib\\site-packages\\sklearn\\cluster\\_kmeans.py:1412: FutureWarning: The default value of `n_init` will change from 10 to 'auto' in 1.4. Set the value of `n_init` explicitly to suppress the warning\n",
      "  super()._check_params_vs_input(X, default_n_init=10)\n"
     ]
    },
    {
     "name": "stdout",
     "output_type": "stream",
     "text": [
      "Training a K-Means model with 12 clusters! \n",
      "\n"
     ]
    },
    {
     "name": "stderr",
     "output_type": "stream",
     "text": [
      "C:\\Users\\flori\\anaconda4\\Lib\\site-packages\\sklearn\\cluster\\_kmeans.py:1412: FutureWarning: The default value of `n_init` will change from 10 to 'auto' in 1.4. Set the value of `n_init` explicitly to suppress the warning\n",
      "  super()._check_params_vs_input(X, default_n_init=10)\n"
     ]
    },
    {
     "name": "stdout",
     "output_type": "stream",
     "text": [
      "Training a K-Means model with 13 clusters! \n",
      "\n"
     ]
    },
    {
     "name": "stderr",
     "output_type": "stream",
     "text": [
      "C:\\Users\\flori\\anaconda4\\Lib\\site-packages\\sklearn\\cluster\\_kmeans.py:1412: FutureWarning: The default value of `n_init` will change from 10 to 'auto' in 1.4. Set the value of `n_init` explicitly to suppress the warning\n",
      "  super()._check_params_vs_input(X, default_n_init=10)\n"
     ]
    },
    {
     "name": "stdout",
     "output_type": "stream",
     "text": [
      "Training a K-Means model with 14 clusters! \n",
      "\n"
     ]
    },
    {
     "name": "stderr",
     "output_type": "stream",
     "text": [
      "C:\\Users\\flori\\anaconda4\\Lib\\site-packages\\sklearn\\cluster\\_kmeans.py:1412: FutureWarning: The default value of `n_init` will change from 10 to 'auto' in 1.4. Set the value of `n_init` explicitly to suppress the warning\n",
      "  super()._check_params_vs_input(X, default_n_init=10)\n"
     ]
    },
    {
     "name": "stdout",
     "output_type": "stream",
     "text": [
      "Training a K-Means model with 15 clusters! \n",
      "\n"
     ]
    },
    {
     "name": "stderr",
     "output_type": "stream",
     "text": [
      "C:\\Users\\flori\\anaconda4\\Lib\\site-packages\\sklearn\\cluster\\_kmeans.py:1412: FutureWarning: The default value of `n_init` will change from 10 to 'auto' in 1.4. Set the value of `n_init` explicitly to suppress the warning\n",
      "  super()._check_params_vs_input(X, default_n_init=10)\n"
     ]
    },
    {
     "data": {
      "text/plain": [
       "Text(0.5, 1.0, 'Elbow Method showing the optimal k')"
      ]
     },
     "execution_count": 23,
     "metadata": {},
     "output_type": "execute_result"
    },
    {
     "data": {
      "image/png": "[encoded data removed]",
      "text/plain": [
       "<Figure size 1600x800 with 1 Axes>"
      ]
     },
     "metadata": {},
     "output_type": "display_data"
    }
   ],
   "source": [
    "K = range(2, 16)\n",
    "inertia = []\n",
    "\n",
    "for k in K:\n",
    "    print(\"Training a K-Means model with {} clusters! \".format(k))\n",
    "    print()\n",
    "    kmeans = KMeans(n_clusters=k,\n",
    "                    random_state=1234)\n",
    "    kmeans.fit(X_scaled_df)\n",
    "    inertia.append(kmeans.inertia_)\n",
    "\n",
    "import numpy as np\n",
    "import matplotlib.pyplot as plt\n",
    "%matplotlib inline\n",
    "\n",
    "plt.figure(figsize=(16,8))\n",
    "plt.plot(K, inertia, 'bx-')\n",
    "plt.xlabel('k')\n",
    "plt.ylabel('inertia')\n",
    "plt.xticks(np.arange(min(K), max(K)+1, 1.0))\n",
    "plt.title('Elbow Method showing the optimal k')"
   ]
  },
  {
   "cell_type": "markdown",
   "id": "d2161938",
   "metadata": {},
   "source": [
    "### Silouette"
   ]
  },
  {
   "cell_type": "code",
   "execution_count": 25,
   "id": "69a1f79b",
   "metadata": {},
   "outputs": [
    {
     "data": {
      "text/plain": [
       "Text(0.5, 1.0, 'Silhouette Method showing the optimal k')"
      ]
     },
     "execution_count": 25,
     "metadata": {},
     "output_type": "execute_result"
    },
    {
     "data": {
      "image/png": "[encoded data removed]",
      "text/plain": [
       "<Figure size 1600x800 with 1 Axes>"
      ]
     },
     "metadata": {},
     "output_type": "display_data"
    }
   ],
   "source": [
    "K = range(2, 16)\n",
    "silhouette = []\n",
    "\n",
    "for k in K:\n",
    "    kmeans = KMeans(n_clusters=k,\n",
    "                    random_state=1234, n_init='auto')\n",
    "    kmeans.fit(X_scaled_df)\n",
    "    \n",
    "    filename = \"Model/kmeans_\" + str(k) + \".pickle\"\n",
    "    with open(filename, \"wb\") as f:\n",
    "        pickle.dump(kmeans,f)\n",
    "    \n",
    "    silhouette.append(silhouette_score(X_scaled_df, kmeans.predict(X_scaled_df)))\n",
    "\n",
    "\n",
    "plt.figure(figsize=(16,8))\n",
    "plt.plot(K, silhouette, 'bx-')\n",
    "plt.xlabel('k')\n",
    "plt.ylabel('silhouette score')\n",
    "plt.xticks(np.arange(min(K), max(K)+1, 1.0))\n",
    "plt.title('Silhouette Method showing the optimal k')"
   ]
  },
  {
   "cell_type": "markdown",
   "id": "138e7f5e",
   "metadata": {},
   "source": [
    "#### User Input"
   ]
  },
  {
   "cell_type": "markdown",
   "id": "a4dda4ce",
   "metadata": {},
   "source": [
    "User inputs song\n",
    "search the song - > ID\n",
    "Audio features of the song\n",
    "scale\n",
    "predict the cluster\n",
    "recommand a song from the cluster. Input track ID into the integrated player"
   ]
  },
  {
   "cell_type": "code",
   "execution_count": 29,
   "id": "3954b77c",
   "metadata": {},
   "outputs": [
    {
     "name": "stdout",
     "output_type": "stream",
     "text": [
      "Requirement already satisfied: fuzzywuzzy in c:\\users\\flori\\anaconda4\\lib\\site-packages (0.18.0)\n"
     ]
    }
   ],
   "source": [
    "!pip install fuzzywuzzy\n",
    "from fuzzywuzzy import fuzz\n",
    "import config\n",
    "import spotipy\n",
    "import pandas as pd\n",
    "import json\n",
    "from spotipy.oauth2 import SpotifyClientCredentials\n",
    "from IPython.display import IFrame\n",
    "from IPython.display import display, HTML\n",
    "\n",
    "#Initialize SpotiPy with user credentials\n",
    "sp = spotipy.Spotify(auth_manager=SpotifyClientCredentials(client_id= config.client_id,\n",
    "                                                           client_secret= config.client_secret))"
   ]
  },
  {
   "cell_type": "code",
   "execution_count": 30,
   "id": "6591d262",
   "metadata": {},
   "outputs": [],
   "source": [
    "# Import Top 100 DF\n",
    "top100_df= pd.read_csv('top100_songs.csv')"
   ]
  },
  {
   "cell_type": "markdown",
   "id": "2271d54c",
   "metadata": {},
   "source": [
    "### Final recommender"
   ]
  },
  {
   "cell_type": "code",
   "execution_count": 35,
   "id": "fe887cb2",
   "metadata": {},
   "outputs": [
    {
     "name": "stdout",
     "output_type": "stream",
     "text": [
      "Enter a song title: Despacito\n",
      "Sorry, the song 'Despacito' is not hot. If you want to listen to it anyway:\n"
     ]
    },
    {
     "name": "stderr",
     "output_type": "stream",
     "text": [
      "C:\\Users\\flori\\anaconda4\\Lib\\site-packages\\IPython\\core\\display.py:431: UserWarning: Consider using IPython.display.IFrame instead\n",
      "  warnings.warn(\"Consider using IPython.display.IFrame instead\")\n"
     ]
    },
    {
     "data": {
      "text/html": [
       "<iframe src=\"https://open.spotify.com/embed/track/6habFhsOp2NvshLv26DqMb\" width=\"320\" height=\"80\" frameborder=\"0\" allowtransparency=\"true\" allow=\"encrypted-media\"></iframe>"
      ],
      "text/plain": [
       "<IPython.core.display.HTML object>"
      ]
     },
     "metadata": {},
     "output_type": "display_data"
    },
    {
     "name": "stdout",
     "output_type": "stream",
     "text": [
      "But I recommend playing this similar song. I am sure you will love it\n"
     ]
    },
    {
     "name": "stderr",
     "output_type": "stream",
     "text": [
      "C:\\Users\\flori\\anaconda4\\Lib\\site-packages\\IPython\\core\\display.py:431: UserWarning: Consider using IPython.display.IFrame instead\n",
      "  warnings.warn(\"Consider using IPython.display.IFrame instead\")\n"
     ]
    },
    {
     "data": {
      "text/html": [
       "<iframe src=\"https://open.spotify.com/embed/track/1HibhNhwk2tljwC4BGGLXV\" width=\"320\" height=\"80\" frameborder=\"0\" allowtransparency=\"true\" allow=\"encrypted-media\"></iframe>"
      ],
      "text/plain": [
       "<IPython.core.display.HTML object>"
      ]
     },
     "metadata": {},
     "output_type": "display_data"
    }
   ],
   "source": [
    "while True:\n",
    "    # Input a song title\n",
    "    user_input = input(\"Enter a song title: \")\n",
    "\n",
    "    # User input song\n",
    "    user_input_lower = user_input.lower()\n",
    "    # song titles to lowercase\n",
    "    top100_df['Song_lower'] = top100_df['Song'].str.lower()\n",
    "\n",
    "    # Check if user input is an exact match or a fuzzy match\n",
    "    exact_match = user_input_lower in top100_df['Song_lower'].values\n",
    "    fuzzy_match = top100_df['Song_lower'].apply(lambda x: fuzz.partial_ratio(user_input_lower, x) > 80).any()\n",
    "\n",
    "    if exact_match or fuzzy_match:\n",
    "        print(f\"{user_input} is hot!\")\n",
    "\n",
    "        # Recommend another song\n",
    "        recommended_song = top100_df[top100_df['Song_lower'] != user_input_lower].sample(1)[['Song', 'Artist']].values[0]\n",
    "        recommended_song_title, recommended_artist = recommended_song\n",
    "\n",
    "        print(f\"You might like this song as well: {recommended_song_title.capitalize()} by {recommended_artist.capitalize()}\")\n",
    "        \n",
    "        # Get the track ID for the recommended song from Spotify\n",
    "        results = sp.search(q=f\"{recommended_song_title} {recommended_artist}\", limit=1, market=\"GB\")\n",
    "        track_id = results[\"tracks\"][\"items\"][0][\"id\"]\n",
    "\n",
    "        # Embed the player\n",
    "        iframe_code = f'<iframe src=\"https://open.spotify.com/embed/track/{track_id}\" width=\"320\" height=\"80\" frameborder=\"0\" allowtransparency=\"true\" allow=\"encrypted-media\"></iframe>'\n",
    "        display(HTML(iframe_code))\n",
    "        \n",
    "        # Drop temporary column \n",
    "        top100_df.drop(columns=['Song_lower'], inplace=True)\n",
    "        \n",
    "        break \n",
    "    else:\n",
    "        print(f\"Sorry, the song '{user_input}' is not hot. If you want to listen to it anyway:\")\n",
    "         # Drop temporary column\n",
    "        top100_df.drop(columns=['Song_lower'], inplace=True)\n",
    "        results = sp.search(q={user_input},limit=5)\n",
    "        track_id=results[\"tracks\"][\"items\"][0][\"id\"]\n",
    "        \n",
    "        # Embed the player to show song (user input)\n",
    "        iframe_code = f'<iframe src=\"https://open.spotify.com/embed/track/{track_id}\" width=\"320\" height=\"80\" frameborder=\"0\" allowtransparency=\"true\" allow=\"encrypted-media\"></iframe>'\n",
    "        display(HTML(iframe_code))\n",
    "        \n",
    "        print(\"But I recommend playing this similar song. I am sure you will love it\")\n",
    "        \n",
    "        # Get audio feautures from song that the user has searched for\n",
    "        audio_feautures = sp.audio_features(track_id)\n",
    "        df_song_userinput = pd.DataFrame(audio_feautures)\n",
    "        # drop non numerical columns\n",
    "        columns_numerical_song = ['danceability', 'energy', 'key', 'loudness', 'mode', 'speechiness', 'acousticness', 'instrumentalness', 'liveness', 'valence', 'tempo']\n",
    "        df_song_userinput = df_song_userinput[columns_numerical_song]\n",
    "        #Scaling song features\n",
    "        X_song = df_song_userinput\n",
    "        X_song_scaled = scaler.transform(X_song)\n",
    "        X_song_scaled_df = pd.DataFrame(X_song_scaled, columns = X_song.columns)\n",
    "        # Predict cluster\n",
    "        cluster_pred = kmeans.predict(X_song_scaled_df)\n",
    "        cluster_pred = cluster_pred.item()\n",
    "        # Pull sample of predicted cluster\n",
    "        song_rec = X[X['cluster'] == cluster_pred].sample() \n",
    "        # get index of recommended sample song: \n",
    "        song_rec.index[0]\n",
    "        song_to_play = df_combined.loc[song_rec.index[0]]\n",
    "        ##Extract Track ID song to play\n",
    "        song_to_play_ID = song_to_play['id']\n",
    "        # Embed the player to play recommondation\n",
    "        iframe_code = f'<iframe src=\"https://open.spotify.com/embed/track/{song_to_play_ID}\" width=\"320\" height=\"80\" frameborder=\"0\" allowtransparency=\"true\" allow=\"encrypted-media\"></iframe>'\n",
    "        display(HTML(iframe_code))\n",
    "        break\n"
   ]
  },
  {
   "cell_type": "code",
   "execution_count": null,
   "id": "ebc6dd74",
   "metadata": {},
   "outputs": [],
   "source": []
  }
 ],
 "metadata": {
  "kernelspec": {
   "display_name": "Python 3 (ipykernel)",
   "language": "python",
   "name": "python3"
  },
  "language_info": {
   "codemirror_mode": {
    "name": "ipython",
    "version": 3
   },
   "file_extension": ".py",
   "mimetype": "text/x-python",
   "name": "python",
   "nbconvert_exporter": "python",
   "pygments_lexer": "ipython3",
   "version": "3.11.5"
  }
 },
 "nbformat": 4,
 "nbformat_minor": 5
}
