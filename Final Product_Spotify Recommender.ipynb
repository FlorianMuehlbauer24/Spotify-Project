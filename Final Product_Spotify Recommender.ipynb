{
 "cells": [
  {
   "cell_type": "code",
   "execution_count": 63,
   "id": "d52f4707",
   "metadata": {},
   "outputs": [],
   "source": [
    "import numpy as np\n",
    "import pandas as pd\n",
    "import pickle\n",
    "from sklearn import datasets # sklearn comes with some toy datasets to practice\n",
    "from sklearn.preprocessing import StandardScaler\n",
    "from sklearn.cluster import KMeans\n",
    "import matplotlib.pyplot as plt\n",
    "from sklearn.metrics import silhouette_score"
   ]
  },
  {
   "cell_type": "markdown",
   "id": "96ca2a96",
   "metadata": {},
   "source": [
    "### Model creation\n",
    "(Upload dataframe)\n",
    "1. numerical Varibales only - > drop other columns\n",
    "2. scale\n",
    "3. train kmeans + (pickle)\n",
    "create model\n",
    "\n",
    "### User Input\n",
    "- User inputs song\n",
    "- search the song - > ID\n",
    "- Audio features of the song\n",
    "- scale\n",
    "- predict the cluster\n",
    "- recommand a song from the cluster. Input track ID into the integrated player"
   ]
  },
  {
   "cell_type": "markdown",
   "id": "70821af3",
   "metadata": {},
   "source": [
    "#### Loading the  combined spotify dataset"
   ]
  },
  {
   "cell_type": "code",
   "execution_count": 64,
   "id": "7f88b43f",
   "metadata": {},
   "outputs": [],
   "source": [
    "df_combined = pd.read_csv('df_combined.csv')"
   ]
  },
  {
   "cell_type": "markdown",
   "id": "50e5e969",
   "metadata": {},
   "source": [
    "### Use numerical columns only"
   ]
  },
  {
   "cell_type": "code",
   "execution_count": 65,
   "id": "b519030f",
   "metadata": {},
   "outputs": [
    {
     "data": {
      "text/plain": [
       "Index(['Unnamed: 0', 'danceability', 'energy', 'key', 'loudness', 'mode',\n",
       "       'speechiness', 'acousticness', 'instrumentalness', 'liveness',\n",
       "       'valence', 'tempo', 'type', 'id', 'uri', 'track_href', 'analysis_url',\n",
       "       'duration_ms', 'time_signature'],\n",
       "      dtype='object')"
      ]
     },
     "execution_count": 65,
     "metadata": {},
     "output_type": "execute_result"
    }
   ],
   "source": [
    "df_combined.columns"
   ]
  },
  {
   "cell_type": "code",
   "execution_count": 66,
   "id": "ec3f86e6",
   "metadata": {},
   "outputs": [],
   "source": [
    "columns_numerical = ['danceability', 'energy', 'key', 'loudness', 'mode',\n",
    "                     'speechiness', 'acousticness', 'instrumentalness', 'liveness',\n",
    "                     'valence', 'tempo']\n",
    "\n",
    "df_combined_numerical = df_combined[columns_numerical]"
   ]
  },
  {
   "cell_type": "code",
   "execution_count": 67,
   "id": "51d33637",
   "metadata": {},
   "outputs": [
    {
     "data": {
      "text/html": [
       "<div>\n",
       "<style scoped>\n",
       "    .dataframe tbody tr th:only-of-type {\n",
       "        vertical-align: middle;\n",
       "    }\n",
       "\n",
       "    .dataframe tbody tr th {\n",
       "        vertical-align: top;\n",
       "    }\n",
       "\n",
       "    .dataframe thead th {\n",
       "        text-align: right;\n",
       "    }\n",
       "</style>\n",
       "<table border=\"1\" class=\"dataframe\">\n",
       "  <thead>\n",
       "    <tr style=\"text-align: right;\">\n",
       "      <th></th>\n",
       "      <th>danceability</th>\n",
       "      <th>energy</th>\n",
       "      <th>key</th>\n",
       "      <th>loudness</th>\n",
       "      <th>mode</th>\n",
       "      <th>speechiness</th>\n",
       "      <th>acousticness</th>\n",
       "      <th>instrumentalness</th>\n",
       "      <th>liveness</th>\n",
       "      <th>valence</th>\n",
       "      <th>tempo</th>\n",
       "    </tr>\n",
       "  </thead>\n",
       "  <tbody>\n",
       "    <tr>\n",
       "      <th>0</th>\n",
       "      <td>0.697</td>\n",
       "      <td>0.832</td>\n",
       "      <td>9</td>\n",
       "      <td>-7.264</td>\n",
       "      <td>1</td>\n",
       "      <td>0.0298</td>\n",
       "      <td>0.168000</td>\n",
       "      <td>0.001310</td>\n",
       "      <td>0.2690</td>\n",
       "      <td>0.979</td>\n",
       "      <td>125.926</td>\n",
       "    </tr>\n",
       "    <tr>\n",
       "      <th>1</th>\n",
       "      <td>0.645</td>\n",
       "      <td>0.795</td>\n",
       "      <td>7</td>\n",
       "      <td>-12.095</td>\n",
       "      <td>1</td>\n",
       "      <td>0.0527</td>\n",
       "      <td>0.347000</td>\n",
       "      <td>0.003890</td>\n",
       "      <td>0.1040</td>\n",
       "      <td>0.535</td>\n",
       "      <td>112.067</td>\n",
       "    </tr>\n",
       "    <tr>\n",
       "      <th>2</th>\n",
       "      <td>0.629</td>\n",
       "      <td>0.545</td>\n",
       "      <td>10</td>\n",
       "      <td>-13.123</td>\n",
       "      <td>0</td>\n",
       "      <td>0.0546</td>\n",
       "      <td>0.719000</td>\n",
       "      <td>0.003080</td>\n",
       "      <td>0.0604</td>\n",
       "      <td>0.194</td>\n",
       "      <td>108.376</td>\n",
       "    </tr>\n",
       "    <tr>\n",
       "      <th>3</th>\n",
       "      <td>0.650</td>\n",
       "      <td>0.306</td>\n",
       "      <td>9</td>\n",
       "      <td>-9.443</td>\n",
       "      <td>1</td>\n",
       "      <td>0.0393</td>\n",
       "      <td>0.570000</td>\n",
       "      <td>0.000007</td>\n",
       "      <td>0.0707</td>\n",
       "      <td>0.605</td>\n",
       "      <td>118.068</td>\n",
       "    </tr>\n",
       "    <tr>\n",
       "      <th>4</th>\n",
       "      <td>0.502</td>\n",
       "      <td>0.912</td>\n",
       "      <td>1</td>\n",
       "      <td>-4.556</td>\n",
       "      <td>1</td>\n",
       "      <td>0.0564</td>\n",
       "      <td>0.000025</td>\n",
       "      <td>0.000173</td>\n",
       "      <td>0.1060</td>\n",
       "      <td>0.720</td>\n",
       "      <td>116.761</td>\n",
       "    </tr>\n",
       "    <tr>\n",
       "      <th>...</th>\n",
       "      <td>...</td>\n",
       "      <td>...</td>\n",
       "      <td>...</td>\n",
       "      <td>...</td>\n",
       "      <td>...</td>\n",
       "      <td>...</td>\n",
       "      <td>...</td>\n",
       "      <td>...</td>\n",
       "      <td>...</td>\n",
       "      <td>...</td>\n",
       "      <td>...</td>\n",
       "    </tr>\n",
       "    <tr>\n",
       "      <th>8882</th>\n",
       "      <td>0.490</td>\n",
       "      <td>0.352</td>\n",
       "      <td>6</td>\n",
       "      <td>-11.577</td>\n",
       "      <td>0</td>\n",
       "      <td>0.0254</td>\n",
       "      <td>0.709000</td>\n",
       "      <td>0.085600</td>\n",
       "      <td>0.1140</td>\n",
       "      <td>0.166</td>\n",
       "      <td>99.992</td>\n",
       "    </tr>\n",
       "    <tr>\n",
       "      <th>8883</th>\n",
       "      <td>0.527</td>\n",
       "      <td>0.591</td>\n",
       "      <td>6</td>\n",
       "      <td>-7.664</td>\n",
       "      <td>0</td>\n",
       "      <td>0.0396</td>\n",
       "      <td>0.194000</td>\n",
       "      <td>0.019400</td>\n",
       "      <td>0.0907</td>\n",
       "      <td>0.461</td>\n",
       "      <td>123.167</td>\n",
       "    </tr>\n",
       "    <tr>\n",
       "      <th>8884</th>\n",
       "      <td>0.420</td>\n",
       "      <td>0.837</td>\n",
       "      <td>2</td>\n",
       "      <td>-5.240</td>\n",
       "      <td>1</td>\n",
       "      <td>0.0610</td>\n",
       "      <td>0.215000</td>\n",
       "      <td>0.000030</td>\n",
       "      <td>0.0876</td>\n",
       "      <td>0.196</td>\n",
       "      <td>75.043</td>\n",
       "    </tr>\n",
       "    <tr>\n",
       "      <th>8885</th>\n",
       "      <td>0.648</td>\n",
       "      <td>0.594</td>\n",
       "      <td>11</td>\n",
       "      <td>-7.027</td>\n",
       "      <td>0</td>\n",
       "      <td>0.0293</td>\n",
       "      <td>0.114000</td>\n",
       "      <td>0.046200</td>\n",
       "      <td>0.1160</td>\n",
       "      <td>0.544</td>\n",
       "      <td>113.983</td>\n",
       "    </tr>\n",
       "    <tr>\n",
       "      <th>8886</th>\n",
       "      <td>0.852</td>\n",
       "      <td>0.747</td>\n",
       "      <td>11</td>\n",
       "      <td>-3.666</td>\n",
       "      <td>0</td>\n",
       "      <td>0.1690</td>\n",
       "      <td>0.031100</td>\n",
       "      <td>0.000000</td>\n",
       "      <td>0.0789</td>\n",
       "      <td>0.898</td>\n",
       "      <td>148.005</td>\n",
       "    </tr>\n",
       "  </tbody>\n",
       "</table>\n",
       "<p>8887 rows × 11 columns</p>\n",
       "</div>"
      ],
      "text/plain": [
       "      danceability  energy  key  loudness  mode  speechiness  acousticness  \\\n",
       "0            0.697   0.832    9    -7.264     1       0.0298      0.168000   \n",
       "1            0.645   0.795    7   -12.095     1       0.0527      0.347000   \n",
       "2            0.629   0.545   10   -13.123     0       0.0546      0.719000   \n",
       "3            0.650   0.306    9    -9.443     1       0.0393      0.570000   \n",
       "4            0.502   0.912    1    -4.556     1       0.0564      0.000025   \n",
       "...            ...     ...  ...       ...   ...          ...           ...   \n",
       "8882         0.490   0.352    6   -11.577     0       0.0254      0.709000   \n",
       "8883         0.527   0.591    6    -7.664     0       0.0396      0.194000   \n",
       "8884         0.420   0.837    2    -5.240     1       0.0610      0.215000   \n",
       "8885         0.648   0.594   11    -7.027     0       0.0293      0.114000   \n",
       "8886         0.852   0.747   11    -3.666     0       0.1690      0.031100   \n",
       "\n",
       "      instrumentalness  liveness  valence    tempo  \n",
       "0             0.001310    0.2690    0.979  125.926  \n",
       "1             0.003890    0.1040    0.535  112.067  \n",
       "2             0.003080    0.0604    0.194  108.376  \n",
       "3             0.000007    0.0707    0.605  118.068  \n",
       "4             0.000173    0.1060    0.720  116.761  \n",
       "...                ...       ...      ...      ...  \n",
       "8882          0.085600    0.1140    0.166   99.992  \n",
       "8883          0.019400    0.0907    0.461  123.167  \n",
       "8884          0.000030    0.0876    0.196   75.043  \n",
       "8885          0.046200    0.1160    0.544  113.983  \n",
       "8886          0.000000    0.0789    0.898  148.005  \n",
       "\n",
       "[8887 rows x 11 columns]"
      ]
     },
     "execution_count": 67,
     "metadata": {},
     "output_type": "execute_result"
    }
   ],
   "source": [
    "X = df_combined_numerical\n",
    "X"
   ]
  },
  {
   "cell_type": "markdown",
   "id": "fccfce49",
   "metadata": {},
   "source": [
    "### Scaling"
   ]
  },
  {
   "cell_type": "code",
   "execution_count": 68,
   "id": "e7809809",
   "metadata": {},
   "outputs": [
    {
     "name": "stdout",
     "output_type": "stream",
     "text": [
      "\n"
     ]
    },
    {
     "data": {
      "text/html": [
       "<div>\n",
       "<style scoped>\n",
       "    .dataframe tbody tr th:only-of-type {\n",
       "        vertical-align: middle;\n",
       "    }\n",
       "\n",
       "    .dataframe tbody tr th {\n",
       "        vertical-align: top;\n",
       "    }\n",
       "\n",
       "    .dataframe thead th {\n",
       "        text-align: right;\n",
       "    }\n",
       "</style>\n",
       "<table border=\"1\" class=\"dataframe\">\n",
       "  <thead>\n",
       "    <tr style=\"text-align: right;\">\n",
       "      <th></th>\n",
       "      <th>danceability</th>\n",
       "      <th>energy</th>\n",
       "      <th>key</th>\n",
       "      <th>loudness</th>\n",
       "      <th>mode</th>\n",
       "      <th>speechiness</th>\n",
       "      <th>acousticness</th>\n",
       "      <th>instrumentalness</th>\n",
       "      <th>liveness</th>\n",
       "      <th>valence</th>\n",
       "      <th>tempo</th>\n",
       "    </tr>\n",
       "  </thead>\n",
       "  <tbody>\n",
       "    <tr>\n",
       "      <th>0</th>\n",
       "      <td>0.676171</td>\n",
       "      <td>0.932511</td>\n",
       "      <td>1.047296</td>\n",
       "      <td>0.308655</td>\n",
       "      <td>0.755261</td>\n",
       "      <td>-0.592008</td>\n",
       "      <td>-0.323509</td>\n",
       "      <td>-0.388989</td>\n",
       "      <td>0.476054</td>\n",
       "      <td>1.826335</td>\n",
       "      <td>0.196506</td>\n",
       "    </tr>\n",
       "    <tr>\n",
       "      <th>1</th>\n",
       "      <td>0.369742</td>\n",
       "      <td>0.763789</td>\n",
       "      <td>0.489571</td>\n",
       "      <td>-0.952799</td>\n",
       "      <td>0.755261</td>\n",
       "      <td>-0.321495</td>\n",
       "      <td>0.309478</td>\n",
       "      <td>-0.377482</td>\n",
       "      <td>-0.530593</td>\n",
       "      <td>0.065028</td>\n",
       "      <td>-0.292673</td>\n",
       "    </tr>\n",
       "    <tr>\n",
       "      <th>2</th>\n",
       "      <td>0.275456</td>\n",
       "      <td>-0.376226</td>\n",
       "      <td>1.326158</td>\n",
       "      <td>-1.221226</td>\n",
       "      <td>-1.324046</td>\n",
       "      <td>-0.299051</td>\n",
       "      <td>1.624958</td>\n",
       "      <td>-0.381094</td>\n",
       "      <td>-0.796591</td>\n",
       "      <td>-1.287688</td>\n",
       "      <td>-0.422953</td>\n",
       "    </tr>\n",
       "    <tr>\n",
       "      <th>3</th>\n",
       "      <td>0.399206</td>\n",
       "      <td>-1.466080</td>\n",
       "      <td>1.047296</td>\n",
       "      <td>-0.260318</td>\n",
       "      <td>0.755261</td>\n",
       "      <td>-0.479787</td>\n",
       "      <td>1.098059</td>\n",
       "      <td>-0.394800</td>\n",
       "      <td>-0.733752</td>\n",
       "      <td>0.342712</td>\n",
       "      <td>-0.080856</td>\n",
       "    </tr>\n",
       "    <tr>\n",
       "      <th>4</th>\n",
       "      <td>-0.472939</td>\n",
       "      <td>1.297316</td>\n",
       "      <td>-1.183605</td>\n",
       "      <td>1.015758</td>\n",
       "      <td>0.755261</td>\n",
       "      <td>-0.277788</td>\n",
       "      <td>-0.917507</td>\n",
       "      <td>-0.394060</td>\n",
       "      <td>-0.518391</td>\n",
       "      <td>0.798906</td>\n",
       "      <td>-0.126989</td>\n",
       "    </tr>\n",
       "  </tbody>\n",
       "</table>\n",
       "</div>"
      ],
      "text/plain": [
       "   danceability    energy       key  loudness      mode  speechiness  \\\n",
       "0      0.676171  0.932511  1.047296  0.308655  0.755261    -0.592008   \n",
       "1      0.369742  0.763789  0.489571 -0.952799  0.755261    -0.321495   \n",
       "2      0.275456 -0.376226  1.326158 -1.221226 -1.324046    -0.299051   \n",
       "3      0.399206 -1.466080  1.047296 -0.260318  0.755261    -0.479787   \n",
       "4     -0.472939  1.297316 -1.183605  1.015758  0.755261    -0.277788   \n",
       "\n",
       "   acousticness  instrumentalness  liveness   valence     tempo  \n",
       "0     -0.323509         -0.388989  0.476054  1.826335  0.196506  \n",
       "1      0.309478         -0.377482 -0.530593  0.065028 -0.292673  \n",
       "2      1.624958         -0.381094 -0.796591 -1.287688 -0.422953  \n",
       "3      1.098059         -0.394800 -0.733752  0.342712 -0.080856  \n",
       "4     -0.917507         -0.394060 -0.518391  0.798906 -0.126989  "
      ]
     },
     "metadata": {},
     "output_type": "display_data"
    }
   ],
   "source": [
    "scaler = StandardScaler()\n",
    "scaler.fit(X)\n",
    "X_scaled = scaler.transform(X)\n",
    "X_scaled_df = pd.DataFrame(X_scaled, columns = X.columns)\n",
    "#display(X.head())\n",
    "print()\n",
    "display(X_scaled_df.head())"
   ]
  },
  {
   "cell_type": "code",
   "execution_count": 69,
   "id": "a52238d5",
   "metadata": {},
   "outputs": [
    {
     "data": {
      "text/html": [
       "<div>\n",
       "<style scoped>\n",
       "    .dataframe tbody tr th:only-of-type {\n",
       "        vertical-align: middle;\n",
       "    }\n",
       "\n",
       "    .dataframe tbody tr th {\n",
       "        vertical-align: top;\n",
       "    }\n",
       "\n",
       "    .dataframe thead th {\n",
       "        text-align: right;\n",
       "    }\n",
       "</style>\n",
       "<table border=\"1\" class=\"dataframe\">\n",
       "  <thead>\n",
       "    <tr style=\"text-align: right;\">\n",
       "      <th></th>\n",
       "      <th>danceability</th>\n",
       "      <th>energy</th>\n",
       "      <th>key</th>\n",
       "      <th>loudness</th>\n",
       "      <th>mode</th>\n",
       "      <th>speechiness</th>\n",
       "      <th>acousticness</th>\n",
       "      <th>instrumentalness</th>\n",
       "      <th>liveness</th>\n",
       "      <th>valence</th>\n",
       "      <th>tempo</th>\n",
       "    </tr>\n",
       "  </thead>\n",
       "  <tbody>\n",
       "    <tr>\n",
       "      <th>count</th>\n",
       "      <td>8887.000000</td>\n",
       "      <td>8887.000000</td>\n",
       "      <td>8887.000000</td>\n",
       "      <td>8887.000000</td>\n",
       "      <td>8887.000000</td>\n",
       "      <td>8887.000000</td>\n",
       "      <td>8887.000000</td>\n",
       "      <td>8887.000000</td>\n",
       "      <td>8887.00000</td>\n",
       "      <td>8887.000000</td>\n",
       "      <td>8887.000000</td>\n",
       "    </tr>\n",
       "    <tr>\n",
       "      <th>mean</th>\n",
       "      <td>0.582256</td>\n",
       "      <td>0.627505</td>\n",
       "      <td>5.244402</td>\n",
       "      <td>-8.446058</td>\n",
       "      <td>0.636773</td>\n",
       "      <td>0.079916</td>\n",
       "      <td>0.259484</td>\n",
       "      <td>0.088523</td>\n",
       "      <td>0.19097</td>\n",
       "      <td>0.518607</td>\n",
       "      <td>120.358756</td>\n",
       "    </tr>\n",
       "    <tr>\n",
       "      <th>std</th>\n",
       "      <td>0.169706</td>\n",
       "      <td>0.219308</td>\n",
       "      <td>3.586197</td>\n",
       "      <td>3.829925</td>\n",
       "      <td>0.480957</td>\n",
       "      <td>0.084659</td>\n",
       "      <td>0.282802</td>\n",
       "      <td>0.224217</td>\n",
       "      <td>0.16392</td>\n",
       "      <td>0.252100</td>\n",
       "      <td>28.332737</td>\n",
       "    </tr>\n",
       "    <tr>\n",
       "      <th>min</th>\n",
       "      <td>0.000000</td>\n",
       "      <td>0.000020</td>\n",
       "      <td>0.000000</td>\n",
       "      <td>-60.000000</td>\n",
       "      <td>0.000000</td>\n",
       "      <td>0.000000</td>\n",
       "      <td>0.000000</td>\n",
       "      <td>0.000000</td>\n",
       "      <td>0.01200</td>\n",
       "      <td>0.000000</td>\n",
       "      <td>0.000000</td>\n",
       "    </tr>\n",
       "    <tr>\n",
       "      <th>25%</th>\n",
       "      <td>0.464000</td>\n",
       "      <td>0.475000</td>\n",
       "      <td>2.000000</td>\n",
       "      <td>-10.440000</td>\n",
       "      <td>0.000000</td>\n",
       "      <td>0.034300</td>\n",
       "      <td>0.024500</td>\n",
       "      <td>0.000000</td>\n",
       "      <td>0.09130</td>\n",
       "      <td>0.313000</td>\n",
       "      <td>98.935500</td>\n",
       "    </tr>\n",
       "    <tr>\n",
       "      <th>50%</th>\n",
       "      <td>0.595000</td>\n",
       "      <td>0.652000</td>\n",
       "      <td>5.000000</td>\n",
       "      <td>-7.734000</td>\n",
       "      <td>1.000000</td>\n",
       "      <td>0.045700</td>\n",
       "      <td>0.142000</td>\n",
       "      <td>0.000091</td>\n",
       "      <td>0.12400</td>\n",
       "      <td>0.520000</td>\n",
       "      <td>119.899000</td>\n",
       "    </tr>\n",
       "    <tr>\n",
       "      <th>75%</th>\n",
       "      <td>0.708000</td>\n",
       "      <td>0.804000</td>\n",
       "      <td>8.000000</td>\n",
       "      <td>-5.715000</td>\n",
       "      <td>1.000000</td>\n",
       "      <td>0.080500</td>\n",
       "      <td>0.435000</td>\n",
       "      <td>0.012200</td>\n",
       "      <td>0.24200</td>\n",
       "      <td>0.726000</td>\n",
       "      <td>137.545500</td>\n",
       "    </tr>\n",
       "    <tr>\n",
       "      <th>max</th>\n",
       "      <td>0.979000</td>\n",
       "      <td>0.999000</td>\n",
       "      <td>11.000000</td>\n",
       "      <td>0.915000</td>\n",
       "      <td>1.000000</td>\n",
       "      <td>0.832000</td>\n",
       "      <td>0.995000</td>\n",
       "      <td>0.985000</td>\n",
       "      <td>0.99300</td>\n",
       "      <td>0.989000</td>\n",
       "      <td>212.336000</td>\n",
       "    </tr>\n",
       "  </tbody>\n",
       "</table>\n",
       "</div>"
      ],
      "text/plain": [
       "       danceability       energy          key     loudness         mode  \\\n",
       "count   8887.000000  8887.000000  8887.000000  8887.000000  8887.000000   \n",
       "mean       0.582256     0.627505     5.244402    -8.446058     0.636773   \n",
       "std        0.169706     0.219308     3.586197     3.829925     0.480957   \n",
       "min        0.000000     0.000020     0.000000   -60.000000     0.000000   \n",
       "25%        0.464000     0.475000     2.000000   -10.440000     0.000000   \n",
       "50%        0.595000     0.652000     5.000000    -7.734000     1.000000   \n",
       "75%        0.708000     0.804000     8.000000    -5.715000     1.000000   \n",
       "max        0.979000     0.999000    11.000000     0.915000     1.000000   \n",
       "\n",
       "       speechiness  acousticness  instrumentalness    liveness      valence  \\\n",
       "count  8887.000000   8887.000000       8887.000000  8887.00000  8887.000000   \n",
       "mean      0.079916      0.259484          0.088523     0.19097     0.518607   \n",
       "std       0.084659      0.282802          0.224217     0.16392     0.252100   \n",
       "min       0.000000      0.000000          0.000000     0.01200     0.000000   \n",
       "25%       0.034300      0.024500          0.000000     0.09130     0.313000   \n",
       "50%       0.045700      0.142000          0.000091     0.12400     0.520000   \n",
       "75%       0.080500      0.435000          0.012200     0.24200     0.726000   \n",
       "max       0.832000      0.995000          0.985000     0.99300     0.989000   \n",
       "\n",
       "             tempo  \n",
       "count  8887.000000  \n",
       "mean    120.358756  \n",
       "std      28.332737  \n",
       "min       0.000000  \n",
       "25%      98.935500  \n",
       "50%     119.899000  \n",
       "75%     137.545500  \n",
       "max     212.336000  "
      ]
     },
     "execution_count": 69,
     "metadata": {},
     "output_type": "execute_result"
    }
   ],
   "source": [
    "X.describe()"
   ]
  },
  {
   "cell_type": "code",
   "execution_count": 70,
   "id": "a22cbf4f",
   "metadata": {},
   "outputs": [
    {
     "data": {
      "text/html": [
       "<div>\n",
       "<style scoped>\n",
       "    .dataframe tbody tr th:only-of-type {\n",
       "        vertical-align: middle;\n",
       "    }\n",
       "\n",
       "    .dataframe tbody tr th {\n",
       "        vertical-align: top;\n",
       "    }\n",
       "\n",
       "    .dataframe thead th {\n",
       "        text-align: right;\n",
       "    }\n",
       "</style>\n",
       "<table border=\"1\" class=\"dataframe\">\n",
       "  <thead>\n",
       "    <tr style=\"text-align: right;\">\n",
       "      <th></th>\n",
       "      <th>danceability</th>\n",
       "      <th>energy</th>\n",
       "      <th>key</th>\n",
       "      <th>loudness</th>\n",
       "      <th>mode</th>\n",
       "      <th>speechiness</th>\n",
       "      <th>acousticness</th>\n",
       "      <th>instrumentalness</th>\n",
       "      <th>liveness</th>\n",
       "      <th>valence</th>\n",
       "      <th>tempo</th>\n",
       "    </tr>\n",
       "  </thead>\n",
       "  <tbody>\n",
       "    <tr>\n",
       "      <th>count</th>\n",
       "      <td>8.887000e+03</td>\n",
       "      <td>8.887000e+03</td>\n",
       "      <td>8.887000e+03</td>\n",
       "      <td>8.887000e+03</td>\n",
       "      <td>8.887000e+03</td>\n",
       "      <td>8.887000e+03</td>\n",
       "      <td>8.887000e+03</td>\n",
       "      <td>8.887000e+03</td>\n",
       "      <td>8.887000e+03</td>\n",
       "      <td>8.887000e+03</td>\n",
       "      <td>8.887000e+03</td>\n",
       "    </tr>\n",
       "    <tr>\n",
       "      <th>mean</th>\n",
       "      <td>-4.285483e-16</td>\n",
       "      <td>-3.933690e-16</td>\n",
       "      <td>7.475610e-17</td>\n",
       "      <td>-6.396244e-17</td>\n",
       "      <td>-1.599061e-17</td>\n",
       "      <td>4.477371e-17</td>\n",
       "      <td>2.398591e-16</td>\n",
       "      <td>-1.918873e-17</td>\n",
       "      <td>1.019401e-16</td>\n",
       "      <td>-4.893127e-16</td>\n",
       "      <td>6.092422e-16</td>\n",
       "    </tr>\n",
       "    <tr>\n",
       "      <th>std</th>\n",
       "      <td>1.000056e+00</td>\n",
       "      <td>1.000056e+00</td>\n",
       "      <td>1.000056e+00</td>\n",
       "      <td>1.000056e+00</td>\n",
       "      <td>1.000056e+00</td>\n",
       "      <td>1.000056e+00</td>\n",
       "      <td>1.000056e+00</td>\n",
       "      <td>1.000056e+00</td>\n",
       "      <td>1.000056e+00</td>\n",
       "      <td>1.000056e+00</td>\n",
       "      <td>1.000056e+00</td>\n",
       "    </tr>\n",
       "    <tr>\n",
       "      <th>min</th>\n",
       "      <td>-3.431159e+00</td>\n",
       "      <td>-2.861366e+00</td>\n",
       "      <td>-1.462468e+00</td>\n",
       "      <td>-1.346158e+01</td>\n",
       "      <td>-1.324046e+00</td>\n",
       "      <td>-9.440292e-01</td>\n",
       "      <td>-9.175969e-01</td>\n",
       "      <td>-3.948318e-01</td>\n",
       "      <td>-1.091874e+00</td>\n",
       "      <td>-2.057268e+00</td>\n",
       "      <td>-4.248285e+00</td>\n",
       "    </tr>\n",
       "    <tr>\n",
       "      <th>25%</th>\n",
       "      <td>-6.968676e-01</td>\n",
       "      <td>-6.954302e-01</td>\n",
       "      <td>-9.047424e-01</td>\n",
       "      <td>-5.206510e-01</td>\n",
       "      <td>-1.324046e+00</td>\n",
       "      <td>-5.388507e-01</td>\n",
       "      <td>-8.309590e-01</td>\n",
       "      <td>-3.948318e-01</td>\n",
       "      <td>-6.080738e-01</td>\n",
       "      <td>-8.156256e-01</td>\n",
       "      <td>-7.561734e-01</td>\n",
       "    </tr>\n",
       "    <tr>\n",
       "      <th>50%</th>\n",
       "      <td>7.509832e-02</td>\n",
       "      <td>1.117003e-01</td>\n",
       "      <td>-6.815456e-02</td>\n",
       "      <td>1.859300e-01</td>\n",
       "      <td>7.552608e-01</td>\n",
       "      <td>-4.041849e-01</td>\n",
       "      <td>-4.154511e-01</td>\n",
       "      <td>-3.944273e-01</td>\n",
       "      <td>-4.085747e-01</td>\n",
       "      <td>5.524385e-03</td>\n",
       "      <td>-1.622793e-02</td>\n",
       "    </tr>\n",
       "    <tr>\n",
       "      <th>75%</th>\n",
       "      <td>7.409926e-01</td>\n",
       "      <td>8.048293e-01</td>\n",
       "      <td>7.684332e-01</td>\n",
       "      <td>7.131241e-01</td>\n",
       "      <td>7.552608e-01</td>\n",
       "      <td>6.899985e-03</td>\n",
       "      <td>6.206665e-01</td>\n",
       "      <td>-3.404172e-01</td>\n",
       "      <td>3.113303e-01</td>\n",
       "      <td>8.227075e-01</td>\n",
       "      <td>6.066379e-01</td>\n",
       "    </tr>\n",
       "    <tr>\n",
       "      <th>max</th>\n",
       "      <td>2.337960e+00</td>\n",
       "      <td>1.694041e+00</td>\n",
       "      <td>1.605021e+00</td>\n",
       "      <td>2.444326e+00</td>\n",
       "      <td>7.552608e-01</td>\n",
       "      <td>8.884208e+00</td>\n",
       "      <td>2.600960e+00</td>\n",
       "      <td>3.998481e+00</td>\n",
       "      <td>4.893099e+00</td>\n",
       "      <td>1.866004e+00</td>\n",
       "      <td>3.246507e+00</td>\n",
       "    </tr>\n",
       "  </tbody>\n",
       "</table>\n",
       "</div>"
      ],
      "text/plain": [
       "       danceability        energy           key      loudness          mode  \\\n",
       "count  8.887000e+03  8.887000e+03  8.887000e+03  8.887000e+03  8.887000e+03   \n",
       "mean  -4.285483e-16 -3.933690e-16  7.475610e-17 -6.396244e-17 -1.599061e-17   \n",
       "std    1.000056e+00  1.000056e+00  1.000056e+00  1.000056e+00  1.000056e+00   \n",
       "min   -3.431159e+00 -2.861366e+00 -1.462468e+00 -1.346158e+01 -1.324046e+00   \n",
       "25%   -6.968676e-01 -6.954302e-01 -9.047424e-01 -5.206510e-01 -1.324046e+00   \n",
       "50%    7.509832e-02  1.117003e-01 -6.815456e-02  1.859300e-01  7.552608e-01   \n",
       "75%    7.409926e-01  8.048293e-01  7.684332e-01  7.131241e-01  7.552608e-01   \n",
       "max    2.337960e+00  1.694041e+00  1.605021e+00  2.444326e+00  7.552608e-01   \n",
       "\n",
       "        speechiness  acousticness  instrumentalness      liveness  \\\n",
       "count  8.887000e+03  8.887000e+03      8.887000e+03  8.887000e+03   \n",
       "mean   4.477371e-17  2.398591e-16     -1.918873e-17  1.019401e-16   \n",
       "std    1.000056e+00  1.000056e+00      1.000056e+00  1.000056e+00   \n",
       "min   -9.440292e-01 -9.175969e-01     -3.948318e-01 -1.091874e+00   \n",
       "25%   -5.388507e-01 -8.309590e-01     -3.948318e-01 -6.080738e-01   \n",
       "50%   -4.041849e-01 -4.154511e-01     -3.944273e-01 -4.085747e-01   \n",
       "75%    6.899985e-03  6.206665e-01     -3.404172e-01  3.113303e-01   \n",
       "max    8.884208e+00  2.600960e+00      3.998481e+00  4.893099e+00   \n",
       "\n",
       "            valence         tempo  \n",
       "count  8.887000e+03  8.887000e+03  \n",
       "mean  -4.893127e-16  6.092422e-16  \n",
       "std    1.000056e+00  1.000056e+00  \n",
       "min   -2.057268e+00 -4.248285e+00  \n",
       "25%   -8.156256e-01 -7.561734e-01  \n",
       "50%    5.524385e-03 -1.622793e-02  \n",
       "75%    8.227075e-01  6.066379e-01  \n",
       "max    1.866004e+00  3.246507e+00  "
      ]
     },
     "execution_count": 70,
     "metadata": {},
     "output_type": "execute_result"
    }
   ],
   "source": [
    "X_scaled_df.describe()"
   ]
  },
  {
   "cell_type": "markdown",
   "id": "ab5423a0",
   "metadata": {},
   "source": [
    "### Train Kmeans"
   ]
  },
  {
   "cell_type": "code",
   "execution_count": 71,
   "id": "89753452",
   "metadata": {},
   "outputs": [
    {
     "name": "stderr",
     "output_type": "stream",
     "text": [
      "C:\\Users\\flori\\anaconda4\\Lib\\site-packages\\sklearn\\cluster\\_kmeans.py:1412: FutureWarning: The default value of `n_init` will change from 10 to 'auto' in 1.4. Set the value of `n_init` explicitly to suppress the warning\n",
      "  super()._check_params_vs_input(X, default_n_init=10)\n"
     ]
    },
    {
     "data": {
      "text/html": [
       "<style>#sk-container-id-3 {color: black;}#sk-container-id-3 pre{padding: 0;}#sk-container-id-3 div.sk-toggleable {background-color: white;}#sk-container-id-3 label.sk-toggleable__label {cursor: pointer;display: block;width: 100%;margin-bottom: 0;padding: 0.3em;box-sizing: border-box;text-align: center;}#sk-container-id-3 label.sk-toggleable__label-arrow:before {content: \"▸\";float: left;margin-right: 0.25em;color: #696969;}#sk-container-id-3 label.sk-toggleable__label-arrow:hover:before {color: black;}#sk-container-id-3 div.sk-estimator:hover label.sk-toggleable__label-arrow:before {color: black;}#sk-container-id-3 div.sk-toggleable__content {max-height: 0;max-width: 0;overflow: hidden;text-align: left;background-color: #f0f8ff;}#sk-container-id-3 div.sk-toggleable__content pre {margin: 0.2em;color: black;border-radius: 0.25em;background-color: #f0f8ff;}#sk-container-id-3 input.sk-toggleable__control:checked~div.sk-toggleable__content {max-height: 200px;max-width: 100%;overflow: auto;}#sk-container-id-3 input.sk-toggleable__control:checked~label.sk-toggleable__label-arrow:before {content: \"▾\";}#sk-container-id-3 div.sk-estimator input.sk-toggleable__control:checked~label.sk-toggleable__label {background-color: #d4ebff;}#sk-container-id-3 div.sk-label input.sk-toggleable__control:checked~label.sk-toggleable__label {background-color: #d4ebff;}#sk-container-id-3 input.sk-hidden--visually {border: 0;clip: rect(1px 1px 1px 1px);clip: rect(1px, 1px, 1px, 1px);height: 1px;margin: -1px;overflow: hidden;padding: 0;position: absolute;width: 1px;}#sk-container-id-3 div.sk-estimator {font-family: monospace;background-color: #f0f8ff;border: 1px dotted black;border-radius: 0.25em;box-sizing: border-box;margin-bottom: 0.5em;}#sk-container-id-3 div.sk-estimator:hover {background-color: #d4ebff;}#sk-container-id-3 div.sk-parallel-item::after {content: \"\";width: 100%;border-bottom: 1px solid gray;flex-grow: 1;}#sk-container-id-3 div.sk-label:hover label.sk-toggleable__label {background-color: #d4ebff;}#sk-container-id-3 div.sk-serial::before {content: \"\";position: absolute;border-left: 1px solid gray;box-sizing: border-box;top: 0;bottom: 0;left: 50%;z-index: 0;}#sk-container-id-3 div.sk-serial {display: flex;flex-direction: column;align-items: center;background-color: white;padding-right: 0.2em;padding-left: 0.2em;position: relative;}#sk-container-id-3 div.sk-item {position: relative;z-index: 1;}#sk-container-id-3 div.sk-parallel {display: flex;align-items: stretch;justify-content: center;background-color: white;position: relative;}#sk-container-id-3 div.sk-item::before, #sk-container-id-3 div.sk-parallel-item::before {content: \"\";position: absolute;border-left: 1px solid gray;box-sizing: border-box;top: 0;bottom: 0;left: 50%;z-index: -1;}#sk-container-id-3 div.sk-parallel-item {display: flex;flex-direction: column;z-index: 1;position: relative;background-color: white;}#sk-container-id-3 div.sk-parallel-item:first-child::after {align-self: flex-end;width: 50%;}#sk-container-id-3 div.sk-parallel-item:last-child::after {align-self: flex-start;width: 50%;}#sk-container-id-3 div.sk-parallel-item:only-child::after {width: 0;}#sk-container-id-3 div.sk-dashed-wrapped {border: 1px dashed gray;margin: 0 0.4em 0.5em 0.4em;box-sizing: border-box;padding-bottom: 0.4em;background-color: white;}#sk-container-id-3 div.sk-label label {font-family: monospace;font-weight: bold;display: inline-block;line-height: 1.2em;}#sk-container-id-3 div.sk-label-container {text-align: center;}#sk-container-id-3 div.sk-container {/* jupyter's `normalize.less` sets `[hidden] { display: none; }` but bootstrap.min.css set `[hidden] { display: none !important; }` so we also need the `!important` here to be able to override the default hidden behavior on the sphinx rendered scikit-learn.org. See: https://github.com/scikit-learn/scikit-learn/issues/21755 */display: inline-block !important;position: relative;}#sk-container-id-3 div.sk-text-repr-fallback {display: none;}</style><div id=\"sk-container-id-3\" class=\"sk-top-container\"><div class=\"sk-text-repr-fallback\"><pre>KMeans(n_clusters=11, random_state=1234)</pre><b>In a Jupyter environment, please rerun this cell to show the HTML representation or trust the notebook. <br />On GitHub, the HTML representation is unable to render, please try loading this page with nbviewer.org.</b></div><div class=\"sk-container\" hidden><div class=\"sk-item\"><div class=\"sk-estimator sk-toggleable\"><input class=\"sk-toggleable__control sk-hidden--visually\" id=\"sk-estimator-id-3\" type=\"checkbox\" checked><label for=\"sk-estimator-id-3\" class=\"sk-toggleable__label sk-toggleable__label-arrow\">KMeans</label><div class=\"sk-toggleable__content\"><pre>KMeans(n_clusters=11, random_state=1234)</pre></div></div></div></div></div>"
      ],
      "text/plain": [
       "KMeans(n_clusters=11, random_state=1234)"
      ]
     },
     "execution_count": 71,
     "metadata": {},
     "output_type": "execute_result"
    }
   ],
   "source": [
    "kmeans = KMeans(n_clusters=11, random_state=1234)\n",
    "kmeans.fit(X_scaled_df)"
   ]
  },
  {
   "cell_type": "code",
   "execution_count": 72,
   "id": "86186771",
   "metadata": {},
   "outputs": [
    {
     "data": {
      "text/plain": [
       "array([5, 5, 7, ..., 0, 9, 9])"
      ]
     },
     "execution_count": 72,
     "metadata": {},
     "output_type": "execute_result"
    }
   ],
   "source": [
    "labels = kmeans.labels_\n",
    "labels"
   ]
  },
  {
   "cell_type": "code",
   "execution_count": 73,
   "id": "f4583696",
   "metadata": {},
   "outputs": [
    {
     "data": {
      "text/plain": [
       "array([ 0,  1,  2,  3,  4,  5,  6,  7,  8,  9, 10])"
      ]
     },
     "execution_count": 73,
     "metadata": {},
     "output_type": "execute_result"
    }
   ],
   "source": [
    "np.unique(labels)"
   ]
  },
  {
   "cell_type": "code",
   "execution_count": 74,
   "id": "cbdc6288",
   "metadata": {},
   "outputs": [
    {
     "data": {
      "text/plain": [
       "array([5, 5, 7, ..., 0, 9, 9])"
      ]
     },
     "execution_count": 74,
     "metadata": {},
     "output_type": "execute_result"
    }
   ],
   "source": [
    "clusters = kmeans.predict(X_scaled_df)\n",
    "clusters"
   ]
  },
  {
   "cell_type": "code",
   "execution_count": 41,
   "id": "ec172266",
   "metadata": {},
   "outputs": [
    {
     "data": {
      "text/plain": [
       "0     1070\n",
       "1      190\n",
       "2     1102\n",
       "3      799\n",
       "4      639\n",
       "5      464\n",
       "6     1067\n",
       "7      846\n",
       "8      729\n",
       "9     1390\n",
       "10     590\n",
       "Name: count, dtype: int64"
      ]
     },
     "execution_count": 41,
     "metadata": {},
     "output_type": "execute_result"
    }
   ],
   "source": [
    "clusters = kmeans.predict(X_scaled_df)\n",
    "#clusters\n",
    "pd.Series(clusters).value_counts().sort_index()"
   ]
  },
  {
   "cell_type": "code",
   "execution_count": 75,
   "id": "4e282648",
   "metadata": {},
   "outputs": [
    {
     "name": "stderr",
     "output_type": "stream",
     "text": [
      "C:\\Users\\flori\\AppData\\Local\\Temp\\ipykernel_7684\\3390344749.py:2: SettingWithCopyWarning: \n",
      "A value is trying to be set on a copy of a slice from a DataFrame.\n",
      "Try using .loc[row_indexer,col_indexer] = value instead\n",
      "\n",
      "See the caveats in the documentation: https://pandas.pydata.org/pandas-docs/stable/user_guide/indexing.html#returning-a-view-versus-a-copy\n",
      "  X[\"cluster\"] = clusters\n"
     ]
    },
    {
     "data": {
      "text/html": [
       "<div>\n",
       "<style scoped>\n",
       "    .dataframe tbody tr th:only-of-type {\n",
       "        vertical-align: middle;\n",
       "    }\n",
       "\n",
       "    .dataframe tbody tr th {\n",
       "        vertical-align: top;\n",
       "    }\n",
       "\n",
       "    .dataframe thead th {\n",
       "        text-align: right;\n",
       "    }\n",
       "</style>\n",
       "<table border=\"1\" class=\"dataframe\">\n",
       "  <thead>\n",
       "    <tr style=\"text-align: right;\">\n",
       "      <th></th>\n",
       "      <th>danceability</th>\n",
       "      <th>energy</th>\n",
       "      <th>key</th>\n",
       "      <th>loudness</th>\n",
       "      <th>mode</th>\n",
       "      <th>speechiness</th>\n",
       "      <th>acousticness</th>\n",
       "      <th>instrumentalness</th>\n",
       "      <th>liveness</th>\n",
       "      <th>valence</th>\n",
       "      <th>tempo</th>\n",
       "      <th>cluster</th>\n",
       "    </tr>\n",
       "  </thead>\n",
       "  <tbody>\n",
       "    <tr>\n",
       "      <th>0</th>\n",
       "      <td>0.697</td>\n",
       "      <td>0.832</td>\n",
       "      <td>9</td>\n",
       "      <td>-7.264</td>\n",
       "      <td>1</td>\n",
       "      <td>0.0298</td>\n",
       "      <td>0.168000</td>\n",
       "      <td>0.001310</td>\n",
       "      <td>0.2690</td>\n",
       "      <td>0.979</td>\n",
       "      <td>125.926</td>\n",
       "      <td>5</td>\n",
       "    </tr>\n",
       "    <tr>\n",
       "      <th>1</th>\n",
       "      <td>0.645</td>\n",
       "      <td>0.795</td>\n",
       "      <td>7</td>\n",
       "      <td>-12.095</td>\n",
       "      <td>1</td>\n",
       "      <td>0.0527</td>\n",
       "      <td>0.347000</td>\n",
       "      <td>0.003890</td>\n",
       "      <td>0.1040</td>\n",
       "      <td>0.535</td>\n",
       "      <td>112.067</td>\n",
       "      <td>5</td>\n",
       "    </tr>\n",
       "    <tr>\n",
       "      <th>2</th>\n",
       "      <td>0.629</td>\n",
       "      <td>0.545</td>\n",
       "      <td>10</td>\n",
       "      <td>-13.123</td>\n",
       "      <td>0</td>\n",
       "      <td>0.0546</td>\n",
       "      <td>0.719000</td>\n",
       "      <td>0.003080</td>\n",
       "      <td>0.0604</td>\n",
       "      <td>0.194</td>\n",
       "      <td>108.376</td>\n",
       "      <td>7</td>\n",
       "    </tr>\n",
       "    <tr>\n",
       "      <th>3</th>\n",
       "      <td>0.650</td>\n",
       "      <td>0.306</td>\n",
       "      <td>9</td>\n",
       "      <td>-9.443</td>\n",
       "      <td>1</td>\n",
       "      <td>0.0393</td>\n",
       "      <td>0.570000</td>\n",
       "      <td>0.000007</td>\n",
       "      <td>0.0707</td>\n",
       "      <td>0.605</td>\n",
       "      <td>118.068</td>\n",
       "      <td>2</td>\n",
       "    </tr>\n",
       "    <tr>\n",
       "      <th>4</th>\n",
       "      <td>0.502</td>\n",
       "      <td>0.912</td>\n",
       "      <td>1</td>\n",
       "      <td>-4.556</td>\n",
       "      <td>1</td>\n",
       "      <td>0.0564</td>\n",
       "      <td>0.000025</td>\n",
       "      <td>0.000173</td>\n",
       "      <td>0.1060</td>\n",
       "      <td>0.720</td>\n",
       "      <td>116.761</td>\n",
       "      <td>1</td>\n",
       "    </tr>\n",
       "    <tr>\n",
       "      <th>...</th>\n",
       "      <td>...</td>\n",
       "      <td>...</td>\n",
       "      <td>...</td>\n",
       "      <td>...</td>\n",
       "      <td>...</td>\n",
       "      <td>...</td>\n",
       "      <td>...</td>\n",
       "      <td>...</td>\n",
       "      <td>...</td>\n",
       "      <td>...</td>\n",
       "      <td>...</td>\n",
       "      <td>...</td>\n",
       "    </tr>\n",
       "    <tr>\n",
       "      <th>8882</th>\n",
       "      <td>0.490</td>\n",
       "      <td>0.352</td>\n",
       "      <td>6</td>\n",
       "      <td>-11.577</td>\n",
       "      <td>0</td>\n",
       "      <td>0.0254</td>\n",
       "      <td>0.709000</td>\n",
       "      <td>0.085600</td>\n",
       "      <td>0.1140</td>\n",
       "      <td>0.166</td>\n",
       "      <td>99.992</td>\n",
       "      <td>7</td>\n",
       "    </tr>\n",
       "    <tr>\n",
       "      <th>8883</th>\n",
       "      <td>0.527</td>\n",
       "      <td>0.591</td>\n",
       "      <td>6</td>\n",
       "      <td>-7.664</td>\n",
       "      <td>0</td>\n",
       "      <td>0.0396</td>\n",
       "      <td>0.194000</td>\n",
       "      <td>0.019400</td>\n",
       "      <td>0.0907</td>\n",
       "      <td>0.461</td>\n",
       "      <td>123.167</td>\n",
       "      <td>6</td>\n",
       "    </tr>\n",
       "    <tr>\n",
       "      <th>8884</th>\n",
       "      <td>0.420</td>\n",
       "      <td>0.837</td>\n",
       "      <td>2</td>\n",
       "      <td>-5.240</td>\n",
       "      <td>1</td>\n",
       "      <td>0.0610</td>\n",
       "      <td>0.215000</td>\n",
       "      <td>0.000030</td>\n",
       "      <td>0.0876</td>\n",
       "      <td>0.196</td>\n",
       "      <td>75.043</td>\n",
       "      <td>0</td>\n",
       "    </tr>\n",
       "    <tr>\n",
       "      <th>8885</th>\n",
       "      <td>0.648</td>\n",
       "      <td>0.594</td>\n",
       "      <td>11</td>\n",
       "      <td>-7.027</td>\n",
       "      <td>0</td>\n",
       "      <td>0.0293</td>\n",
       "      <td>0.114000</td>\n",
       "      <td>0.046200</td>\n",
       "      <td>0.1160</td>\n",
       "      <td>0.544</td>\n",
       "      <td>113.983</td>\n",
       "      <td>9</td>\n",
       "    </tr>\n",
       "    <tr>\n",
       "      <th>8886</th>\n",
       "      <td>0.852</td>\n",
       "      <td>0.747</td>\n",
       "      <td>11</td>\n",
       "      <td>-3.666</td>\n",
       "      <td>0</td>\n",
       "      <td>0.1690</td>\n",
       "      <td>0.031100</td>\n",
       "      <td>0.000000</td>\n",
       "      <td>0.0789</td>\n",
       "      <td>0.898</td>\n",
       "      <td>148.005</td>\n",
       "      <td>9</td>\n",
       "    </tr>\n",
       "  </tbody>\n",
       "</table>\n",
       "<p>8887 rows × 12 columns</p>\n",
       "</div>"
      ],
      "text/plain": [
       "      danceability  energy  key  loudness  mode  speechiness  acousticness  \\\n",
       "0            0.697   0.832    9    -7.264     1       0.0298      0.168000   \n",
       "1            0.645   0.795    7   -12.095     1       0.0527      0.347000   \n",
       "2            0.629   0.545   10   -13.123     0       0.0546      0.719000   \n",
       "3            0.650   0.306    9    -9.443     1       0.0393      0.570000   \n",
       "4            0.502   0.912    1    -4.556     1       0.0564      0.000025   \n",
       "...            ...     ...  ...       ...   ...          ...           ...   \n",
       "8882         0.490   0.352    6   -11.577     0       0.0254      0.709000   \n",
       "8883         0.527   0.591    6    -7.664     0       0.0396      0.194000   \n",
       "8884         0.420   0.837    2    -5.240     1       0.0610      0.215000   \n",
       "8885         0.648   0.594   11    -7.027     0       0.0293      0.114000   \n",
       "8886         0.852   0.747   11    -3.666     0       0.1690      0.031100   \n",
       "\n",
       "      instrumentalness  liveness  valence    tempo  cluster  \n",
       "0             0.001310    0.2690    0.979  125.926        5  \n",
       "1             0.003890    0.1040    0.535  112.067        5  \n",
       "2             0.003080    0.0604    0.194  108.376        7  \n",
       "3             0.000007    0.0707    0.605  118.068        2  \n",
       "4             0.000173    0.1060    0.720  116.761        1  \n",
       "...                ...       ...      ...      ...      ...  \n",
       "8882          0.085600    0.1140    0.166   99.992        7  \n",
       "8883          0.019400    0.0907    0.461  123.167        6  \n",
       "8884          0.000030    0.0876    0.196   75.043        0  \n",
       "8885          0.046200    0.1160    0.544  113.983        9  \n",
       "8886          0.000000    0.0789    0.898  148.005        9  \n",
       "\n",
       "[8887 rows x 12 columns]"
      ]
     },
     "execution_count": 75,
     "metadata": {},
     "output_type": "execute_result"
    }
   ],
   "source": [
    "#X_df = pd.DataFrame(X)\n",
    "X[\"cluster\"] = clusters\n",
    "X"
   ]
  },
  {
   "cell_type": "markdown",
   "id": "4fe4491a",
   "metadata": {},
   "source": [
    "### Training the model / Chosing K"
   ]
  },
  {
   "cell_type": "code",
   "execution_count": 76,
   "id": "b36c169a",
   "metadata": {},
   "outputs": [
    {
     "name": "stdout",
     "output_type": "stream",
     "text": [
      "Training a K-Means model with 2 clusters! \n",
      "\n"
     ]
    },
    {
     "name": "stderr",
     "output_type": "stream",
     "text": [
      "C:\\Users\\flori\\anaconda4\\Lib\\site-packages\\sklearn\\cluster\\_kmeans.py:1412: FutureWarning: The default value of `n_init` will change from 10 to 'auto' in 1.4. Set the value of `n_init` explicitly to suppress the warning\n",
      "  super()._check_params_vs_input(X, default_n_init=10)\n"
     ]
    },
    {
     "name": "stdout",
     "output_type": "stream",
     "text": [
      "Training a K-Means model with 3 clusters! \n",
      "\n"
     ]
    },
    {
     "name": "stderr",
     "output_type": "stream",
     "text": [
      "C:\\Users\\flori\\anaconda4\\Lib\\site-packages\\sklearn\\cluster\\_kmeans.py:1412: FutureWarning: The default value of `n_init` will change from 10 to 'auto' in 1.4. Set the value of `n_init` explicitly to suppress the warning\n",
      "  super()._check_params_vs_input(X, default_n_init=10)\n"
     ]
    },
    {
     "name": "stdout",
     "output_type": "stream",
     "text": [
      "Training a K-Means model with 4 clusters! \n",
      "\n"
     ]
    },
    {
     "name": "stderr",
     "output_type": "stream",
     "text": [
      "C:\\Users\\flori\\anaconda4\\Lib\\site-packages\\sklearn\\cluster\\_kmeans.py:1412: FutureWarning: The default value of `n_init` will change from 10 to 'auto' in 1.4. Set the value of `n_init` explicitly to suppress the warning\n",
      "  super()._check_params_vs_input(X, default_n_init=10)\n"
     ]
    },
    {
     "name": "stdout",
     "output_type": "stream",
     "text": [
      "Training a K-Means model with 5 clusters! \n",
      "\n"
     ]
    },
    {
     "name": "stderr",
     "output_type": "stream",
     "text": [
      "C:\\Users\\flori\\anaconda4\\Lib\\site-packages\\sklearn\\cluster\\_kmeans.py:1412: FutureWarning: The default value of `n_init` will change from 10 to 'auto' in 1.4. Set the value of `n_init` explicitly to suppress the warning\n",
      "  super()._check_params_vs_input(X, default_n_init=10)\n"
     ]
    },
    {
     "name": "stdout",
     "output_type": "stream",
     "text": [
      "Training a K-Means model with 6 clusters! \n",
      "\n"
     ]
    },
    {
     "name": "stderr",
     "output_type": "stream",
     "text": [
      "C:\\Users\\flori\\anaconda4\\Lib\\site-packages\\sklearn\\cluster\\_kmeans.py:1412: FutureWarning: The default value of `n_init` will change from 10 to 'auto' in 1.4. Set the value of `n_init` explicitly to suppress the warning\n",
      "  super()._check_params_vs_input(X, default_n_init=10)\n"
     ]
    },
    {
     "name": "stdout",
     "output_type": "stream",
     "text": [
      "Training a K-Means model with 7 clusters! \n",
      "\n"
     ]
    },
    {
     "name": "stderr",
     "output_type": "stream",
     "text": [
      "C:\\Users\\flori\\anaconda4\\Lib\\site-packages\\sklearn\\cluster\\_kmeans.py:1412: FutureWarning: The default value of `n_init` will change from 10 to 'auto' in 1.4. Set the value of `n_init` explicitly to suppress the warning\n",
      "  super()._check_params_vs_input(X, default_n_init=10)\n"
     ]
    },
    {
     "name": "stdout",
     "output_type": "stream",
     "text": [
      "Training a K-Means model with 8 clusters! \n",
      "\n"
     ]
    },
    {
     "name": "stderr",
     "output_type": "stream",
     "text": [
      "C:\\Users\\flori\\anaconda4\\Lib\\site-packages\\sklearn\\cluster\\_kmeans.py:1412: FutureWarning: The default value of `n_init` will change from 10 to 'auto' in 1.4. Set the value of `n_init` explicitly to suppress the warning\n",
      "  super()._check_params_vs_input(X, default_n_init=10)\n"
     ]
    },
    {
     "name": "stdout",
     "output_type": "stream",
     "text": [
      "Training a K-Means model with 9 clusters! \n",
      "\n"
     ]
    },
    {
     "name": "stderr",
     "output_type": "stream",
     "text": [
      "C:\\Users\\flori\\anaconda4\\Lib\\site-packages\\sklearn\\cluster\\_kmeans.py:1412: FutureWarning: The default value of `n_init` will change from 10 to 'auto' in 1.4. Set the value of `n_init` explicitly to suppress the warning\n",
      "  super()._check_params_vs_input(X, default_n_init=10)\n"
     ]
    },
    {
     "name": "stdout",
     "output_type": "stream",
     "text": [
      "Training a K-Means model with 10 clusters! \n",
      "\n"
     ]
    },
    {
     "name": "stderr",
     "output_type": "stream",
     "text": [
      "C:\\Users\\flori\\anaconda4\\Lib\\site-packages\\sklearn\\cluster\\_kmeans.py:1412: FutureWarning: The default value of `n_init` will change from 10 to 'auto' in 1.4. Set the value of `n_init` explicitly to suppress the warning\n",
      "  super()._check_params_vs_input(X, default_n_init=10)\n"
     ]
    },
    {
     "name": "stdout",
     "output_type": "stream",
     "text": [
      "Training a K-Means model with 11 clusters! \n",
      "\n"
     ]
    },
    {
     "name": "stderr",
     "output_type": "stream",
     "text": [
      "C:\\Users\\flori\\anaconda4\\Lib\\site-packages\\sklearn\\cluster\\_kmeans.py:1412: FutureWarning: The default value of `n_init` will change from 10 to 'auto' in 1.4. Set the value of `n_init` explicitly to suppress the warning\n",
      "  super()._check_params_vs_input(X, default_n_init=10)\n"
     ]
    },
    {
     "name": "stdout",
     "output_type": "stream",
     "text": [
      "Training a K-Means model with 12 clusters! \n",
      "\n"
     ]
    },
    {
     "name": "stderr",
     "output_type": "stream",
     "text": [
      "C:\\Users\\flori\\anaconda4\\Lib\\site-packages\\sklearn\\cluster\\_kmeans.py:1412: FutureWarning: The default value of `n_init` will change from 10 to 'auto' in 1.4. Set the value of `n_init` explicitly to suppress the warning\n",
      "  super()._check_params_vs_input(X, default_n_init=10)\n"
     ]
    },
    {
     "name": "stdout",
     "output_type": "stream",
     "text": [
      "Training a K-Means model with 13 clusters! \n",
      "\n"
     ]
    },
    {
     "name": "stderr",
     "output_type": "stream",
     "text": [
      "C:\\Users\\flori\\anaconda4\\Lib\\site-packages\\sklearn\\cluster\\_kmeans.py:1412: FutureWarning: The default value of `n_init` will change from 10 to 'auto' in 1.4. Set the value of `n_init` explicitly to suppress the warning\n",
      "  super()._check_params_vs_input(X, default_n_init=10)\n"
     ]
    },
    {
     "name": "stdout",
     "output_type": "stream",
     "text": [
      "Training a K-Means model with 14 clusters! \n",
      "\n"
     ]
    },
    {
     "name": "stderr",
     "output_type": "stream",
     "text": [
      "C:\\Users\\flori\\anaconda4\\Lib\\site-packages\\sklearn\\cluster\\_kmeans.py:1412: FutureWarning: The default value of `n_init` will change from 10 to 'auto' in 1.4. Set the value of `n_init` explicitly to suppress the warning\n",
      "  super()._check_params_vs_input(X, default_n_init=10)\n"
     ]
    },
    {
     "name": "stdout",
     "output_type": "stream",
     "text": [
      "Training a K-Means model with 15 clusters! \n",
      "\n"
     ]
    },
    {
     "name": "stderr",
     "output_type": "stream",
     "text": [
      "C:\\Users\\flori\\anaconda4\\Lib\\site-packages\\sklearn\\cluster\\_kmeans.py:1412: FutureWarning: The default value of `n_init` will change from 10 to 'auto' in 1.4. Set the value of `n_init` explicitly to suppress the warning\n",
      "  super()._check_params_vs_input(X, default_n_init=10)\n"
     ]
    },
    {
     "name": "stdout",
     "output_type": "stream",
     "text": [
      "Training a K-Means model with 16 clusters! \n",
      "\n"
     ]
    },
    {
     "name": "stderr",
     "output_type": "stream",
     "text": [
      "C:\\Users\\flori\\anaconda4\\Lib\\site-packages\\sklearn\\cluster\\_kmeans.py:1412: FutureWarning: The default value of `n_init` will change from 10 to 'auto' in 1.4. Set the value of `n_init` explicitly to suppress the warning\n",
      "  super()._check_params_vs_input(X, default_n_init=10)\n"
     ]
    },
    {
     "name": "stdout",
     "output_type": "stream",
     "text": [
      "Training a K-Means model with 17 clusters! \n",
      "\n"
     ]
    },
    {
     "name": "stderr",
     "output_type": "stream",
     "text": [
      "C:\\Users\\flori\\anaconda4\\Lib\\site-packages\\sklearn\\cluster\\_kmeans.py:1412: FutureWarning: The default value of `n_init` will change from 10 to 'auto' in 1.4. Set the value of `n_init` explicitly to suppress the warning\n",
      "  super()._check_params_vs_input(X, default_n_init=10)\n"
     ]
    },
    {
     "name": "stdout",
     "output_type": "stream",
     "text": [
      "Training a K-Means model with 18 clusters! \n",
      "\n"
     ]
    },
    {
     "name": "stderr",
     "output_type": "stream",
     "text": [
      "C:\\Users\\flori\\anaconda4\\Lib\\site-packages\\sklearn\\cluster\\_kmeans.py:1412: FutureWarning: The default value of `n_init` will change from 10 to 'auto' in 1.4. Set the value of `n_init` explicitly to suppress the warning\n",
      "  super()._check_params_vs_input(X, default_n_init=10)\n"
     ]
    },
    {
     "name": "stdout",
     "output_type": "stream",
     "text": [
      "Training a K-Means model with 19 clusters! \n",
      "\n"
     ]
    },
    {
     "name": "stderr",
     "output_type": "stream",
     "text": [
      "C:\\Users\\flori\\anaconda4\\Lib\\site-packages\\sklearn\\cluster\\_kmeans.py:1412: FutureWarning: The default value of `n_init` will change from 10 to 'auto' in 1.4. Set the value of `n_init` explicitly to suppress the warning\n",
      "  super()._check_params_vs_input(X, default_n_init=10)\n"
     ]
    },
    {
     "name": "stdout",
     "output_type": "stream",
     "text": [
      "Training a K-Means model with 20 clusters! \n",
      "\n"
     ]
    },
    {
     "name": "stderr",
     "output_type": "stream",
     "text": [
      "C:\\Users\\flori\\anaconda4\\Lib\\site-packages\\sklearn\\cluster\\_kmeans.py:1412: FutureWarning: The default value of `n_init` will change from 10 to 'auto' in 1.4. Set the value of `n_init` explicitly to suppress the warning\n",
      "  super()._check_params_vs_input(X, default_n_init=10)\n"
     ]
    },
    {
     "data": {
      "text/plain": [
       "Text(0.5, 1.0, 'Elbow Method showing the optimal k')"
      ]
     },
     "execution_count": 76,
     "metadata": {},
     "output_type": "execute_result"
    },
    {
     "data": {
      "image/png": "[encoded data removed]",
      "text/plain": [
       "<Figure size 1600x800 with 1 Axes>"
      ]
     },
     "metadata": {},
     "output_type": "display_data"
    }
   ],
   "source": [
    "K = range(2, 21)\n",
    "inertia = []\n",
    "\n",
    "for k in K:\n",
    "    print(\"Training a K-Means model with {} clusters! \".format(k))\n",
    "    print()\n",
    "    kmeans = KMeans(n_clusters=k,\n",
    "                    random_state=1234)\n",
    "    kmeans.fit(X_scaled_df)\n",
    "    inertia.append(kmeans.inertia_)\n",
    "\n",
    "import numpy as np\n",
    "import matplotlib.pyplot as plt\n",
    "%matplotlib inline\n",
    "\n",
    "plt.figure(figsize=(16,8))\n",
    "plt.plot(K, inertia, 'bx-')\n",
    "plt.xlabel('k')\n",
    "plt.ylabel('inertia')\n",
    "plt.xticks(np.arange(min(K), max(K)+1, 1.0))\n",
    "plt.title('Elbow Method showing the optimal k')"
   ]
  },
  {
   "cell_type": "markdown",
   "id": "d2161938",
   "metadata": {},
   "source": [
    "### Silouette"
   ]
  },
  {
   "cell_type": "code",
   "execution_count": 77,
   "id": "69a1f79b",
   "metadata": {},
   "outputs": [
    {
     "data": {
      "text/plain": [
       "Text(0.5, 1.0, 'Silhouette Method showing the optimal k')"
      ]
     },
     "execution_count": 77,
     "metadata": {},
     "output_type": "execute_result"
    },
    {
     "data": {
      "image/png": "[encoded data removed]",
      "text/plain": [
       "<Figure size 1600x800 with 1 Axes>"
      ]
     },
     "metadata": {},
     "output_type": "display_data"
    }
   ],
   "source": [
    "K = range(2, 20)\n",
    "silhouette = []\n",
    "\n",
    "for k in K:\n",
    "    kmeans = KMeans(n_clusters=k,\n",
    "                    random_state=1234, n_init='auto')\n",
    "    kmeans.fit(X_scaled_df)\n",
    "    \n",
    "    #filename = \"kmeans_\" + str(k) + \".pickle\"\n",
    "    #with open(filename, \"wb\") as f:\n",
    "        #pickle.dump(kmeans,f)\n",
    "    \n",
    "    silhouette.append(silhouette_score(X_scaled_df, kmeans.predict(X_scaled_df)))\n",
    "\n",
    "\n",
    "plt.figure(figsize=(16,8))\n",
    "plt.plot(K, silhouette, 'bx-')\n",
    "plt.xlabel('k')\n",
    "plt.ylabel('silhouette score')\n",
    "plt.xticks(np.arange(min(K), max(K)+1, 1.0))\n",
    "plt.title('Silhouette Method showing the optimal k')"
   ]
  },
  {
   "cell_type": "markdown",
   "id": "138e7f5e",
   "metadata": {},
   "source": [
    "#### User Input"
   ]
  },
  {
   "cell_type": "markdown",
   "id": "a4dda4ce",
   "metadata": {},
   "source": [
    "User inputs song\n",
    "search the song - > ID\n",
    "Audio features of the song\n",
    "scale\n",
    "predict the cluster\n",
    "recommand a song from the cluster. Input track ID into the integrated player"
   ]
  },
  {
   "cell_type": "code",
   "execution_count": 78,
   "id": "3954b77c",
   "metadata": {},
   "outputs": [
    {
     "name": "stdout",
     "output_type": "stream",
     "text": [
      "Requirement already satisfied: fuzzywuzzy in c:\\users\\flori\\anaconda4\\lib\\site-packages (0.18.0)\n"
     ]
    }
   ],
   "source": [
    "!pip install fuzzywuzzy\n",
    "from fuzzywuzzy import fuzz\n",
    "import config\n",
    "import spotipy\n",
    "import pandas as pd\n",
    "import json\n",
    "from spotipy.oauth2 import SpotifyClientCredentials\n",
    "from IPython.display import IFrame\n",
    "from IPython.display import display, HTML\n",
    "\n",
    "#Initialize SpotiPy with user credentials\n",
    "sp = spotipy.Spotify(auth_manager=SpotifyClientCredentials(client_id= config.client_id,\n",
    "                                                           client_secret= config.client_secret))"
   ]
  },
  {
   "cell_type": "code",
   "execution_count": 79,
   "id": "6591d262",
   "metadata": {},
   "outputs": [],
   "source": [
    "# Import Top 100 DF\n",
    "top100_df= pd.read_csv('top100_songs.csv')"
   ]
  },
  {
   "cell_type": "markdown",
   "id": "2271d54c",
   "metadata": {},
   "source": [
    "### Final recommender"
   ]
  },
  {
   "cell_type": "code",
   "execution_count": 85,
   "id": "fe887cb2",
   "metadata": {},
   "outputs": [
    {
     "name": "stdout",
     "output_type": "stream",
     "text": [
      "Enter a song title: Atemlos durch die Nacht\n",
      "Sorry, the song 'Atemlos durch die Nacht' is not hot.But I want to suggest another song you might like similar to 'Atemlos durch die Nacht'\n"
     ]
    },
    {
     "name": "stderr",
     "output_type": "stream",
     "text": [
      "C:\\Users\\flori\\anaconda4\\Lib\\site-packages\\IPython\\core\\display.py:431: UserWarning: Consider using IPython.display.IFrame instead\n",
      "  warnings.warn(\"Consider using IPython.display.IFrame instead\")\n"
     ]
    },
    {
     "data": {
      "text/html": [
       "<iframe src=\"https://open.spotify.com/embed/track/6zV8IpLvw0tkRSVCFQJB1y\" width=\"320\" height=\"80\" frameborder=\"0\" allowtransparency=\"true\" allow=\"encrypted-media\"></iframe>"
      ],
      "text/plain": [
       "<IPython.core.display.HTML object>"
      ]
     },
     "metadata": {},
     "output_type": "display_data"
    }
   ],
   "source": [
    "while True:\n",
    "    # Input a song title\n",
    "    user_input = input(\"Enter a song title: \")\n",
    "\n",
    "    # User input song\n",
    "    user_input_lower = user_input.lower()\n",
    "    # song titles to lowercase\n",
    "    top100_df['Song_lower'] = top100_df['Song'].str.lower()\n",
    "\n",
    "    # Check if user input is an exact match or a fuzzy match\n",
    "    exact_match = user_input_lower in top100_df['Song_lower'].values\n",
    "    fuzzy_match = top100_df['Song_lower'].apply(lambda x: fuzz.partial_ratio(user_input_lower, x) > 80).any()\n",
    "\n",
    "    if exact_match or fuzzy_match:\n",
    "        print(f\"{user_input} is hot!\")\n",
    "\n",
    "        # Recommend another song\n",
    "        recommended_song = top100_df[top100_df['Song_lower'] != user_input_lower].sample(1)[['Song', 'Artist']].values[0]\n",
    "        recommended_song_title, recommended_artist = recommended_song\n",
    "\n",
    "        print(f\"You might like this song as well: {recommended_song_title.capitalize()} by {recommended_artist.capitalize()}\")\n",
    "        \n",
    "        # Get the track ID for the recommended song from Spotify\n",
    "        results = sp.search(q=f\"{recommended_song_title} {recommended_artist}\", limit=1, market=\"GB\")\n",
    "        track_id = results[\"tracks\"][\"items\"][0][\"id\"]\n",
    "\n",
    "        # Embed the player\n",
    "        iframe_code = f'<iframe src=\"https://open.spotify.com/embed/track/{track_id}\" width=\"320\" height=\"80\" frameborder=\"0\" allowtransparency=\"true\" allow=\"encrypted-media\"></iframe>'\n",
    "        display(HTML(iframe_code))\n",
    "        \n",
    "        # Drop temporary column \n",
    "        top100_df.drop(columns=['Song_lower'], inplace=True)\n",
    "        \n",
    "        break \n",
    "    else:\n",
    "        print(f\"Sorry, the song '{user_input}' is not hot.But I want to suggest another song you might like similar to '{user_input}'\")\n",
    "         # Drop temporary column\n",
    "        top100_df.drop(columns=['Song_lower'], inplace=True)\n",
    "        results = sp.search(q={user_input},limit=5)\n",
    "        track_id=results[\"tracks\"][\"items\"][0][\"id\"]\n",
    "        audio_feautures = sp.audio_features(track_id)\n",
    "        df_song_userinput = pd.DataFrame(audio_feautures)\n",
    "        # drop non numerical columns\n",
    "        columns_numerical_song = ['danceability', 'energy', 'key', 'loudness', 'mode', 'speechiness', 'acousticness', 'instrumentalness', 'liveness', 'valence', 'tempo']\n",
    "        df_song_userinput = df_song_userinput[columns_numerical_song]\n",
    "        #Scaling song features\n",
    "        X_song = df_song_userinput\n",
    "        X_song_scaled = scaler.transform(X_song)\n",
    "        X_song_scaled_df = pd.DataFrame(X_song_scaled, columns = X_song.columns)\n",
    "        # Predict cluster\n",
    "        cluster_pred = kmeans.predict(X_song_scaled_df)\n",
    "        cluster_pred = cluster_pred.item()\n",
    "        # Pull sample of predicted cluster\n",
    "        song_rec = X[X['cluster'] == cluster_pred].sample() \n",
    "        # get Index of recommended song: \n",
    "        song_rec.index[0]\n",
    "        song_to_play = df_combined.loc[song_rec.index[0]]\n",
    "        ##Extract Track ID song to play\n",
    "        song_to_play_ID = song_to_play['id']\n",
    "        # Embed the player\n",
    "        iframe_code = f'<iframe src=\"https://open.spotify.com/embed/track/{song_to_play_ID}\" width=\"320\" height=\"80\" frameborder=\"0\" allowtransparency=\"true\" allow=\"encrypted-media\"></iframe>'\n",
    "        display(HTML(iframe_code))\n",
    "        break\n",
    "    \n"
   ]
  },
  {
   "cell_type": "markdown",
   "id": "35d3e4cb",
   "metadata": {},
   "source": [
    "### Embeded Player"
   ]
  },
  {
   "cell_type": "code",
   "execution_count": 62,
   "id": "44325700",
   "metadata": {},
   "outputs": [
    {
     "data": {
      "text/plain": [
       "<bound method DataFrame.info of       Unnamed: 0  danceability  energy  key  loudness  mode  speechiness  \\\n",
       "0              0         0.697   0.832    9    -7.264     1       0.0298   \n",
       "1              1         0.645   0.795    7   -12.095     1       0.0527   \n",
       "2              2         0.629   0.545   10   -13.123     0       0.0546   \n",
       "3              3         0.650   0.306    9    -9.443     1       0.0393   \n",
       "4              4         0.502   0.912    1    -4.556     1       0.0564   \n",
       "...          ...           ...     ...  ...       ...   ...          ...   \n",
       "8881        1094         0.765   0.572   11    -6.153     0       0.1280   \n",
       "8882        1095         0.617   0.840    4    -4.063     1       0.0512   \n",
       "8883        1096         0.490   0.352    6   -11.577     0       0.0254   \n",
       "8884        1097         0.527   0.591    6    -7.664     0       0.0396   \n",
       "8885        1098         0.420   0.837    2    -5.240     1       0.0610   \n",
       "\n",
       "      acousticness  instrumentalness  liveness  valence    tempo  \\\n",
       "0         0.168000          0.001310    0.2690    0.979  125.926   \n",
       "1         0.347000          0.003890    0.1040    0.535  112.067   \n",
       "2         0.719000          0.003080    0.0604    0.194  108.376   \n",
       "3         0.570000          0.000007    0.0707    0.605  118.068   \n",
       "4         0.000025          0.000173    0.1060    0.720  116.761   \n",
       "...            ...               ...       ...      ...      ...   \n",
       "8881      0.226000          0.000000    0.1920    0.475  140.013   \n",
       "8882      0.360000          0.000088    0.1790    0.570   94.676   \n",
       "8883      0.709000          0.085600    0.1140    0.166   99.992   \n",
       "8884      0.194000          0.019400    0.0907    0.461  123.167   \n",
       "8885      0.215000          0.000030    0.0876    0.196   75.043   \n",
       "\n",
       "                type                      id  \\\n",
       "0     audio_features  2grjqo0Frpf2okIBiifQKs   \n",
       "1     audio_features  4RvWPyQ5RL0ao9LPZeSouE   \n",
       "2     audio_features  1PtQJZVZIdWIYdARpZRDFO   \n",
       "3     audio_features  3SdTKo2uVsxFblQjpScoHy   \n",
       "4     audio_features  4CeeEOM32jQcH3eN9Q2dGj   \n",
       "...              ...                     ...   \n",
       "8881  audio_features  4r0kug4vaNx3d8qyDLhQes   \n",
       "8882  audio_features  3LI4MmibTkXH5cGpCGZgyw   \n",
       "8883  audio_features  6GGtHZgBycCgGBUhZo81xe   \n",
       "8884  audio_features  5Y6nVaayzitvsD5F7nr3DV   \n",
       "8885  audio_features  3QhfFRPkhPCR1RMJWV1gde   \n",
       "\n",
       "                                       uri  \\\n",
       "0     spotify:track:2grjqo0Frpf2okIBiifQKs   \n",
       "1     spotify:track:4RvWPyQ5RL0ao9LPZeSouE   \n",
       "2     spotify:track:1PtQJZVZIdWIYdARpZRDFO   \n",
       "3     spotify:track:3SdTKo2uVsxFblQjpScoHy   \n",
       "4     spotify:track:4CeeEOM32jQcH3eN9Q2dGj   \n",
       "...                                    ...   \n",
       "8881  spotify:track:4r0kug4vaNx3d8qyDLhQes   \n",
       "8882  spotify:track:3LI4MmibTkXH5cGpCGZgyw   \n",
       "8883  spotify:track:6GGtHZgBycCgGBUhZo81xe   \n",
       "8884  spotify:track:5Y6nVaayzitvsD5F7nr3DV   \n",
       "8885  spotify:track:3QhfFRPkhPCR1RMJWV1gde   \n",
       "\n",
       "                                             track_href  \\\n",
       "0     https://api.spotify.com/v1/tracks/2grjqo0Frpf2...   \n",
       "1     https://api.spotify.com/v1/tracks/4RvWPyQ5RL0a...   \n",
       "2     https://api.spotify.com/v1/tracks/1PtQJZVZIdWI...   \n",
       "3     https://api.spotify.com/v1/tracks/3SdTKo2uVsxF...   \n",
       "4     https://api.spotify.com/v1/tracks/4CeeEOM32jQc...   \n",
       "...                                                 ...   \n",
       "8881  https://api.spotify.com/v1/tracks/4r0kug4vaNx3...   \n",
       "8882  https://api.spotify.com/v1/tracks/3LI4MmibTkXH...   \n",
       "8883  https://api.spotify.com/v1/tracks/6GGtHZgBycCg...   \n",
       "8884  https://api.spotify.com/v1/tracks/5Y6nVaayzitv...   \n",
       "8885  https://api.spotify.com/v1/tracks/3QhfFRPkhPCR...   \n",
       "\n",
       "                                           analysis_url  duration_ms  \\\n",
       "0     https://api.spotify.com/v1/audio-analysis/2grj...       215093   \n",
       "1     https://api.spotify.com/v1/audio-analysis/4RvW...       251489   \n",
       "2     https://api.spotify.com/v1/audio-analysis/1PtQ...       298933   \n",
       "3     https://api.spotify.com/v1/audio-analysis/3SdT...       180056   \n",
       "4     https://api.spotify.com/v1/audio-analysis/4Cee...       301920   \n",
       "...                                                 ...          ...   \n",
       "8881  https://api.spotify.com/v1/audio-analysis/4r0k...       110938   \n",
       "8882  https://api.spotify.com/v1/audio-analysis/3LI4...       241840   \n",
       "8883  https://api.spotify.com/v1/audio-analysis/6GGt...       209156   \n",
       "8884  https://api.spotify.com/v1/audio-analysis/5Y6n...       256760   \n",
       "8885  https://api.spotify.com/v1/audio-analysis/3Qhf...       214587   \n",
       "\n",
       "      time_signature  \n",
       "0                  4  \n",
       "1                  4  \n",
       "2                  4  \n",
       "3                  4  \n",
       "4                  4  \n",
       "...              ...  \n",
       "8881               4  \n",
       "8882               4  \n",
       "8883               4  \n",
       "8884               4  \n",
       "8885               4  \n",
       "\n",
       "[8886 rows x 19 columns]>"
      ]
     },
     "execution_count": 62,
     "metadata": {},
     "output_type": "execute_result"
    }
   ],
   "source": [
    "df_combined.info"
   ]
  },
  {
   "cell_type": "code",
   "execution_count": null,
   "id": "3e8c2729",
   "metadata": {},
   "outputs": [],
   "source": []
  },
  {
   "cell_type": "code",
   "execution_count": 84,
   "id": "5dd84277",
   "metadata": {},
   "outputs": [
    {
     "name": "stdout",
     "output_type": "stream",
     "text": [
      "Enter a song title: macarena\n"
     ]
    }
   ],
   "source": [
    "# User Input -> does not need to be added to the model again\n",
    "user_input = input(\"Enter a song title: \")\n",
    "# to be added under else\n",
    "results = sp.search(q={user_input},limit=5)\n",
    "results\n",
    "\n",
    "track_id=results[\"tracks\"][\"items\"][0][\"id\"]\n",
    "track_id\n",
    "audio_feautures = sp.audio_features(track_id)\n",
    "df_song_userinput = pd.DataFrame(audio_feautures)\n",
    "# drop non numerical columns\n",
    "columns_numerical_song = ['danceability', 'energy', 'key', 'loudness', 'mode', 'speechiness', 'acousticness', 'instrumentalness', 'liveness', 'valence', 'tempo']\n",
    "df_song_userinput = df_song_userinput[columns_numerical_song]\n",
    "\n",
    "\n"
   ]
  },
  {
   "cell_type": "code",
   "execution_count": 85,
   "id": "270d65c5",
   "metadata": {},
   "outputs": [
    {
     "data": {
      "text/html": [
       "<div>\n",
       "<style scoped>\n",
       "    .dataframe tbody tr th:only-of-type {\n",
       "        vertical-align: middle;\n",
       "    }\n",
       "\n",
       "    .dataframe tbody tr th {\n",
       "        vertical-align: top;\n",
       "    }\n",
       "\n",
       "    .dataframe thead th {\n",
       "        text-align: right;\n",
       "    }\n",
       "</style>\n",
       "<table border=\"1\" class=\"dataframe\">\n",
       "  <thead>\n",
       "    <tr style=\"text-align: right;\">\n",
       "      <th></th>\n",
       "      <th>danceability</th>\n",
       "      <th>energy</th>\n",
       "      <th>key</th>\n",
       "      <th>loudness</th>\n",
       "      <th>mode</th>\n",
       "      <th>speechiness</th>\n",
       "      <th>acousticness</th>\n",
       "      <th>instrumentalness</th>\n",
       "      <th>liveness</th>\n",
       "      <th>valence</th>\n",
       "      <th>tempo</th>\n",
       "    </tr>\n",
       "  </thead>\n",
       "  <tbody>\n",
       "    <tr>\n",
       "      <th>0</th>\n",
       "      <td>0.927</td>\n",
       "      <td>0.721</td>\n",
       "      <td>8</td>\n",
       "      <td>-12.561</td>\n",
       "      <td>1</td>\n",
       "      <td>0.0908</td>\n",
       "      <td>0.422</td>\n",
       "      <td>0.000044</td>\n",
       "      <td>0.0422</td>\n",
       "      <td>0.965</td>\n",
       "      <td>103.018</td>\n",
       "    </tr>\n",
       "  </tbody>\n",
       "</table>\n",
       "</div>"
      ],
      "text/plain": [
       "   danceability  energy  key  loudness  mode  speechiness  acousticness  \\\n",
       "0         0.927   0.721    8   -12.561     1       0.0908         0.422   \n",
       "\n",
       "   instrumentalness  liveness  valence    tempo  \n",
       "0          0.000044    0.0422    0.965  103.018  "
      ]
     },
     "execution_count": 85,
     "metadata": {},
     "output_type": "execute_result"
    }
   ],
   "source": [
    "df_song_userinput"
   ]
  },
  {
   "cell_type": "markdown",
   "id": "d36647a8",
   "metadata": {},
   "source": [
    "### Scaling song features"
   ]
  },
  {
   "cell_type": "code",
   "execution_count": 86,
   "id": "67702f9c",
   "metadata": {},
   "outputs": [],
   "source": [
    "X_song = df_song_userinput"
   ]
  },
  {
   "cell_type": "code",
   "execution_count": 87,
   "id": "aacc0e39",
   "metadata": {},
   "outputs": [
    {
     "data": {
      "text/plain": [
       "array([[ 2.03174569,  0.42619377,  0.76900808, -1.07437945,  0.75496004,\n",
       "         0.12855706,  0.57460643, -0.39463716, -0.90770643,  1.77076045,\n",
       "        -0.61205093]])"
      ]
     },
     "execution_count": 87,
     "metadata": {},
     "output_type": "execute_result"
    }
   ],
   "source": [
    "X_song_scaled = scaler.transform(X_song)\n",
    "X_song_scaled"
   ]
  },
  {
   "cell_type": "code",
   "execution_count": 88,
   "id": "8a08121d",
   "metadata": {},
   "outputs": [
    {
     "data": {
      "text/html": [
       "<div>\n",
       "<style scoped>\n",
       "    .dataframe tbody tr th:only-of-type {\n",
       "        vertical-align: middle;\n",
       "    }\n",
       "\n",
       "    .dataframe tbody tr th {\n",
       "        vertical-align: top;\n",
       "    }\n",
       "\n",
       "    .dataframe thead th {\n",
       "        text-align: right;\n",
       "    }\n",
       "</style>\n",
       "<table border=\"1\" class=\"dataframe\">\n",
       "  <thead>\n",
       "    <tr style=\"text-align: right;\">\n",
       "      <th></th>\n",
       "      <th>danceability</th>\n",
       "      <th>energy</th>\n",
       "      <th>key</th>\n",
       "      <th>loudness</th>\n",
       "      <th>mode</th>\n",
       "      <th>speechiness</th>\n",
       "      <th>acousticness</th>\n",
       "      <th>instrumentalness</th>\n",
       "      <th>liveness</th>\n",
       "      <th>valence</th>\n",
       "      <th>tempo</th>\n",
       "    </tr>\n",
       "  </thead>\n",
       "  <tbody>\n",
       "    <tr>\n",
       "      <th>0</th>\n",
       "      <td>2.031746</td>\n",
       "      <td>0.426194</td>\n",
       "      <td>0.769008</td>\n",
       "      <td>-1.074379</td>\n",
       "      <td>0.75496</td>\n",
       "      <td>0.128557</td>\n",
       "      <td>0.574606</td>\n",
       "      <td>-0.394637</td>\n",
       "      <td>-0.907706</td>\n",
       "      <td>1.77076</td>\n",
       "      <td>-0.612051</td>\n",
       "    </tr>\n",
       "  </tbody>\n",
       "</table>\n",
       "</div>"
      ],
      "text/plain": [
       "   danceability    energy       key  loudness     mode  speechiness  \\\n",
       "0      2.031746  0.426194  0.769008 -1.074379  0.75496     0.128557   \n",
       "\n",
       "   acousticness  instrumentalness  liveness  valence     tempo  \n",
       "0      0.574606         -0.394637 -0.907706  1.77076 -0.612051  "
      ]
     },
     "execution_count": 88,
     "metadata": {},
     "output_type": "execute_result"
    }
   ],
   "source": [
    "X_song_scaled_df = pd.DataFrame(X_song_scaled, columns = X_song.columns)\n",
    "X_song_scaled_df"
   ]
  },
  {
   "cell_type": "markdown",
   "id": "a4f3cbe7",
   "metadata": {},
   "source": [
    "#### Predict cluster"
   ]
  },
  {
   "cell_type": "code",
   "execution_count": 96,
   "id": "555ceb03",
   "metadata": {},
   "outputs": [
    {
     "data": {
      "text/plain": [
       "11"
      ]
     },
     "execution_count": 96,
     "metadata": {},
     "output_type": "execute_result"
    }
   ],
   "source": [
    "cluster_pred = kmeans.predict(X_song_scaled_df)\n",
    "cluster_pred = cluster_pred.item()\n",
    "cluster_pred"
   ]
  },
  {
   "cell_type": "markdown",
   "id": "515f6f1c",
   "metadata": {},
   "source": [
    "#### Recommend other song from the cluster"
   ]
  },
  {
   "cell_type": "code",
   "execution_count": 105,
   "id": "f0a8ceab",
   "metadata": {},
   "outputs": [
    {
     "data": {
      "text/html": [
       "<div>\n",
       "<style scoped>\n",
       "    .dataframe tbody tr th:only-of-type {\n",
       "        vertical-align: middle;\n",
       "    }\n",
       "\n",
       "    .dataframe tbody tr th {\n",
       "        vertical-align: top;\n",
       "    }\n",
       "\n",
       "    .dataframe thead th {\n",
       "        text-align: right;\n",
       "    }\n",
       "</style>\n",
       "<table border=\"1\" class=\"dataframe\">\n",
       "  <thead>\n",
       "    <tr style=\"text-align: right;\">\n",
       "      <th></th>\n",
       "      <th>danceability</th>\n",
       "      <th>energy</th>\n",
       "      <th>key</th>\n",
       "      <th>loudness</th>\n",
       "      <th>mode</th>\n",
       "      <th>speechiness</th>\n",
       "      <th>acousticness</th>\n",
       "      <th>instrumentalness</th>\n",
       "      <th>liveness</th>\n",
       "      <th>valence</th>\n",
       "      <th>tempo</th>\n",
       "      <th>cluster</th>\n",
       "    </tr>\n",
       "  </thead>\n",
       "  <tbody>\n",
       "    <tr>\n",
       "      <th>3107</th>\n",
       "      <td>0.633</td>\n",
       "      <td>0.385</td>\n",
       "      <td>9</td>\n",
       "      <td>-9.967</td>\n",
       "      <td>1</td>\n",
       "      <td>0.0358</td>\n",
       "      <td>0.411</td>\n",
       "      <td>0.000087</td>\n",
       "      <td>0.095</td>\n",
       "      <td>0.647</td>\n",
       "      <td>113.956</td>\n",
       "      <td>11</td>\n",
       "    </tr>\n",
       "  </tbody>\n",
       "</table>\n",
       "</div>"
      ],
      "text/plain": [
       "      danceability  energy  key  loudness  mode  speechiness  acousticness  \\\n",
       "3107         0.633   0.385    9    -9.967     1       0.0358         0.411   \n",
       "\n",
       "      instrumentalness  liveness  valence    tempo  cluster  \n",
       "3107          0.000087     0.095    0.647  113.956       11  "
      ]
     },
     "execution_count": 105,
     "metadata": {},
     "output_type": "execute_result"
    }
   ],
   "source": [
    "song_rec = X[X['cluster'] == cluster_pred].sample() # Gives one sample of the cluster -> acutal recommendation\n",
    "song_rec"
   ]
  },
  {
   "cell_type": "markdown",
   "id": "b448faae",
   "metadata": {},
   "source": [
    "### Pull song from the original dataframe df.combined"
   ]
  },
  {
   "cell_type": "code",
   "execution_count": 109,
   "id": "222d5c8c",
   "metadata": {},
   "outputs": [
    {
     "data": {
      "text/plain": [
       "3107"
      ]
     },
     "execution_count": 109,
     "metadata": {},
     "output_type": "execute_result"
    }
   ],
   "source": [
    "# get Index of recommended song: \n",
    "song_rec.index[0]"
   ]
  },
  {
   "cell_type": "code",
   "execution_count": 113,
   "id": "9bfb4a83",
   "metadata": {},
   "outputs": [],
   "source": [
    "song_to_play = df_combined.loc[song_rec.index[0]]"
   ]
  },
  {
   "cell_type": "code",
   "execution_count": 114,
   "id": "1bdd3684",
   "metadata": {},
   "outputs": [
    {
     "data": {
      "text/plain": [
       "Unnamed: 0                                                       3107\n",
       "danceability                                                    0.633\n",
       "energy                                                          0.385\n",
       "key                                                                 9\n",
       "loudness                                                       -9.967\n",
       "mode                                                                1\n",
       "speechiness                                                    0.0358\n",
       "acousticness                                                    0.411\n",
       "instrumentalness                                             0.000087\n",
       "liveness                                                        0.095\n",
       "valence                                                         0.647\n",
       "tempo                                                         113.956\n",
       "type                                                   audio_features\n",
       "id                                             1sjmKmR4u9xDeJHjDCn2bZ\n",
       "uri                              spotify:track:1sjmKmR4u9xDeJHjDCn2bZ\n",
       "track_href          https://api.spotify.com/v1/tracks/1sjmKmR4u9xD...\n",
       "analysis_url        https://api.spotify.com/v1/audio-analysis/1sjm...\n",
       "duration_ms                                                    182053\n",
       "time_signature                                                      4\n",
       "Name: 3107, dtype: object"
      ]
     },
     "execution_count": 114,
     "metadata": {},
     "output_type": "execute_result"
    }
   ],
   "source": [
    "song_to_play"
   ]
  },
  {
   "cell_type": "code",
   "execution_count": 119,
   "id": "baa1c3e8",
   "metadata": {},
   "outputs": [
    {
     "data": {
      "text/plain": [
       "'1sjmKmR4u9xDeJHjDCn2bZ'"
      ]
     },
     "execution_count": 119,
     "metadata": {},
     "output_type": "execute_result"
    }
   ],
   "source": [
    "##Extract Track ID song to play\n",
    "song_to_play_ID = song_to_play['id']\n",
    "song_to_play_ID"
   ]
  },
  {
   "cell_type": "code",
   "execution_count": 122,
   "id": "3c88cbbf",
   "metadata": {},
   "outputs": [
    {
     "name": "stderr",
     "output_type": "stream",
     "text": [
      "C:\\Users\\flori\\anaconda4\\Lib\\site-packages\\IPython\\core\\display.py:431: UserWarning: Consider using IPython.display.IFrame instead\n",
      "  warnings.warn(\"Consider using IPython.display.IFrame instead\")\n"
     ]
    },
    {
     "data": {
      "text/html": [
       "<iframe src=\"https://open.spotify.com/embed/track/1sjmKmR4u9xDeJHjDCn2bZ\" width=\"320\" height=\"80\" frameborder=\"0\" allowtransparency=\"true\" allow=\"encrypted-media\"></iframe>"
      ],
      "text/plain": [
       "<IPython.core.display.HTML object>"
      ]
     },
     "metadata": {},
     "output_type": "display_data"
    }
   ],
   "source": [
    "# Embed the player\n",
    "iframe_code = f'<iframe src=\"https://open.spotify.com/embed/track/{song_to_play_ID}\" width=\"320\" height=\"80\" frameborder=\"0\" allowtransparency=\"true\" allow=\"encrypted-media\"></iframe>'\n",
    "display(HTML(iframe_code))"
   ]
  },
  {
   "cell_type": "code",
   "execution_count": null,
   "id": "2611807a",
   "metadata": {},
   "outputs": [],
   "source": []
  },
  {
   "cell_type": "code",
   "execution_count": null,
   "id": "f47bbf23",
   "metadata": {},
   "outputs": [],
   "source": []
  },
  {
   "cell_type": "code",
   "execution_count": null,
   "id": "40de0e29",
   "metadata": {},
   "outputs": [],
   "source": []
  },
  {
   "cell_type": "markdown",
   "id": "edb068a5",
   "metadata": {},
   "source": []
  },
  {
   "cell_type": "code",
   "execution_count": null,
   "id": "148689c6",
   "metadata": {},
   "outputs": [],
   "source": []
  }
 ],
 "metadata": {
  "kernelspec": {
   "display_name": "Python 3 (ipykernel)",
   "language": "python",
   "name": "python3"
  },
  "language_info": {
   "codemirror_mode": {
    "name": "ipython",
    "version": 3
   },
   "file_extension": ".py",
   "mimetype": "text/x-python",
   "name": "python",
   "nbconvert_exporter": "python",
   "pygments_lexer": "ipython3",
   "version": "3.11.5"
  }
 },
 "nbformat": 4,
 "nbformat_minor": 5
}
