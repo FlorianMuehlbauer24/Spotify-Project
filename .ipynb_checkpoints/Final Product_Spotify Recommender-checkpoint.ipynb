{
 "cells": [
  {
   "cell_type": "code",
   "execution_count": 1,
   "id": "d52f4707",
   "metadata": {},
   "outputs": [],
   "source": [
    "import numpy as np\n",
    "import pandas as pd\n",
    "import pickle\n",
    "from sklearn import datasets # sklearn comes with some toy datasets to practice\n",
    "from sklearn.preprocessing import StandardScaler\n",
    "from sklearn.cluster import KMeans\n",
    "import matplotlib.pyplot as plt\n",
    "from sklearn.metrics import silhouette_score"
   ]
  },
  {
   "cell_type": "markdown",
   "id": "c45bb657",
   "metadata": {},
   "source": []
  },
  {
   "cell_type": "markdown",
   "id": "96ca2a96",
   "metadata": {},
   "source": [
    "### Model creation\n",
    "(Upload dataframe)\n",
    "1. numerical Varibales only - > drop other columns\n",
    "2. scale\n",
    "3. train kmeans + (pickle)\n",
    "create model\n",
    "\n",
    "### User Input\n",
    "- User inputs song\n",
    "- search the song - > ID\n",
    "- Audio features of the song\n",
    "- scale\n",
    "- predict the cluster\n",
    "- recommand a song from the cluster. Input track ID into the integrated player"
   ]
  },
  {
   "cell_type": "markdown",
   "id": "70821af3",
   "metadata": {},
   "source": [
    "#### Loading the  combined spotify dataset"
   ]
  },
  {
   "cell_type": "code",
   "execution_count": 2,
   "id": "7f88b43f",
   "metadata": {},
   "outputs": [],
   "source": [
    "df_combined = pd.read_csv('df_combined.csv')"
   ]
  },
  {
   "cell_type": "markdown",
   "id": "50e5e969",
   "metadata": {},
   "source": [
    "### Use numerical columns only"
   ]
  },
  {
   "cell_type": "code",
   "execution_count": 3,
   "id": "b519030f",
   "metadata": {},
   "outputs": [
    {
     "data": {
      "text/plain": [
       "Index(['Unnamed: 0', 'danceability', 'energy', 'key', 'loudness', 'mode',\n",
       "       'speechiness', 'acousticness', 'instrumentalness', 'liveness',\n",
       "       'valence', 'tempo', 'type', 'id', 'uri', 'track_href', 'analysis_url',\n",
       "       'duration_ms', 'time_signature'],\n",
       "      dtype='object')"
      ]
     },
     "execution_count": 3,
     "metadata": {},
     "output_type": "execute_result"
    }
   ],
   "source": [
    "df_combined.columns"
   ]
  },
  {
   "cell_type": "code",
   "execution_count": 4,
   "id": "ec3f86e6",
   "metadata": {},
   "outputs": [],
   "source": [
    "columns_numerical = ['danceability', 'energy', 'key', 'loudness', 'mode',\n",
    "                     'speechiness', 'acousticness', 'instrumentalness', 'liveness',\n",
    "                     'valence', 'tempo']\n",
    "\n",
    "df_combined_numerical = df_combined[columns_numerical]"
   ]
  },
  {
   "cell_type": "code",
   "execution_count": 6,
   "id": "51d33637",
   "metadata": {},
   "outputs": [
    {
     "data": {
      "text/html": [
       "<div>\n",
       "<style scoped>\n",
       "    .dataframe tbody tr th:only-of-type {\n",
       "        vertical-align: middle;\n",
       "    }\n",
       "\n",
       "    .dataframe tbody tr th {\n",
       "        vertical-align: top;\n",
       "    }\n",
       "\n",
       "    .dataframe thead th {\n",
       "        text-align: right;\n",
       "    }\n",
       "</style>\n",
       "<table border=\"1\" class=\"dataframe\">\n",
       "  <thead>\n",
       "    <tr style=\"text-align: right;\">\n",
       "      <th></th>\n",
       "      <th>danceability</th>\n",
       "      <th>energy</th>\n",
       "      <th>key</th>\n",
       "      <th>loudness</th>\n",
       "      <th>mode</th>\n",
       "      <th>speechiness</th>\n",
       "      <th>acousticness</th>\n",
       "      <th>instrumentalness</th>\n",
       "      <th>liveness</th>\n",
       "      <th>valence</th>\n",
       "      <th>tempo</th>\n",
       "    </tr>\n",
       "  </thead>\n",
       "  <tbody>\n",
       "    <tr>\n",
       "      <th>0</th>\n",
       "      <td>0.697</td>\n",
       "      <td>0.832</td>\n",
       "      <td>9</td>\n",
       "      <td>-7.264</td>\n",
       "      <td>1</td>\n",
       "      <td>0.0298</td>\n",
       "      <td>0.168000</td>\n",
       "      <td>0.001310</td>\n",
       "      <td>0.2690</td>\n",
       "      <td>0.979</td>\n",
       "      <td>125.926</td>\n",
       "    </tr>\n",
       "    <tr>\n",
       "      <th>1</th>\n",
       "      <td>0.645</td>\n",
       "      <td>0.795</td>\n",
       "      <td>7</td>\n",
       "      <td>-12.095</td>\n",
       "      <td>1</td>\n",
       "      <td>0.0527</td>\n",
       "      <td>0.347000</td>\n",
       "      <td>0.003890</td>\n",
       "      <td>0.1040</td>\n",
       "      <td>0.535</td>\n",
       "      <td>112.067</td>\n",
       "    </tr>\n",
       "    <tr>\n",
       "      <th>2</th>\n",
       "      <td>0.629</td>\n",
       "      <td>0.545</td>\n",
       "      <td>10</td>\n",
       "      <td>-13.123</td>\n",
       "      <td>0</td>\n",
       "      <td>0.0546</td>\n",
       "      <td>0.719000</td>\n",
       "      <td>0.003080</td>\n",
       "      <td>0.0604</td>\n",
       "      <td>0.194</td>\n",
       "      <td>108.376</td>\n",
       "    </tr>\n",
       "    <tr>\n",
       "      <th>3</th>\n",
       "      <td>0.650</td>\n",
       "      <td>0.306</td>\n",
       "      <td>9</td>\n",
       "      <td>-9.443</td>\n",
       "      <td>1</td>\n",
       "      <td>0.0393</td>\n",
       "      <td>0.570000</td>\n",
       "      <td>0.000007</td>\n",
       "      <td>0.0707</td>\n",
       "      <td>0.605</td>\n",
       "      <td>118.068</td>\n",
       "    </tr>\n",
       "    <tr>\n",
       "      <th>4</th>\n",
       "      <td>0.502</td>\n",
       "      <td>0.912</td>\n",
       "      <td>1</td>\n",
       "      <td>-4.556</td>\n",
       "      <td>1</td>\n",
       "      <td>0.0564</td>\n",
       "      <td>0.000025</td>\n",
       "      <td>0.000173</td>\n",
       "      <td>0.1060</td>\n",
       "      <td>0.720</td>\n",
       "      <td>116.761</td>\n",
       "    </tr>\n",
       "    <tr>\n",
       "      <th>...</th>\n",
       "      <td>...</td>\n",
       "      <td>...</td>\n",
       "      <td>...</td>\n",
       "      <td>...</td>\n",
       "      <td>...</td>\n",
       "      <td>...</td>\n",
       "      <td>...</td>\n",
       "      <td>...</td>\n",
       "      <td>...</td>\n",
       "      <td>...</td>\n",
       "      <td>...</td>\n",
       "    </tr>\n",
       "    <tr>\n",
       "      <th>8881</th>\n",
       "      <td>0.765</td>\n",
       "      <td>0.572</td>\n",
       "      <td>11</td>\n",
       "      <td>-6.153</td>\n",
       "      <td>0</td>\n",
       "      <td>0.1280</td>\n",
       "      <td>0.226000</td>\n",
       "      <td>0.000000</td>\n",
       "      <td>0.1920</td>\n",
       "      <td>0.475</td>\n",
       "      <td>140.013</td>\n",
       "    </tr>\n",
       "    <tr>\n",
       "      <th>8882</th>\n",
       "      <td>0.617</td>\n",
       "      <td>0.840</td>\n",
       "      <td>4</td>\n",
       "      <td>-4.063</td>\n",
       "      <td>1</td>\n",
       "      <td>0.0512</td>\n",
       "      <td>0.360000</td>\n",
       "      <td>0.000088</td>\n",
       "      <td>0.1790</td>\n",
       "      <td>0.570</td>\n",
       "      <td>94.676</td>\n",
       "    </tr>\n",
       "    <tr>\n",
       "      <th>8883</th>\n",
       "      <td>0.490</td>\n",
       "      <td>0.352</td>\n",
       "      <td>6</td>\n",
       "      <td>-11.577</td>\n",
       "      <td>0</td>\n",
       "      <td>0.0254</td>\n",
       "      <td>0.709000</td>\n",
       "      <td>0.085600</td>\n",
       "      <td>0.1140</td>\n",
       "      <td>0.166</td>\n",
       "      <td>99.992</td>\n",
       "    </tr>\n",
       "    <tr>\n",
       "      <th>8884</th>\n",
       "      <td>0.527</td>\n",
       "      <td>0.591</td>\n",
       "      <td>6</td>\n",
       "      <td>-7.664</td>\n",
       "      <td>0</td>\n",
       "      <td>0.0396</td>\n",
       "      <td>0.194000</td>\n",
       "      <td>0.019400</td>\n",
       "      <td>0.0907</td>\n",
       "      <td>0.461</td>\n",
       "      <td>123.167</td>\n",
       "    </tr>\n",
       "    <tr>\n",
       "      <th>8885</th>\n",
       "      <td>0.420</td>\n",
       "      <td>0.837</td>\n",
       "      <td>2</td>\n",
       "      <td>-5.240</td>\n",
       "      <td>1</td>\n",
       "      <td>0.0610</td>\n",
       "      <td>0.215000</td>\n",
       "      <td>0.000030</td>\n",
       "      <td>0.0876</td>\n",
       "      <td>0.196</td>\n",
       "      <td>75.043</td>\n",
       "    </tr>\n",
       "  </tbody>\n",
       "</table>\n",
       "<p>8886 rows × 11 columns</p>\n",
       "</div>"
      ],
      "text/plain": [
       "      danceability  energy  key  loudness  mode  speechiness  acousticness  \\\n",
       "0            0.697   0.832    9    -7.264     1       0.0298      0.168000   \n",
       "1            0.645   0.795    7   -12.095     1       0.0527      0.347000   \n",
       "2            0.629   0.545   10   -13.123     0       0.0546      0.719000   \n",
       "3            0.650   0.306    9    -9.443     1       0.0393      0.570000   \n",
       "4            0.502   0.912    1    -4.556     1       0.0564      0.000025   \n",
       "...            ...     ...  ...       ...   ...          ...           ...   \n",
       "8881         0.765   0.572   11    -6.153     0       0.1280      0.226000   \n",
       "8882         0.617   0.840    4    -4.063     1       0.0512      0.360000   \n",
       "8883         0.490   0.352    6   -11.577     0       0.0254      0.709000   \n",
       "8884         0.527   0.591    6    -7.664     0       0.0396      0.194000   \n",
       "8885         0.420   0.837    2    -5.240     1       0.0610      0.215000   \n",
       "\n",
       "      instrumentalness  liveness  valence    tempo  \n",
       "0             0.001310    0.2690    0.979  125.926  \n",
       "1             0.003890    0.1040    0.535  112.067  \n",
       "2             0.003080    0.0604    0.194  108.376  \n",
       "3             0.000007    0.0707    0.605  118.068  \n",
       "4             0.000173    0.1060    0.720  116.761  \n",
       "...                ...       ...      ...      ...  \n",
       "8881          0.000000    0.1920    0.475  140.013  \n",
       "8882          0.000088    0.1790    0.570   94.676  \n",
       "8883          0.085600    0.1140    0.166   99.992  \n",
       "8884          0.019400    0.0907    0.461  123.167  \n",
       "8885          0.000030    0.0876    0.196   75.043  \n",
       "\n",
       "[8886 rows x 11 columns]"
      ]
     },
     "execution_count": 6,
     "metadata": {},
     "output_type": "execute_result"
    }
   ],
   "source": [
    "X = df_combined_numerical\n",
    "X"
   ]
  },
  {
   "cell_type": "markdown",
   "id": "fccfce49",
   "metadata": {},
   "source": [
    "### Scaling"
   ]
  },
  {
   "cell_type": "code",
   "execution_count": 7,
   "id": "e7809809",
   "metadata": {},
   "outputs": [
    {
     "name": "stdout",
     "output_type": "stream",
     "text": [
      "\n"
     ]
    },
    {
     "data": {
      "text/html": [
       "<div>\n",
       "<style scoped>\n",
       "    .dataframe tbody tr th:only-of-type {\n",
       "        vertical-align: middle;\n",
       "    }\n",
       "\n",
       "    .dataframe tbody tr th {\n",
       "        vertical-align: top;\n",
       "    }\n",
       "\n",
       "    .dataframe thead th {\n",
       "        text-align: right;\n",
       "    }\n",
       "</style>\n",
       "<table border=\"1\" class=\"dataframe\">\n",
       "  <thead>\n",
       "    <tr style=\"text-align: right;\">\n",
       "      <th></th>\n",
       "      <th>danceability</th>\n",
       "      <th>energy</th>\n",
       "      <th>key</th>\n",
       "      <th>loudness</th>\n",
       "      <th>mode</th>\n",
       "      <th>speechiness</th>\n",
       "      <th>acousticness</th>\n",
       "      <th>instrumentalness</th>\n",
       "      <th>liveness</th>\n",
       "      <th>valence</th>\n",
       "      <th>tempo</th>\n",
       "    </tr>\n",
       "  </thead>\n",
       "  <tbody>\n",
       "    <tr>\n",
       "      <th>0</th>\n",
       "      <td>0.676322</td>\n",
       "      <td>0.932296</td>\n",
       "      <td>1.047934</td>\n",
       "      <td>0.308790</td>\n",
       "      <td>0.754960</td>\n",
       "      <td>-0.592027</td>\n",
       "      <td>-0.323570</td>\n",
       "      <td>-0.388989</td>\n",
       "      <td>0.475945</td>\n",
       "      <td>1.826295</td>\n",
       "      <td>0.196508</td>\n",
       "    </tr>\n",
       "    <tr>\n",
       "      <th>1</th>\n",
       "      <td>0.369878</td>\n",
       "      <td>0.763596</td>\n",
       "      <td>0.490082</td>\n",
       "      <td>-0.952696</td>\n",
       "      <td>0.754960</td>\n",
       "      <td>-0.321513</td>\n",
       "      <td>0.309397</td>\n",
       "      <td>-0.377482</td>\n",
       "      <td>-0.530680</td>\n",
       "      <td>0.065051</td>\n",
       "      <td>-0.292658</td>\n",
       "    </tr>\n",
       "    <tr>\n",
       "      <th>2</th>\n",
       "      <td>0.275588</td>\n",
       "      <td>-0.376275</td>\n",
       "      <td>1.326860</td>\n",
       "      <td>-1.221131</td>\n",
       "      <td>-1.324573</td>\n",
       "      <td>-0.299069</td>\n",
       "      <td>1.624836</td>\n",
       "      <td>-0.381095</td>\n",
       "      <td>-0.796673</td>\n",
       "      <td>-1.287617</td>\n",
       "      <td>-0.422935</td>\n",
       "    </tr>\n",
       "    <tr>\n",
       "      <th>3</th>\n",
       "      <td>0.399344</td>\n",
       "      <td>-1.465992</td>\n",
       "      <td>1.047934</td>\n",
       "      <td>-0.260198</td>\n",
       "      <td>0.754960</td>\n",
       "      <td>-0.479805</td>\n",
       "      <td>1.097953</td>\n",
       "      <td>-0.394800</td>\n",
       "      <td>-0.733835</td>\n",
       "      <td>0.342725</td>\n",
       "      <td>-0.080848</td>\n",
       "    </tr>\n",
       "    <tr>\n",
       "      <th>4</th>\n",
       "      <td>-0.472842</td>\n",
       "      <td>1.297055</td>\n",
       "      <td>-1.183473</td>\n",
       "      <td>1.015911</td>\n",
       "      <td>0.754960</td>\n",
       "      <td>-0.277805</td>\n",
       "      <td>-0.917548</td>\n",
       "      <td>-0.394060</td>\n",
       "      <td>-0.518478</td>\n",
       "      <td>0.798903</td>\n",
       "      <td>-0.126979</td>\n",
       "    </tr>\n",
       "  </tbody>\n",
       "</table>\n",
       "</div>"
      ],
      "text/plain": [
       "   danceability    energy       key  loudness      mode  speechiness  \\\n",
       "0      0.676322  0.932296  1.047934  0.308790  0.754960    -0.592027   \n",
       "1      0.369878  0.763596  0.490082 -0.952696  0.754960    -0.321513   \n",
       "2      0.275588 -0.376275  1.326860 -1.221131 -1.324573    -0.299069   \n",
       "3      0.399344 -1.465992  1.047934 -0.260198  0.754960    -0.479805   \n",
       "4     -0.472842  1.297055 -1.183473  1.015911  0.754960    -0.277805   \n",
       "\n",
       "   acousticness  instrumentalness  liveness   valence     tempo  \n",
       "0     -0.323570         -0.388989  0.475945  1.826295  0.196508  \n",
       "1      0.309397         -0.377482 -0.530680  0.065051 -0.292658  \n",
       "2      1.624836         -0.381095 -0.796673 -1.287617 -0.422935  \n",
       "3      1.097953         -0.394800 -0.733835  0.342725 -0.080848  \n",
       "4     -0.917548         -0.394060 -0.518478  0.798903 -0.126979  "
      ]
     },
     "metadata": {},
     "output_type": "display_data"
    }
   ],
   "source": [
    "scaler = StandardScaler()\n",
    "scaler.fit(X)\n",
    "X_scaled = scaler.transform(X)\n",
    "X_scaled_df = pd.DataFrame(X_scaled, columns = X.columns)\n",
    "#display(X.head())\n",
    "print()\n",
    "display(X_scaled_df.head())"
   ]
  },
  {
   "cell_type": "code",
   "execution_count": 8,
   "id": "a52238d5",
   "metadata": {},
   "outputs": [
    {
     "data": {
      "text/html": [
       "<div>\n",
       "<style scoped>\n",
       "    .dataframe tbody tr th:only-of-type {\n",
       "        vertical-align: middle;\n",
       "    }\n",
       "\n",
       "    .dataframe tbody tr th {\n",
       "        vertical-align: top;\n",
       "    }\n",
       "\n",
       "    .dataframe thead th {\n",
       "        text-align: right;\n",
       "    }\n",
       "</style>\n",
       "<table border=\"1\" class=\"dataframe\">\n",
       "  <thead>\n",
       "    <tr style=\"text-align: right;\">\n",
       "      <th></th>\n",
       "      <th>danceability</th>\n",
       "      <th>energy</th>\n",
       "      <th>key</th>\n",
       "      <th>loudness</th>\n",
       "      <th>mode</th>\n",
       "      <th>speechiness</th>\n",
       "      <th>acousticness</th>\n",
       "      <th>instrumentalness</th>\n",
       "      <th>liveness</th>\n",
       "      <th>valence</th>\n",
       "      <th>tempo</th>\n",
       "    </tr>\n",
       "  </thead>\n",
       "  <tbody>\n",
       "    <tr>\n",
       "      <th>count</th>\n",
       "      <td>8886.000000</td>\n",
       "      <td>8886.000000</td>\n",
       "      <td>8886.000000</td>\n",
       "      <td>8886.000000</td>\n",
       "      <td>8886.000000</td>\n",
       "      <td>8886.000000</td>\n",
       "      <td>8886.000000</td>\n",
       "      <td>8886.000000</td>\n",
       "      <td>8886.000000</td>\n",
       "      <td>8886.000000</td>\n",
       "      <td>8886.000000</td>\n",
       "    </tr>\n",
       "    <tr>\n",
       "      <th>mean</th>\n",
       "      <td>0.582236</td>\n",
       "      <td>0.627526</td>\n",
       "      <td>5.242966</td>\n",
       "      <td>-8.446544</td>\n",
       "      <td>0.636957</td>\n",
       "      <td>0.079917</td>\n",
       "      <td>0.259504</td>\n",
       "      <td>0.088528</td>\n",
       "      <td>0.190986</td>\n",
       "      <td>0.518601</td>\n",
       "      <td>120.358565</td>\n",
       "    </tr>\n",
       "    <tr>\n",
       "      <th>std</th>\n",
       "      <td>0.169698</td>\n",
       "      <td>0.219335</td>\n",
       "      <td>3.585383</td>\n",
       "      <td>3.829827</td>\n",
       "      <td>0.480904</td>\n",
       "      <td>0.084658</td>\n",
       "      <td>0.282811</td>\n",
       "      <td>0.224229</td>\n",
       "      <td>0.163923</td>\n",
       "      <td>0.252109</td>\n",
       "      <td>28.333493</td>\n",
       "    </tr>\n",
       "    <tr>\n",
       "      <th>min</th>\n",
       "      <td>0.000000</td>\n",
       "      <td>0.000020</td>\n",
       "      <td>0.000000</td>\n",
       "      <td>-60.000000</td>\n",
       "      <td>0.000000</td>\n",
       "      <td>0.000000</td>\n",
       "      <td>0.000000</td>\n",
       "      <td>0.000000</td>\n",
       "      <td>0.012000</td>\n",
       "      <td>0.000000</td>\n",
       "      <td>0.000000</td>\n",
       "    </tr>\n",
       "    <tr>\n",
       "      <th>25%</th>\n",
       "      <td>0.464000</td>\n",
       "      <td>0.475000</td>\n",
       "      <td>2.000000</td>\n",
       "      <td>-10.441500</td>\n",
       "      <td>0.000000</td>\n",
       "      <td>0.034300</td>\n",
       "      <td>0.024500</td>\n",
       "      <td>0.000000</td>\n",
       "      <td>0.091300</td>\n",
       "      <td>0.313000</td>\n",
       "      <td>98.934250</td>\n",
       "    </tr>\n",
       "    <tr>\n",
       "      <th>50%</th>\n",
       "      <td>0.595000</td>\n",
       "      <td>0.652000</td>\n",
       "      <td>5.000000</td>\n",
       "      <td>-7.734000</td>\n",
       "      <td>1.000000</td>\n",
       "      <td>0.045700</td>\n",
       "      <td>0.142000</td>\n",
       "      <td>0.000091</td>\n",
       "      <td>0.124000</td>\n",
       "      <td>0.520000</td>\n",
       "      <td>119.899500</td>\n",
       "    </tr>\n",
       "    <tr>\n",
       "      <th>75%</th>\n",
       "      <td>0.708000</td>\n",
       "      <td>0.804000</td>\n",
       "      <td>8.000000</td>\n",
       "      <td>-5.715000</td>\n",
       "      <td>1.000000</td>\n",
       "      <td>0.080500</td>\n",
       "      <td>0.435000</td>\n",
       "      <td>0.012200</td>\n",
       "      <td>0.242000</td>\n",
       "      <td>0.726000</td>\n",
       "      <td>137.546250</td>\n",
       "    </tr>\n",
       "    <tr>\n",
       "      <th>max</th>\n",
       "      <td>0.979000</td>\n",
       "      <td>0.999000</td>\n",
       "      <td>11.000000</td>\n",
       "      <td>0.915000</td>\n",
       "      <td>1.000000</td>\n",
       "      <td>0.832000</td>\n",
       "      <td>0.995000</td>\n",
       "      <td>0.985000</td>\n",
       "      <td>0.993000</td>\n",
       "      <td>0.989000</td>\n",
       "      <td>212.336000</td>\n",
       "    </tr>\n",
       "  </tbody>\n",
       "</table>\n",
       "</div>"
      ],
      "text/plain": [
       "       danceability       energy          key     loudness         mode  \\\n",
       "count   8886.000000  8886.000000  8886.000000  8886.000000  8886.000000   \n",
       "mean       0.582236     0.627526     5.242966    -8.446544     0.636957   \n",
       "std        0.169698     0.219335     3.585383     3.829827     0.480904   \n",
       "min        0.000000     0.000020     0.000000   -60.000000     0.000000   \n",
       "25%        0.464000     0.475000     2.000000   -10.441500     0.000000   \n",
       "50%        0.595000     0.652000     5.000000    -7.734000     1.000000   \n",
       "75%        0.708000     0.804000     8.000000    -5.715000     1.000000   \n",
       "max        0.979000     0.999000    11.000000     0.915000     1.000000   \n",
       "\n",
       "       speechiness  acousticness  instrumentalness     liveness      valence  \\\n",
       "count  8886.000000   8886.000000       8886.000000  8886.000000  8886.000000   \n",
       "mean      0.079917      0.259504          0.088528     0.190986     0.518601   \n",
       "std       0.084658      0.282811          0.224229     0.163923     0.252109   \n",
       "min       0.000000      0.000000          0.000000     0.012000     0.000000   \n",
       "25%       0.034300      0.024500          0.000000     0.091300     0.313000   \n",
       "50%       0.045700      0.142000          0.000091     0.124000     0.520000   \n",
       "75%       0.080500      0.435000          0.012200     0.242000     0.726000   \n",
       "max       0.832000      0.995000          0.985000     0.993000     0.989000   \n",
       "\n",
       "             tempo  \n",
       "count  8886.000000  \n",
       "mean    120.358565  \n",
       "std      28.333493  \n",
       "min       0.000000  \n",
       "25%      98.934250  \n",
       "50%     119.899500  \n",
       "75%     137.546250  \n",
       "max     212.336000  "
      ]
     },
     "execution_count": 8,
     "metadata": {},
     "output_type": "execute_result"
    }
   ],
   "source": [
    "X.describe()"
   ]
  },
  {
   "cell_type": "code",
   "execution_count": 9,
   "id": "a22cbf4f",
   "metadata": {},
   "outputs": [
    {
     "data": {
      "text/html": [
       "<div>\n",
       "<style scoped>\n",
       "    .dataframe tbody tr th:only-of-type {\n",
       "        vertical-align: middle;\n",
       "    }\n",
       "\n",
       "    .dataframe tbody tr th {\n",
       "        vertical-align: top;\n",
       "    }\n",
       "\n",
       "    .dataframe thead th {\n",
       "        text-align: right;\n",
       "    }\n",
       "</style>\n",
       "<table border=\"1\" class=\"dataframe\">\n",
       "  <thead>\n",
       "    <tr style=\"text-align: right;\">\n",
       "      <th></th>\n",
       "      <th>danceability</th>\n",
       "      <th>energy</th>\n",
       "      <th>key</th>\n",
       "      <th>loudness</th>\n",
       "      <th>mode</th>\n",
       "      <th>speechiness</th>\n",
       "      <th>acousticness</th>\n",
       "      <th>instrumentalness</th>\n",
       "      <th>liveness</th>\n",
       "      <th>valence</th>\n",
       "      <th>tempo</th>\n",
       "    </tr>\n",
       "  </thead>\n",
       "  <tbody>\n",
       "    <tr>\n",
       "      <th>count</th>\n",
       "      <td>8.886000e+03</td>\n",
       "      <td>8.886000e+03</td>\n",
       "      <td>8.886000e+03</td>\n",
       "      <td>8.886000e+03</td>\n",
       "      <td>8.886000e+03</td>\n",
       "      <td>8.886000e+03</td>\n",
       "      <td>8.886000e+03</td>\n",
       "      <td>8.886000e+03</td>\n",
       "      <td>8.886000e+03</td>\n",
       "      <td>8.886000e+03</td>\n",
       "      <td>8.886000e+03</td>\n",
       "    </tr>\n",
       "    <tr>\n",
       "      <th>mean</th>\n",
       "      <td>6.396964e-17</td>\n",
       "      <td>-1.087484e-16</td>\n",
       "      <td>6.077115e-17</td>\n",
       "      <td>1.791150e-16</td>\n",
       "      <td>2.878634e-17</td>\n",
       "      <td>-6.716812e-17</td>\n",
       "      <td>1.375347e-16</td>\n",
       "      <td>-1.279393e-17</td>\n",
       "      <td>7.136613e-17</td>\n",
       "      <td>-3.246459e-16</td>\n",
       "      <td>2.270922e-16</td>\n",
       "    </tr>\n",
       "    <tr>\n",
       "      <th>std</th>\n",
       "      <td>1.000056e+00</td>\n",
       "      <td>1.000056e+00</td>\n",
       "      <td>1.000056e+00</td>\n",
       "      <td>1.000056e+00</td>\n",
       "      <td>1.000056e+00</td>\n",
       "      <td>1.000056e+00</td>\n",
       "      <td>1.000056e+00</td>\n",
       "      <td>1.000056e+00</td>\n",
       "      <td>1.000056e+00</td>\n",
       "      <td>1.000056e+00</td>\n",
       "      <td>1.000056e+00</td>\n",
       "    </tr>\n",
       "    <tr>\n",
       "      <th>min</th>\n",
       "      <td>-3.431201e+00</td>\n",
       "      <td>-2.861101e+00</td>\n",
       "      <td>-1.462399e+00</td>\n",
       "      <td>-1.346180e+01</td>\n",
       "      <td>-1.324573e+00</td>\n",
       "      <td>-9.440508e-01</td>\n",
       "      <td>-9.176386e-01</td>\n",
       "      <td>-3.948316e-01</td>\n",
       "      <td>-1.091949e+00</td>\n",
       "      <td>-2.057169e+00</td>\n",
       "      <td>-4.248164e+00</td>\n",
       "    </tr>\n",
       "    <tr>\n",
       "      <th>25%</th>\n",
       "      <td>-6.967811e-01</td>\n",
       "      <td>-6.954390e-01</td>\n",
       "      <td>-9.045474e-01</td>\n",
       "      <td>-5.209290e-01</td>\n",
       "      <td>-1.324573e+00</td>\n",
       "      <td>-5.388696e-01</td>\n",
       "      <td>-8.310036e-01</td>\n",
       "      <td>-3.948316e-01</td>\n",
       "      <td>-6.081593e-01</td>\n",
       "      <td>-8.155713e-01</td>\n",
       "      <td>-7.561906e-01</td>\n",
       "    </tr>\n",
       "    <tr>\n",
       "      <th>50%</th>\n",
       "      <td>7.522105e-02</td>\n",
       "      <td>1.115894e-01</td>\n",
       "      <td>-6.776964e-02</td>\n",
       "      <td>1.860618e-01</td>\n",
       "      <td>7.549600e-01</td>\n",
       "      <td>-4.042030e-01</td>\n",
       "      <td>-4.155088e-01</td>\n",
       "      <td>-3.944273e-01</td>\n",
       "      <td>-4.086646e-01</td>\n",
       "      <td>5.549362e-03</td>\n",
       "      <td>-1.620312e-02</td>\n",
       "    </tr>\n",
       "    <tr>\n",
       "      <th>75%</th>\n",
       "      <td>7.411466e-01</td>\n",
       "      <td>8.046309e-01</td>\n",
       "      <td>7.690081e-01</td>\n",
       "      <td>7.132694e-01</td>\n",
       "      <td>7.549600e-01</td>\n",
       "      <td>6.884588e-03</td>\n",
       "      <td>6.205761e-01</td>\n",
       "      <td>-3.404199e-01</td>\n",
       "      <td>3.112245e-01</td>\n",
       "      <td>8.227033e-01</td>\n",
       "      <td>6.066549e-01</td>\n",
       "    </tr>\n",
       "    <tr>\n",
       "      <th>max</th>\n",
       "      <td>2.338189e+00</td>\n",
       "      <td>1.693730e+00</td>\n",
       "      <td>1.605786e+00</td>\n",
       "      <td>2.444516e+00</td>\n",
       "      <td>7.549600e-01</td>\n",
       "      <td>8.884250e+00</td>\n",
       "      <td>2.600806e+00</td>\n",
       "      <td>3.998243e+00</td>\n",
       "      <td>4.892892e+00</td>\n",
       "      <td>1.865963e+00</td>\n",
       "      <td>3.246427e+00</td>\n",
       "    </tr>\n",
       "  </tbody>\n",
       "</table>\n",
       "</div>"
      ],
      "text/plain": [
       "       danceability        energy           key      loudness          mode  \\\n",
       "count  8.886000e+03  8.886000e+03  8.886000e+03  8.886000e+03  8.886000e+03   \n",
       "mean   6.396964e-17 -1.087484e-16  6.077115e-17  1.791150e-16  2.878634e-17   \n",
       "std    1.000056e+00  1.000056e+00  1.000056e+00  1.000056e+00  1.000056e+00   \n",
       "min   -3.431201e+00 -2.861101e+00 -1.462399e+00 -1.346180e+01 -1.324573e+00   \n",
       "25%   -6.967811e-01 -6.954390e-01 -9.045474e-01 -5.209290e-01 -1.324573e+00   \n",
       "50%    7.522105e-02  1.115894e-01 -6.776964e-02  1.860618e-01  7.549600e-01   \n",
       "75%    7.411466e-01  8.046309e-01  7.690081e-01  7.132694e-01  7.549600e-01   \n",
       "max    2.338189e+00  1.693730e+00  1.605786e+00  2.444516e+00  7.549600e-01   \n",
       "\n",
       "        speechiness  acousticness  instrumentalness      liveness  \\\n",
       "count  8.886000e+03  8.886000e+03      8.886000e+03  8.886000e+03   \n",
       "mean  -6.716812e-17  1.375347e-16     -1.279393e-17  7.136613e-17   \n",
       "std    1.000056e+00  1.000056e+00      1.000056e+00  1.000056e+00   \n",
       "min   -9.440508e-01 -9.176386e-01     -3.948316e-01 -1.091949e+00   \n",
       "25%   -5.388696e-01 -8.310036e-01     -3.948316e-01 -6.081593e-01   \n",
       "50%   -4.042030e-01 -4.155088e-01     -3.944273e-01 -4.086646e-01   \n",
       "75%    6.884588e-03  6.205761e-01     -3.404199e-01  3.112245e-01   \n",
       "max    8.884250e+00  2.600806e+00      3.998243e+00  4.892892e+00   \n",
       "\n",
       "            valence         tempo  \n",
       "count  8.886000e+03  8.886000e+03  \n",
       "mean  -3.246459e-16  2.270922e-16  \n",
       "std    1.000056e+00  1.000056e+00  \n",
       "min   -2.057169e+00 -4.248164e+00  \n",
       "25%   -8.155713e-01 -7.561906e-01  \n",
       "50%    5.549362e-03 -1.620312e-02  \n",
       "75%    8.227033e-01  6.066549e-01  \n",
       "max    1.865963e+00  3.246427e+00  "
      ]
     },
     "execution_count": 9,
     "metadata": {},
     "output_type": "execute_result"
    }
   ],
   "source": [
    "X_scaled_df.describe()"
   ]
  },
  {
   "cell_type": "markdown",
   "id": "ab5423a0",
   "metadata": {},
   "source": [
    "### Train Kmeans"
   ]
  },
  {
   "cell_type": "code",
   "execution_count": 10,
   "id": "89753452",
   "metadata": {},
   "outputs": [
    {
     "name": "stderr",
     "output_type": "stream",
     "text": [
      "C:\\Users\\flori\\anaconda4\\Lib\\site-packages\\sklearn\\cluster\\_kmeans.py:1412: FutureWarning: The default value of `n_init` will change from 10 to 'auto' in 1.4. Set the value of `n_init` explicitly to suppress the warning\n",
      "  super()._check_params_vs_input(X, default_n_init=10)\n"
     ]
    },
    {
     "data": {
      "text/html": [
       "<style>#sk-container-id-1 {color: black;}#sk-container-id-1 pre{padding: 0;}#sk-container-id-1 div.sk-toggleable {background-color: white;}#sk-container-id-1 label.sk-toggleable__label {cursor: pointer;display: block;width: 100%;margin-bottom: 0;padding: 0.3em;box-sizing: border-box;text-align: center;}#sk-container-id-1 label.sk-toggleable__label-arrow:before {content: \"▸\";float: left;margin-right: 0.25em;color: #696969;}#sk-container-id-1 label.sk-toggleable__label-arrow:hover:before {color: black;}#sk-container-id-1 div.sk-estimator:hover label.sk-toggleable__label-arrow:before {color: black;}#sk-container-id-1 div.sk-toggleable__content {max-height: 0;max-width: 0;overflow: hidden;text-align: left;background-color: #f0f8ff;}#sk-container-id-1 div.sk-toggleable__content pre {margin: 0.2em;color: black;border-radius: 0.25em;background-color: #f0f8ff;}#sk-container-id-1 input.sk-toggleable__control:checked~div.sk-toggleable__content {max-height: 200px;max-width: 100%;overflow: auto;}#sk-container-id-1 input.sk-toggleable__control:checked~label.sk-toggleable__label-arrow:before {content: \"▾\";}#sk-container-id-1 div.sk-estimator input.sk-toggleable__control:checked~label.sk-toggleable__label {background-color: #d4ebff;}#sk-container-id-1 div.sk-label input.sk-toggleable__control:checked~label.sk-toggleable__label {background-color: #d4ebff;}#sk-container-id-1 input.sk-hidden--visually {border: 0;clip: rect(1px 1px 1px 1px);clip: rect(1px, 1px, 1px, 1px);height: 1px;margin: -1px;overflow: hidden;padding: 0;position: absolute;width: 1px;}#sk-container-id-1 div.sk-estimator {font-family: monospace;background-color: #f0f8ff;border: 1px dotted black;border-radius: 0.25em;box-sizing: border-box;margin-bottom: 0.5em;}#sk-container-id-1 div.sk-estimator:hover {background-color: #d4ebff;}#sk-container-id-1 div.sk-parallel-item::after {content: \"\";width: 100%;border-bottom: 1px solid gray;flex-grow: 1;}#sk-container-id-1 div.sk-label:hover label.sk-toggleable__label {background-color: #d4ebff;}#sk-container-id-1 div.sk-serial::before {content: \"\";position: absolute;border-left: 1px solid gray;box-sizing: border-box;top: 0;bottom: 0;left: 50%;z-index: 0;}#sk-container-id-1 div.sk-serial {display: flex;flex-direction: column;align-items: center;background-color: white;padding-right: 0.2em;padding-left: 0.2em;position: relative;}#sk-container-id-1 div.sk-item {position: relative;z-index: 1;}#sk-container-id-1 div.sk-parallel {display: flex;align-items: stretch;justify-content: center;background-color: white;position: relative;}#sk-container-id-1 div.sk-item::before, #sk-container-id-1 div.sk-parallel-item::before {content: \"\";position: absolute;border-left: 1px solid gray;box-sizing: border-box;top: 0;bottom: 0;left: 50%;z-index: -1;}#sk-container-id-1 div.sk-parallel-item {display: flex;flex-direction: column;z-index: 1;position: relative;background-color: white;}#sk-container-id-1 div.sk-parallel-item:first-child::after {align-self: flex-end;width: 50%;}#sk-container-id-1 div.sk-parallel-item:last-child::after {align-self: flex-start;width: 50%;}#sk-container-id-1 div.sk-parallel-item:only-child::after {width: 0;}#sk-container-id-1 div.sk-dashed-wrapped {border: 1px dashed gray;margin: 0 0.4em 0.5em 0.4em;box-sizing: border-box;padding-bottom: 0.4em;background-color: white;}#sk-container-id-1 div.sk-label label {font-family: monospace;font-weight: bold;display: inline-block;line-height: 1.2em;}#sk-container-id-1 div.sk-label-container {text-align: center;}#sk-container-id-1 div.sk-container {/* jupyter's `normalize.less` sets `[hidden] { display: none; }` but bootstrap.min.css set `[hidden] { display: none !important; }` so we also need the `!important` here to be able to override the default hidden behavior on the sphinx rendered scikit-learn.org. See: https://github.com/scikit-learn/scikit-learn/issues/21755 */display: inline-block !important;position: relative;}#sk-container-id-1 div.sk-text-repr-fallback {display: none;}</style><div id=\"sk-container-id-1\" class=\"sk-top-container\"><div class=\"sk-text-repr-fallback\"><pre>KMeans(n_clusters=15, random_state=1234)</pre><b>In a Jupyter environment, please rerun this cell to show the HTML representation or trust the notebook. <br />On GitHub, the HTML representation is unable to render, please try loading this page with nbviewer.org.</b></div><div class=\"sk-container\" hidden><div class=\"sk-item\"><div class=\"sk-estimator sk-toggleable\"><input class=\"sk-toggleable__control sk-hidden--visually\" id=\"sk-estimator-id-1\" type=\"checkbox\" checked><label for=\"sk-estimator-id-1\" class=\"sk-toggleable__label sk-toggleable__label-arrow\">KMeans</label><div class=\"sk-toggleable__content\"><pre>KMeans(n_clusters=15, random_state=1234)</pre></div></div></div></div></div>"
      ],
      "text/plain": [
       "KMeans(n_clusters=15, random_state=1234)"
      ]
     },
     "execution_count": 10,
     "metadata": {},
     "output_type": "execute_result"
    }
   ],
   "source": [
    "kmeans = KMeans(n_clusters=15, random_state=1234)\n",
    "kmeans.fit(X_scaled_df)"
   ]
  },
  {
   "cell_type": "code",
   "execution_count": 11,
   "id": "86186771",
   "metadata": {},
   "outputs": [
    {
     "data": {
      "text/plain": [
       "array([11, 11, 12, ..., 12,  3, 10])"
      ]
     },
     "execution_count": 11,
     "metadata": {},
     "output_type": "execute_result"
    }
   ],
   "source": [
    "labels = kmeans.labels_\n",
    "labels"
   ]
  },
  {
   "cell_type": "code",
   "execution_count": 12,
   "id": "f4583696",
   "metadata": {},
   "outputs": [
    {
     "data": {
      "text/plain": [
       "array([ 0,  1,  2,  3,  4,  5,  6,  7,  8,  9, 10, 11, 12, 13, 14])"
      ]
     },
     "execution_count": 12,
     "metadata": {},
     "output_type": "execute_result"
    }
   ],
   "source": [
    "np.unique(labels)"
   ]
  },
  {
   "cell_type": "code",
   "execution_count": 13,
   "id": "cbdc6288",
   "metadata": {},
   "outputs": [
    {
     "data": {
      "text/plain": [
       "array([11, 11, 12, ..., 12,  3, 10])"
      ]
     },
     "execution_count": 13,
     "metadata": {},
     "output_type": "execute_result"
    }
   ],
   "source": [
    "clusters = kmeans.predict(X_scaled_df)\n",
    "clusters"
   ]
  },
  {
   "cell_type": "code",
   "execution_count": 76,
   "id": "ec172266",
   "metadata": {},
   "outputs": [
    {
     "data": {
      "text/plain": [
       "0      970\n",
       "1      451\n",
       "2      172\n",
       "3      573\n",
       "4      713\n",
       "5      271\n",
       "6      608\n",
       "7      620\n",
       "8      365\n",
       "9      536\n",
       "10     760\n",
       "11    1004\n",
       "12     588\n",
       "13     669\n",
       "14     586\n",
       "Name: count, dtype: int64"
      ]
     },
     "execution_count": 76,
     "metadata": {},
     "output_type": "execute_result"
    }
   ],
   "source": [
    "clusters = kmeans.predict(X_scaled_df)\n",
    "#clusters\n",
    "pd.Series(clusters).value_counts().sort_index()"
   ]
  },
  {
   "cell_type": "code",
   "execution_count": 14,
   "id": "4e282648",
   "metadata": {},
   "outputs": [
    {
     "name": "stderr",
     "output_type": "stream",
     "text": [
      "C:\\Users\\flori\\AppData\\Local\\Temp\\ipykernel_7684\\3390344749.py:2: SettingWithCopyWarning: \n",
      "A value is trying to be set on a copy of a slice from a DataFrame.\n",
      "Try using .loc[row_indexer,col_indexer] = value instead\n",
      "\n",
      "See the caveats in the documentation: https://pandas.pydata.org/pandas-docs/stable/user_guide/indexing.html#returning-a-view-versus-a-copy\n",
      "  X[\"cluster\"] = clusters\n"
     ]
    },
    {
     "data": {
      "text/html": [
       "<div>\n",
       "<style scoped>\n",
       "    .dataframe tbody tr th:only-of-type {\n",
       "        vertical-align: middle;\n",
       "    }\n",
       "\n",
       "    .dataframe tbody tr th {\n",
       "        vertical-align: top;\n",
       "    }\n",
       "\n",
       "    .dataframe thead th {\n",
       "        text-align: right;\n",
       "    }\n",
       "</style>\n",
       "<table border=\"1\" class=\"dataframe\">\n",
       "  <thead>\n",
       "    <tr style=\"text-align: right;\">\n",
       "      <th></th>\n",
       "      <th>danceability</th>\n",
       "      <th>energy</th>\n",
       "      <th>key</th>\n",
       "      <th>loudness</th>\n",
       "      <th>mode</th>\n",
       "      <th>speechiness</th>\n",
       "      <th>acousticness</th>\n",
       "      <th>instrumentalness</th>\n",
       "      <th>liveness</th>\n",
       "      <th>valence</th>\n",
       "      <th>tempo</th>\n",
       "      <th>cluster</th>\n",
       "    </tr>\n",
       "  </thead>\n",
       "  <tbody>\n",
       "    <tr>\n",
       "      <th>0</th>\n",
       "      <td>0.697</td>\n",
       "      <td>0.832</td>\n",
       "      <td>9</td>\n",
       "      <td>-7.264</td>\n",
       "      <td>1</td>\n",
       "      <td>0.0298</td>\n",
       "      <td>0.168000</td>\n",
       "      <td>0.001310</td>\n",
       "      <td>0.2690</td>\n",
       "      <td>0.979</td>\n",
       "      <td>125.926</td>\n",
       "      <td>11</td>\n",
       "    </tr>\n",
       "    <tr>\n",
       "      <th>1</th>\n",
       "      <td>0.645</td>\n",
       "      <td>0.795</td>\n",
       "      <td>7</td>\n",
       "      <td>-12.095</td>\n",
       "      <td>1</td>\n",
       "      <td>0.0527</td>\n",
       "      <td>0.347000</td>\n",
       "      <td>0.003890</td>\n",
       "      <td>0.1040</td>\n",
       "      <td>0.535</td>\n",
       "      <td>112.067</td>\n",
       "      <td>11</td>\n",
       "    </tr>\n",
       "    <tr>\n",
       "      <th>2</th>\n",
       "      <td>0.629</td>\n",
       "      <td>0.545</td>\n",
       "      <td>10</td>\n",
       "      <td>-13.123</td>\n",
       "      <td>0</td>\n",
       "      <td>0.0546</td>\n",
       "      <td>0.719000</td>\n",
       "      <td>0.003080</td>\n",
       "      <td>0.0604</td>\n",
       "      <td>0.194</td>\n",
       "      <td>108.376</td>\n",
       "      <td>12</td>\n",
       "    </tr>\n",
       "    <tr>\n",
       "      <th>3</th>\n",
       "      <td>0.650</td>\n",
       "      <td>0.306</td>\n",
       "      <td>9</td>\n",
       "      <td>-9.443</td>\n",
       "      <td>1</td>\n",
       "      <td>0.0393</td>\n",
       "      <td>0.570000</td>\n",
       "      <td>0.000007</td>\n",
       "      <td>0.0707</td>\n",
       "      <td>0.605</td>\n",
       "      <td>118.068</td>\n",
       "      <td>4</td>\n",
       "    </tr>\n",
       "    <tr>\n",
       "      <th>4</th>\n",
       "      <td>0.502</td>\n",
       "      <td>0.912</td>\n",
       "      <td>1</td>\n",
       "      <td>-4.556</td>\n",
       "      <td>1</td>\n",
       "      <td>0.0564</td>\n",
       "      <td>0.000025</td>\n",
       "      <td>0.000173</td>\n",
       "      <td>0.1060</td>\n",
       "      <td>0.720</td>\n",
       "      <td>116.761</td>\n",
       "      <td>0</td>\n",
       "    </tr>\n",
       "    <tr>\n",
       "      <th>...</th>\n",
       "      <td>...</td>\n",
       "      <td>...</td>\n",
       "      <td>...</td>\n",
       "      <td>...</td>\n",
       "      <td>...</td>\n",
       "      <td>...</td>\n",
       "      <td>...</td>\n",
       "      <td>...</td>\n",
       "      <td>...</td>\n",
       "      <td>...</td>\n",
       "      <td>...</td>\n",
       "      <td>...</td>\n",
       "    </tr>\n",
       "    <tr>\n",
       "      <th>8881</th>\n",
       "      <td>0.765</td>\n",
       "      <td>0.572</td>\n",
       "      <td>11</td>\n",
       "      <td>-6.153</td>\n",
       "      <td>0</td>\n",
       "      <td>0.1280</td>\n",
       "      <td>0.226000</td>\n",
       "      <td>0.000000</td>\n",
       "      <td>0.1920</td>\n",
       "      <td>0.475</td>\n",
       "      <td>140.013</td>\n",
       "      <td>13</td>\n",
       "    </tr>\n",
       "    <tr>\n",
       "      <th>8882</th>\n",
       "      <td>0.617</td>\n",
       "      <td>0.840</td>\n",
       "      <td>4</td>\n",
       "      <td>-4.063</td>\n",
       "      <td>1</td>\n",
       "      <td>0.0512</td>\n",
       "      <td>0.360000</td>\n",
       "      <td>0.000088</td>\n",
       "      <td>0.1790</td>\n",
       "      <td>0.570</td>\n",
       "      <td>94.676</td>\n",
       "      <td>0</td>\n",
       "    </tr>\n",
       "    <tr>\n",
       "      <th>8883</th>\n",
       "      <td>0.490</td>\n",
       "      <td>0.352</td>\n",
       "      <td>6</td>\n",
       "      <td>-11.577</td>\n",
       "      <td>0</td>\n",
       "      <td>0.0254</td>\n",
       "      <td>0.709000</td>\n",
       "      <td>0.085600</td>\n",
       "      <td>0.1140</td>\n",
       "      <td>0.166</td>\n",
       "      <td>99.992</td>\n",
       "      <td>12</td>\n",
       "    </tr>\n",
       "    <tr>\n",
       "      <th>8884</th>\n",
       "      <td>0.527</td>\n",
       "      <td>0.591</td>\n",
       "      <td>6</td>\n",
       "      <td>-7.664</td>\n",
       "      <td>0</td>\n",
       "      <td>0.0396</td>\n",
       "      <td>0.194000</td>\n",
       "      <td>0.019400</td>\n",
       "      <td>0.0907</td>\n",
       "      <td>0.461</td>\n",
       "      <td>123.167</td>\n",
       "      <td>3</td>\n",
       "    </tr>\n",
       "    <tr>\n",
       "      <th>8885</th>\n",
       "      <td>0.420</td>\n",
       "      <td>0.837</td>\n",
       "      <td>2</td>\n",
       "      <td>-5.240</td>\n",
       "      <td>1</td>\n",
       "      <td>0.0610</td>\n",
       "      <td>0.215000</td>\n",
       "      <td>0.000030</td>\n",
       "      <td>0.0876</td>\n",
       "      <td>0.196</td>\n",
       "      <td>75.043</td>\n",
       "      <td>10</td>\n",
       "    </tr>\n",
       "  </tbody>\n",
       "</table>\n",
       "<p>8886 rows × 12 columns</p>\n",
       "</div>"
      ],
      "text/plain": [
       "      danceability  energy  key  loudness  mode  speechiness  acousticness  \\\n",
       "0            0.697   0.832    9    -7.264     1       0.0298      0.168000   \n",
       "1            0.645   0.795    7   -12.095     1       0.0527      0.347000   \n",
       "2            0.629   0.545   10   -13.123     0       0.0546      0.719000   \n",
       "3            0.650   0.306    9    -9.443     1       0.0393      0.570000   \n",
       "4            0.502   0.912    1    -4.556     1       0.0564      0.000025   \n",
       "...            ...     ...  ...       ...   ...          ...           ...   \n",
       "8881         0.765   0.572   11    -6.153     0       0.1280      0.226000   \n",
       "8882         0.617   0.840    4    -4.063     1       0.0512      0.360000   \n",
       "8883         0.490   0.352    6   -11.577     0       0.0254      0.709000   \n",
       "8884         0.527   0.591    6    -7.664     0       0.0396      0.194000   \n",
       "8885         0.420   0.837    2    -5.240     1       0.0610      0.215000   \n",
       "\n",
       "      instrumentalness  liveness  valence    tempo  cluster  \n",
       "0             0.001310    0.2690    0.979  125.926       11  \n",
       "1             0.003890    0.1040    0.535  112.067       11  \n",
       "2             0.003080    0.0604    0.194  108.376       12  \n",
       "3             0.000007    0.0707    0.605  118.068        4  \n",
       "4             0.000173    0.1060    0.720  116.761        0  \n",
       "...                ...       ...      ...      ...      ...  \n",
       "8881          0.000000    0.1920    0.475  140.013       13  \n",
       "8882          0.000088    0.1790    0.570   94.676        0  \n",
       "8883          0.085600    0.1140    0.166   99.992       12  \n",
       "8884          0.019400    0.0907    0.461  123.167        3  \n",
       "8885          0.000030    0.0876    0.196   75.043       10  \n",
       "\n",
       "[8886 rows x 12 columns]"
      ]
     },
     "execution_count": 14,
     "metadata": {},
     "output_type": "execute_result"
    }
   ],
   "source": [
    "#X_df = pd.DataFrame(X)\n",
    "X[\"cluster\"] = clusters\n",
    "X"
   ]
  },
  {
   "cell_type": "markdown",
   "id": "4fe4491a",
   "metadata": {},
   "source": [
    "### Training the model / Chosing K"
   ]
  },
  {
   "cell_type": "code",
   "execution_count": 16,
   "id": "b36c169a",
   "metadata": {},
   "outputs": [
    {
     "name": "stdout",
     "output_type": "stream",
     "text": [
      "Training a K-Means model with 2 clusters! \n",
      "\n"
     ]
    },
    {
     "name": "stderr",
     "output_type": "stream",
     "text": [
      "C:\\Users\\flori\\anaconda4\\Lib\\site-packages\\sklearn\\cluster\\_kmeans.py:1412: FutureWarning: The default value of `n_init` will change from 10 to 'auto' in 1.4. Set the value of `n_init` explicitly to suppress the warning\n",
      "  super()._check_params_vs_input(X, default_n_init=10)\n"
     ]
    },
    {
     "name": "stdout",
     "output_type": "stream",
     "text": [
      "Training a K-Means model with 3 clusters! \n",
      "\n"
     ]
    },
    {
     "name": "stderr",
     "output_type": "stream",
     "text": [
      "C:\\Users\\flori\\anaconda4\\Lib\\site-packages\\sklearn\\cluster\\_kmeans.py:1412: FutureWarning: The default value of `n_init` will change from 10 to 'auto' in 1.4. Set the value of `n_init` explicitly to suppress the warning\n",
      "  super()._check_params_vs_input(X, default_n_init=10)\n"
     ]
    },
    {
     "name": "stdout",
     "output_type": "stream",
     "text": [
      "Training a K-Means model with 4 clusters! \n",
      "\n"
     ]
    },
    {
     "name": "stderr",
     "output_type": "stream",
     "text": [
      "C:\\Users\\flori\\anaconda4\\Lib\\site-packages\\sklearn\\cluster\\_kmeans.py:1412: FutureWarning: The default value of `n_init` will change from 10 to 'auto' in 1.4. Set the value of `n_init` explicitly to suppress the warning\n",
      "  super()._check_params_vs_input(X, default_n_init=10)\n"
     ]
    },
    {
     "name": "stdout",
     "output_type": "stream",
     "text": [
      "Training a K-Means model with 5 clusters! \n",
      "\n"
     ]
    },
    {
     "name": "stderr",
     "output_type": "stream",
     "text": [
      "C:\\Users\\flori\\anaconda4\\Lib\\site-packages\\sklearn\\cluster\\_kmeans.py:1412: FutureWarning: The default value of `n_init` will change from 10 to 'auto' in 1.4. Set the value of `n_init` explicitly to suppress the warning\n",
      "  super()._check_params_vs_input(X, default_n_init=10)\n"
     ]
    },
    {
     "name": "stdout",
     "output_type": "stream",
     "text": [
      "Training a K-Means model with 6 clusters! \n",
      "\n"
     ]
    },
    {
     "name": "stderr",
     "output_type": "stream",
     "text": [
      "C:\\Users\\flori\\anaconda4\\Lib\\site-packages\\sklearn\\cluster\\_kmeans.py:1412: FutureWarning: The default value of `n_init` will change from 10 to 'auto' in 1.4. Set the value of `n_init` explicitly to suppress the warning\n",
      "  super()._check_params_vs_input(X, default_n_init=10)\n"
     ]
    },
    {
     "name": "stdout",
     "output_type": "stream",
     "text": [
      "Training a K-Means model with 7 clusters! \n",
      "\n"
     ]
    },
    {
     "name": "stderr",
     "output_type": "stream",
     "text": [
      "C:\\Users\\flori\\anaconda4\\Lib\\site-packages\\sklearn\\cluster\\_kmeans.py:1412: FutureWarning: The default value of `n_init` will change from 10 to 'auto' in 1.4. Set the value of `n_init` explicitly to suppress the warning\n",
      "  super()._check_params_vs_input(X, default_n_init=10)\n"
     ]
    },
    {
     "name": "stdout",
     "output_type": "stream",
     "text": [
      "Training a K-Means model with 8 clusters! \n",
      "\n"
     ]
    },
    {
     "name": "stderr",
     "output_type": "stream",
     "text": [
      "C:\\Users\\flori\\anaconda4\\Lib\\site-packages\\sklearn\\cluster\\_kmeans.py:1412: FutureWarning: The default value of `n_init` will change from 10 to 'auto' in 1.4. Set the value of `n_init` explicitly to suppress the warning\n",
      "  super()._check_params_vs_input(X, default_n_init=10)\n"
     ]
    },
    {
     "name": "stdout",
     "output_type": "stream",
     "text": [
      "Training a K-Means model with 9 clusters! \n",
      "\n"
     ]
    },
    {
     "name": "stderr",
     "output_type": "stream",
     "text": [
      "C:\\Users\\flori\\anaconda4\\Lib\\site-packages\\sklearn\\cluster\\_kmeans.py:1412: FutureWarning: The default value of `n_init` will change from 10 to 'auto' in 1.4. Set the value of `n_init` explicitly to suppress the warning\n",
      "  super()._check_params_vs_input(X, default_n_init=10)\n"
     ]
    },
    {
     "name": "stdout",
     "output_type": "stream",
     "text": [
      "Training a K-Means model with 10 clusters! \n",
      "\n"
     ]
    },
    {
     "name": "stderr",
     "output_type": "stream",
     "text": [
      "C:\\Users\\flori\\anaconda4\\Lib\\site-packages\\sklearn\\cluster\\_kmeans.py:1412: FutureWarning: The default value of `n_init` will change from 10 to 'auto' in 1.4. Set the value of `n_init` explicitly to suppress the warning\n",
      "  super()._check_params_vs_input(X, default_n_init=10)\n"
     ]
    },
    {
     "name": "stdout",
     "output_type": "stream",
     "text": [
      "Training a K-Means model with 11 clusters! \n",
      "\n"
     ]
    },
    {
     "name": "stderr",
     "output_type": "stream",
     "text": [
      "C:\\Users\\flori\\anaconda4\\Lib\\site-packages\\sklearn\\cluster\\_kmeans.py:1412: FutureWarning: The default value of `n_init` will change from 10 to 'auto' in 1.4. Set the value of `n_init` explicitly to suppress the warning\n",
      "  super()._check_params_vs_input(X, default_n_init=10)\n"
     ]
    },
    {
     "name": "stdout",
     "output_type": "stream",
     "text": [
      "Training a K-Means model with 12 clusters! \n",
      "\n"
     ]
    },
    {
     "name": "stderr",
     "output_type": "stream",
     "text": [
      "C:\\Users\\flori\\anaconda4\\Lib\\site-packages\\sklearn\\cluster\\_kmeans.py:1412: FutureWarning: The default value of `n_init` will change from 10 to 'auto' in 1.4. Set the value of `n_init` explicitly to suppress the warning\n",
      "  super()._check_params_vs_input(X, default_n_init=10)\n"
     ]
    },
    {
     "name": "stdout",
     "output_type": "stream",
     "text": [
      "Training a K-Means model with 13 clusters! \n",
      "\n"
     ]
    },
    {
     "name": "stderr",
     "output_type": "stream",
     "text": [
      "C:\\Users\\flori\\anaconda4\\Lib\\site-packages\\sklearn\\cluster\\_kmeans.py:1412: FutureWarning: The default value of `n_init` will change from 10 to 'auto' in 1.4. Set the value of `n_init` explicitly to suppress the warning\n",
      "  super()._check_params_vs_input(X, default_n_init=10)\n"
     ]
    },
    {
     "name": "stdout",
     "output_type": "stream",
     "text": [
      "Training a K-Means model with 14 clusters! \n",
      "\n"
     ]
    },
    {
     "name": "stderr",
     "output_type": "stream",
     "text": [
      "C:\\Users\\flori\\anaconda4\\Lib\\site-packages\\sklearn\\cluster\\_kmeans.py:1412: FutureWarning: The default value of `n_init` will change from 10 to 'auto' in 1.4. Set the value of `n_init` explicitly to suppress the warning\n",
      "  super()._check_params_vs_input(X, default_n_init=10)\n"
     ]
    },
    {
     "name": "stdout",
     "output_type": "stream",
     "text": [
      "Training a K-Means model with 15 clusters! \n",
      "\n"
     ]
    },
    {
     "name": "stderr",
     "output_type": "stream",
     "text": [
      "C:\\Users\\flori\\anaconda4\\Lib\\site-packages\\sklearn\\cluster\\_kmeans.py:1412: FutureWarning: The default value of `n_init` will change from 10 to 'auto' in 1.4. Set the value of `n_init` explicitly to suppress the warning\n",
      "  super()._check_params_vs_input(X, default_n_init=10)\n"
     ]
    },
    {
     "name": "stdout",
     "output_type": "stream",
     "text": [
      "Training a K-Means model with 16 clusters! \n",
      "\n"
     ]
    },
    {
     "name": "stderr",
     "output_type": "stream",
     "text": [
      "C:\\Users\\flori\\anaconda4\\Lib\\site-packages\\sklearn\\cluster\\_kmeans.py:1412: FutureWarning: The default value of `n_init` will change from 10 to 'auto' in 1.4. Set the value of `n_init` explicitly to suppress the warning\n",
      "  super()._check_params_vs_input(X, default_n_init=10)\n"
     ]
    },
    {
     "name": "stdout",
     "output_type": "stream",
     "text": [
      "Training a K-Means model with 17 clusters! \n",
      "\n"
     ]
    },
    {
     "name": "stderr",
     "output_type": "stream",
     "text": [
      "C:\\Users\\flori\\anaconda4\\Lib\\site-packages\\sklearn\\cluster\\_kmeans.py:1412: FutureWarning: The default value of `n_init` will change from 10 to 'auto' in 1.4. Set the value of `n_init` explicitly to suppress the warning\n",
      "  super()._check_params_vs_input(X, default_n_init=10)\n"
     ]
    },
    {
     "name": "stdout",
     "output_type": "stream",
     "text": [
      "Training a K-Means model with 18 clusters! \n",
      "\n"
     ]
    },
    {
     "name": "stderr",
     "output_type": "stream",
     "text": [
      "C:\\Users\\flori\\anaconda4\\Lib\\site-packages\\sklearn\\cluster\\_kmeans.py:1412: FutureWarning: The default value of `n_init` will change from 10 to 'auto' in 1.4. Set the value of `n_init` explicitly to suppress the warning\n",
      "  super()._check_params_vs_input(X, default_n_init=10)\n"
     ]
    },
    {
     "name": "stdout",
     "output_type": "stream",
     "text": [
      "Training a K-Means model with 19 clusters! \n",
      "\n"
     ]
    },
    {
     "name": "stderr",
     "output_type": "stream",
     "text": [
      "C:\\Users\\flori\\anaconda4\\Lib\\site-packages\\sklearn\\cluster\\_kmeans.py:1412: FutureWarning: The default value of `n_init` will change from 10 to 'auto' in 1.4. Set the value of `n_init` explicitly to suppress the warning\n",
      "  super()._check_params_vs_input(X, default_n_init=10)\n"
     ]
    },
    {
     "name": "stdout",
     "output_type": "stream",
     "text": [
      "Training a K-Means model with 20 clusters! \n",
      "\n"
     ]
    },
    {
     "name": "stderr",
     "output_type": "stream",
     "text": [
      "C:\\Users\\flori\\anaconda4\\Lib\\site-packages\\sklearn\\cluster\\_kmeans.py:1412: FutureWarning: The default value of `n_init` will change from 10 to 'auto' in 1.4. Set the value of `n_init` explicitly to suppress the warning\n",
      "  super()._check_params_vs_input(X, default_n_init=10)\n"
     ]
    },
    {
     "data": {
      "text/plain": [
       "Text(0.5, 1.0, 'Elbow Method showing the optimal k')"
      ]
     },
     "execution_count": 16,
     "metadata": {},
     "output_type": "execute_result"
    },
    {
     "data": {
      "image/png": "[encoded data removed]",
      "text/plain": [
       "<Figure size 1600x800 with 1 Axes>"
      ]
     },
     "metadata": {},
     "output_type": "display_data"
    }
   ],
   "source": [
    "K = range(2, 21)\n",
    "inertia = []\n",
    "\n",
    "for k in K:\n",
    "    print(\"Training a K-Means model with {} clusters! \".format(k))\n",
    "    print()\n",
    "    kmeans = KMeans(n_clusters=k,\n",
    "                    random_state=1234)\n",
    "    kmeans.fit(X_scaled_df)\n",
    "    inertia.append(kmeans.inertia_)\n",
    "\n",
    "import numpy as np\n",
    "import matplotlib.pyplot as plt\n",
    "%matplotlib inline\n",
    "\n",
    "plt.figure(figsize=(16,8))\n",
    "plt.plot(K, inertia, 'bx-')\n",
    "plt.xlabel('k')\n",
    "plt.ylabel('inertia')\n",
    "plt.xticks(np.arange(min(K), max(K)+1, 1.0))\n",
    "plt.title('Elbow Method showing the optimal k')"
   ]
  },
  {
   "cell_type": "markdown",
   "id": "d2161938",
   "metadata": {},
   "source": [
    "### Silouette"
   ]
  },
  {
   "cell_type": "code",
   "execution_count": 17,
   "id": "69a1f79b",
   "metadata": {},
   "outputs": [
    {
     "data": {
      "text/plain": [
       "Text(0.5, 1.0, 'Silhouette Method showing the optimal k')"
      ]
     },
     "execution_count": 17,
     "metadata": {},
     "output_type": "execute_result"
    },
    {
     "data": {
      "image/png": "[encoded data removed]",
      "text/plain": [
       "<Figure size 1600x800 with 1 Axes>"
      ]
     },
     "metadata": {},
     "output_type": "display_data"
    }
   ],
   "source": [
    "K = range(2, 20)\n",
    "silhouette = []\n",
    "\n",
    "for k in K:\n",
    "    kmeans = KMeans(n_clusters=k,\n",
    "                    random_state=1234, n_init='auto')\n",
    "    kmeans.fit(X_scaled_df)\n",
    "    \n",
    "    #filename = \"kmeans_\" + str(k) + \".pickle\"\n",
    "    #with open(filename, \"wb\") as f:\n",
    "        #pickle.dump(kmeans,f)\n",
    "    \n",
    "    silhouette.append(silhouette_score(X_scaled_df, kmeans.predict(X_scaled_df)))\n",
    "\n",
    "\n",
    "plt.figure(figsize=(16,8))\n",
    "plt.plot(K, silhouette, 'bx-')\n",
    "plt.xlabel('k')\n",
    "plt.ylabel('silhouette score')\n",
    "plt.xticks(np.arange(min(K), max(K)+1, 1.0))\n",
    "plt.title('Silhouette Method showing the optimal k')"
   ]
  },
  {
   "cell_type": "markdown",
   "id": "138e7f5e",
   "metadata": {},
   "source": [
    "#### User Input"
   ]
  },
  {
   "cell_type": "markdown",
   "id": "a4dda4ce",
   "metadata": {},
   "source": [
    "User inputs song\n",
    "search the song - > ID\n",
    "Audio features of the song\n",
    "scale\n",
    "predict the cluster\n",
    "recommand a song from the cluster. Input track ID into the integrated player"
   ]
  },
  {
   "cell_type": "code",
   "execution_count": 18,
   "id": "3954b77c",
   "metadata": {},
   "outputs": [
    {
     "name": "stdout",
     "output_type": "stream",
     "text": [
      "Requirement already satisfied: fuzzywuzzy in c:\\users\\flori\\anaconda4\\lib\\site-packages (0.18.0)\n"
     ]
    },
    {
     "name": "stderr",
     "output_type": "stream",
     "text": [
      "C:\\Users\\flori\\anaconda4\\Lib\\site-packages\\fuzzywuzzy\\fuzz.py:11: UserWarning: Using slow pure-python SequenceMatcher. Install python-Levenshtein to remove this warning\n",
      "  warnings.warn('Using slow pure-python SequenceMatcher. Install python-Levenshtein to remove this warning')\n"
     ]
    }
   ],
   "source": [
    "!pip install fuzzywuzzy\n",
    "from fuzzywuzzy import fuzz\n",
    "import config\n",
    "import spotipy\n",
    "import pandas as pd\n",
    "import json\n",
    "from spotipy.oauth2 import SpotifyClientCredentials\n",
    "from IPython.display import IFrame\n",
    "from IPython.display import display, HTML\n",
    "\n",
    "#Initialize SpotiPy with user credentials\n",
    "sp = spotipy.Spotify(auth_manager=SpotifyClientCredentials(client_id= config.client_id,\n",
    "                                                           client_secret= config.client_secret))"
   ]
  },
  {
   "cell_type": "code",
   "execution_count": 19,
   "id": "6591d262",
   "metadata": {},
   "outputs": [],
   "source": [
    "# Import Top 100 DF\n",
    "top100_df= pd.read_csv('top100_songs.csv')"
   ]
  },
  {
   "cell_type": "code",
   "execution_count": 29,
   "id": "573c1483",
   "metadata": {},
   "outputs": [
    {
     "name": "stdout",
     "output_type": "stream",
     "text": [
      "Enter a song title: Coal\n",
      "Coal is hot!\n",
      "You might like this song as well: Y lloro by Junior h\n"
     ]
    },
    {
     "name": "stderr",
     "output_type": "stream",
     "text": [
      "C:\\Users\\flori\\anaconda4\\Lib\\site-packages\\IPython\\core\\display.py:431: UserWarning: Consider using IPython.display.IFrame instead\n",
      "  warnings.warn(\"Consider using IPython.display.IFrame instead\")\n"
     ]
    },
    {
     "data": {
      "text/html": [
       "<iframe src=\"https://open.spotify.com/embed/track/6RcAHyC5sAUIbPTkhOQwd8\" width=\"320\" height=\"80\" frameborder=\"0\" allowtransparency=\"true\" allow=\"encrypted-media\"></iframe>"
      ],
      "text/plain": [
       "<IPython.core.display.HTML object>"
      ]
     },
     "metadata": {},
     "output_type": "display_data"
    }
   ],
   "source": [
    "# Ask user to input song Version 2\n",
    "\n",
    "while True:\n",
    "    # Input a song title\n",
    "    user_input = input(\"Enter a song title: \")\n",
    "\n",
    "    # User input song\n",
    "    user_input_lower = user_input.lower()\n",
    "    # song titles to lowercase\n",
    "    top100_df['Song_lower'] = top100_df['Song'].str.lower()\n",
    "\n",
    "    # Check if user input is an exact match or a fuzzy match\n",
    "    exact_match = user_input_lower in top100_df['Song_lower'].values\n",
    "    fuzzy_match = top100_df['Song_lower'].apply(lambda x: fuzz.partial_ratio(user_input_lower, x) > 80).any()\n",
    "\n",
    "    if exact_match or fuzzy_match:\n",
    "        print(f\"{user_input} is hot!\")\n",
    "\n",
    "        # Recommend another song\n",
    "        recommended_song = top100_df[top100_df['Song_lower'] != user_input_lower].sample(1)[['Song', 'Artist']].values[0]\n",
    "        recommended_song_title, recommended_artist = recommended_song\n",
    "\n",
    "        print(f\"You might like this song as well: {recommended_song_title.capitalize()} by {recommended_artist.capitalize()}\")\n",
    "        \n",
    "        # Get the track ID for the recommended song from Spotify\n",
    "        results = sp.search(q=f\"{recommended_song_title} {recommended_artist}\", limit=1, market=\"GB\")\n",
    "        track_id = results[\"tracks\"][\"items\"][0][\"id\"]\n",
    "\n",
    "        # Embed the player\n",
    "        iframe_code = f'<iframe src=\"https://open.spotify.com/embed/track/{track_id}\" width=\"320\" height=\"80\" frameborder=\"0\" allowtransparency=\"true\" allow=\"encrypted-media\"></iframe>'\n",
    "        display(HTML(iframe_code))\n",
    "        \n",
    "        # Drop temporary column \n",
    "        top100_df.drop(columns=['Song_lower'], inplace=True)\n",
    "        \n",
    "        break \n",
    "    else:\n",
    "        print(f\"Sorry, the song '{user_input}' is not hot.Put I want to suggest another song to you similar to '{user_input}'\")\n",
    "         # Drop temporary column\n",
    "        top100_df.drop(columns=['Song_lower'], inplace=True)\n",
    "        results = sp.search(q={user_input},limit=5)\n",
    "        track_id=results[\"tracks\"][\"items\"][0][\"id\"]\n",
    "        audio_feautures = sp.audio_features(track_id)\n",
    "        df_song_userinput = pd.DataFrame(audio_feautures)\n",
    "        # drop non numerical columns\n",
    "        columns_numerical_song = ['danceability', 'energy', 'key', 'loudness', 'mode', 'speechiness', 'acousticness', 'instrumentalness', 'liveness', 'valence', 'tempo']\n",
    "        df_song_userinput = df_song_userinput[columns_numerical_song]\n",
    "        #Scaling song features\n",
    "        X_song = df_song_userinput\n",
    "        X_song_scaled = scaler.transform(X_song)\n",
    "        X_song_scaled_df = pd.DataFrame(X_song_scaled, columns = X_song.columns)\n",
    "        # Predict cluster\n",
    "        cluster_pred = kmeans.predict(X_song_scaled_df)\n",
    "        cluster_pred = cluster_pred.item()\n",
    "        # Pull sample of predicted cluster\n",
    "        song_rec = X[X['cluster'] == cluster_pred].sample() \n",
    "        # get Index of recommended song: \n",
    "        song_rec.index[0]\n",
    "        song_to_play = df_combined.loc[song_rec.index[0]]\n",
    "        ##Extract Track ID song to play\n",
    "        song_to_play_ID = song_to_play['id']\n",
    "        # Embed the player\n",
    "        iframe_code = f'<iframe src=\"https://open.spotify.com/embed/track/{song_to_play_ID}\" width=\"320\" height=\"80\" frameborder=\"0\" allowtransparency=\"true\" allow=\"encrypted-media\"></iframe>'\n",
    "        display(HTML(iframe_code))\n",
    "        break\n",
    "    "
   ]
  },
  {
   "cell_type": "markdown",
   "id": "35d3e4cb",
   "metadata": {},
   "source": [
    "### Embeded Player"
   ]
  },
  {
   "cell_type": "code",
   "execution_count": null,
   "id": "44325700",
   "metadata": {},
   "outputs": [],
   "source": []
  },
  {
   "cell_type": "code",
   "execution_count": 84,
   "id": "5dd84277",
   "metadata": {},
   "outputs": [
    {
     "name": "stdout",
     "output_type": "stream",
     "text": [
      "Enter a song title: macarena\n"
     ]
    }
   ],
   "source": [
    "# User Input -> does not need to be added to the model again\n",
    "user_input = input(\"Enter a song title: \")\n",
    "# to be added under else\n",
    "results = sp.search(q={user_input},limit=5)\n",
    "results\n",
    "\n",
    "track_id=results[\"tracks\"][\"items\"][0][\"id\"]\n",
    "track_id\n",
    "audio_feautures = sp.audio_features(track_id)\n",
    "df_song_userinput = pd.DataFrame(audio_feautures)\n",
    "# drop non numerical columns\n",
    "columns_numerical_song = ['danceability', 'energy', 'key', 'loudness', 'mode', 'speechiness', 'acousticness', 'instrumentalness', 'liveness', 'valence', 'tempo']\n",
    "df_song_userinput = df_song_userinput[columns_numerical_song]\n",
    "\n",
    "\n"
   ]
  },
  {
   "cell_type": "code",
   "execution_count": 85,
   "id": "270d65c5",
   "metadata": {},
   "outputs": [
    {
     "data": {
      "text/html": [
       "<div>\n",
       "<style scoped>\n",
       "    .dataframe tbody tr th:only-of-type {\n",
       "        vertical-align: middle;\n",
       "    }\n",
       "\n",
       "    .dataframe tbody tr th {\n",
       "        vertical-align: top;\n",
       "    }\n",
       "\n",
       "    .dataframe thead th {\n",
       "        text-align: right;\n",
       "    }\n",
       "</style>\n",
       "<table border=\"1\" class=\"dataframe\">\n",
       "  <thead>\n",
       "    <tr style=\"text-align: right;\">\n",
       "      <th></th>\n",
       "      <th>danceability</th>\n",
       "      <th>energy</th>\n",
       "      <th>key</th>\n",
       "      <th>loudness</th>\n",
       "      <th>mode</th>\n",
       "      <th>speechiness</th>\n",
       "      <th>acousticness</th>\n",
       "      <th>instrumentalness</th>\n",
       "      <th>liveness</th>\n",
       "      <th>valence</th>\n",
       "      <th>tempo</th>\n",
       "    </tr>\n",
       "  </thead>\n",
       "  <tbody>\n",
       "    <tr>\n",
       "      <th>0</th>\n",
       "      <td>0.927</td>\n",
       "      <td>0.721</td>\n",
       "      <td>8</td>\n",
       "      <td>-12.561</td>\n",
       "      <td>1</td>\n",
       "      <td>0.0908</td>\n",
       "      <td>0.422</td>\n",
       "      <td>0.000044</td>\n",
       "      <td>0.0422</td>\n",
       "      <td>0.965</td>\n",
       "      <td>103.018</td>\n",
       "    </tr>\n",
       "  </tbody>\n",
       "</table>\n",
       "</div>"
      ],
      "text/plain": [
       "   danceability  energy  key  loudness  mode  speechiness  acousticness  \\\n",
       "0         0.927   0.721    8   -12.561     1       0.0908         0.422   \n",
       "\n",
       "   instrumentalness  liveness  valence    tempo  \n",
       "0          0.000044    0.0422    0.965  103.018  "
      ]
     },
     "execution_count": 85,
     "metadata": {},
     "output_type": "execute_result"
    }
   ],
   "source": [
    "df_song_userinput"
   ]
  },
  {
   "cell_type": "markdown",
   "id": "d36647a8",
   "metadata": {},
   "source": [
    "### Scaling song features"
   ]
  },
  {
   "cell_type": "code",
   "execution_count": 86,
   "id": "67702f9c",
   "metadata": {},
   "outputs": [],
   "source": [
    "X_song = df_song_userinput"
   ]
  },
  {
   "cell_type": "code",
   "execution_count": 87,
   "id": "aacc0e39",
   "metadata": {},
   "outputs": [
    {
     "data": {
      "text/plain": [
       "array([[ 2.03174569,  0.42619377,  0.76900808, -1.07437945,  0.75496004,\n",
       "         0.12855706,  0.57460643, -0.39463716, -0.90770643,  1.77076045,\n",
       "        -0.61205093]])"
      ]
     },
     "execution_count": 87,
     "metadata": {},
     "output_type": "execute_result"
    }
   ],
   "source": [
    "X_song_scaled = scaler.transform(X_song)\n",
    "X_song_scaled"
   ]
  },
  {
   "cell_type": "code",
   "execution_count": 88,
   "id": "8a08121d",
   "metadata": {},
   "outputs": [
    {
     "data": {
      "text/html": [
       "<div>\n",
       "<style scoped>\n",
       "    .dataframe tbody tr th:only-of-type {\n",
       "        vertical-align: middle;\n",
       "    }\n",
       "\n",
       "    .dataframe tbody tr th {\n",
       "        vertical-align: top;\n",
       "    }\n",
       "\n",
       "    .dataframe thead th {\n",
       "        text-align: right;\n",
       "    }\n",
       "</style>\n",
       "<table border=\"1\" class=\"dataframe\">\n",
       "  <thead>\n",
       "    <tr style=\"text-align: right;\">\n",
       "      <th></th>\n",
       "      <th>danceability</th>\n",
       "      <th>energy</th>\n",
       "      <th>key</th>\n",
       "      <th>loudness</th>\n",
       "      <th>mode</th>\n",
       "      <th>speechiness</th>\n",
       "      <th>acousticness</th>\n",
       "      <th>instrumentalness</th>\n",
       "      <th>liveness</th>\n",
       "      <th>valence</th>\n",
       "      <th>tempo</th>\n",
       "    </tr>\n",
       "  </thead>\n",
       "  <tbody>\n",
       "    <tr>\n",
       "      <th>0</th>\n",
       "      <td>2.031746</td>\n",
       "      <td>0.426194</td>\n",
       "      <td>0.769008</td>\n",
       "      <td>-1.074379</td>\n",
       "      <td>0.75496</td>\n",
       "      <td>0.128557</td>\n",
       "      <td>0.574606</td>\n",
       "      <td>-0.394637</td>\n",
       "      <td>-0.907706</td>\n",
       "      <td>1.77076</td>\n",
       "      <td>-0.612051</td>\n",
       "    </tr>\n",
       "  </tbody>\n",
       "</table>\n",
       "</div>"
      ],
      "text/plain": [
       "   danceability    energy       key  loudness     mode  speechiness  \\\n",
       "0      2.031746  0.426194  0.769008 -1.074379  0.75496     0.128557   \n",
       "\n",
       "   acousticness  instrumentalness  liveness  valence     tempo  \n",
       "0      0.574606         -0.394637 -0.907706  1.77076 -0.612051  "
      ]
     },
     "execution_count": 88,
     "metadata": {},
     "output_type": "execute_result"
    }
   ],
   "source": [
    "X_song_scaled_df = pd.DataFrame(X_song_scaled, columns = X_song.columns)\n",
    "X_song_scaled_df"
   ]
  },
  {
   "cell_type": "markdown",
   "id": "a4f3cbe7",
   "metadata": {},
   "source": [
    "#### Predict cluster"
   ]
  },
  {
   "cell_type": "code",
   "execution_count": 96,
   "id": "555ceb03",
   "metadata": {},
   "outputs": [
    {
     "data": {
      "text/plain": [
       "11"
      ]
     },
     "execution_count": 96,
     "metadata": {},
     "output_type": "execute_result"
    }
   ],
   "source": [
    "cluster_pred = kmeans.predict(X_song_scaled_df)\n",
    "cluster_pred = cluster_pred.item()\n",
    "cluster_pred"
   ]
  },
  {
   "cell_type": "markdown",
   "id": "515f6f1c",
   "metadata": {},
   "source": [
    "#### Recommend other song from the cluster"
   ]
  },
  {
   "cell_type": "code",
   "execution_count": 105,
   "id": "f0a8ceab",
   "metadata": {},
   "outputs": [
    {
     "data": {
      "text/html": [
       "<div>\n",
       "<style scoped>\n",
       "    .dataframe tbody tr th:only-of-type {\n",
       "        vertical-align: middle;\n",
       "    }\n",
       "\n",
       "    .dataframe tbody tr th {\n",
       "        vertical-align: top;\n",
       "    }\n",
       "\n",
       "    .dataframe thead th {\n",
       "        text-align: right;\n",
       "    }\n",
       "</style>\n",
       "<table border=\"1\" class=\"dataframe\">\n",
       "  <thead>\n",
       "    <tr style=\"text-align: right;\">\n",
       "      <th></th>\n",
       "      <th>danceability</th>\n",
       "      <th>energy</th>\n",
       "      <th>key</th>\n",
       "      <th>loudness</th>\n",
       "      <th>mode</th>\n",
       "      <th>speechiness</th>\n",
       "      <th>acousticness</th>\n",
       "      <th>instrumentalness</th>\n",
       "      <th>liveness</th>\n",
       "      <th>valence</th>\n",
       "      <th>tempo</th>\n",
       "      <th>cluster</th>\n",
       "    </tr>\n",
       "  </thead>\n",
       "  <tbody>\n",
       "    <tr>\n",
       "      <th>3107</th>\n",
       "      <td>0.633</td>\n",
       "      <td>0.385</td>\n",
       "      <td>9</td>\n",
       "      <td>-9.967</td>\n",
       "      <td>1</td>\n",
       "      <td>0.0358</td>\n",
       "      <td>0.411</td>\n",
       "      <td>0.000087</td>\n",
       "      <td>0.095</td>\n",
       "      <td>0.647</td>\n",
       "      <td>113.956</td>\n",
       "      <td>11</td>\n",
       "    </tr>\n",
       "  </tbody>\n",
       "</table>\n",
       "</div>"
      ],
      "text/plain": [
       "      danceability  energy  key  loudness  mode  speechiness  acousticness  \\\n",
       "3107         0.633   0.385    9    -9.967     1       0.0358         0.411   \n",
       "\n",
       "      instrumentalness  liveness  valence    tempo  cluster  \n",
       "3107          0.000087     0.095    0.647  113.956       11  "
      ]
     },
     "execution_count": 105,
     "metadata": {},
     "output_type": "execute_result"
    }
   ],
   "source": [
    "song_rec = X[X['cluster'] == cluster_pred].sample() # Gives one sample of the cluster -> acutal recommendation\n",
    "song_rec"
   ]
  },
  {
   "cell_type": "markdown",
   "id": "b448faae",
   "metadata": {},
   "source": [
    "### Pull song from the original dataframe df.combined"
   ]
  },
  {
   "cell_type": "code",
   "execution_count": 109,
   "id": "222d5c8c",
   "metadata": {},
   "outputs": [
    {
     "data": {
      "text/plain": [
       "3107"
      ]
     },
     "execution_count": 109,
     "metadata": {},
     "output_type": "execute_result"
    }
   ],
   "source": [
    "# get Index of recommended song: \n",
    "song_rec.index[0]"
   ]
  },
  {
   "cell_type": "code",
   "execution_count": 113,
   "id": "9bfb4a83",
   "metadata": {},
   "outputs": [],
   "source": [
    "song_to_play = df_combined.loc[song_rec.index[0]]"
   ]
  },
  {
   "cell_type": "code",
   "execution_count": 114,
   "id": "1bdd3684",
   "metadata": {},
   "outputs": [
    {
     "data": {
      "text/plain": [
       "Unnamed: 0                                                       3107\n",
       "danceability                                                    0.633\n",
       "energy                                                          0.385\n",
       "key                                                                 9\n",
       "loudness                                                       -9.967\n",
       "mode                                                                1\n",
       "speechiness                                                    0.0358\n",
       "acousticness                                                    0.411\n",
       "instrumentalness                                             0.000087\n",
       "liveness                                                        0.095\n",
       "valence                                                         0.647\n",
       "tempo                                                         113.956\n",
       "type                                                   audio_features\n",
       "id                                             1sjmKmR4u9xDeJHjDCn2bZ\n",
       "uri                              spotify:track:1sjmKmR4u9xDeJHjDCn2bZ\n",
       "track_href          https://api.spotify.com/v1/tracks/1sjmKmR4u9xD...\n",
       "analysis_url        https://api.spotify.com/v1/audio-analysis/1sjm...\n",
       "duration_ms                                                    182053\n",
       "time_signature                                                      4\n",
       "Name: 3107, dtype: object"
      ]
     },
     "execution_count": 114,
     "metadata": {},
     "output_type": "execute_result"
    }
   ],
   "source": [
    "song_to_play"
   ]
  },
  {
   "cell_type": "code",
   "execution_count": 119,
   "id": "baa1c3e8",
   "metadata": {},
   "outputs": [
    {
     "data": {
      "text/plain": [
       "'1sjmKmR4u9xDeJHjDCn2bZ'"
      ]
     },
     "execution_count": 119,
     "metadata": {},
     "output_type": "execute_result"
    }
   ],
   "source": [
    "##Extract Track ID song to play\n",
    "song_to_play_ID = song_to_play['id']\n",
    "song_to_play_ID"
   ]
  },
  {
   "cell_type": "code",
   "execution_count": 122,
   "id": "3c88cbbf",
   "metadata": {},
   "outputs": [
    {
     "name": "stderr",
     "output_type": "stream",
     "text": [
      "C:\\Users\\flori\\anaconda4\\Lib\\site-packages\\IPython\\core\\display.py:431: UserWarning: Consider using IPython.display.IFrame instead\n",
      "  warnings.warn(\"Consider using IPython.display.IFrame instead\")\n"
     ]
    },
    {
     "data": {
      "text/html": [
       "<iframe src=\"https://open.spotify.com/embed/track/1sjmKmR4u9xDeJHjDCn2bZ\" width=\"320\" height=\"80\" frameborder=\"0\" allowtransparency=\"true\" allow=\"encrypted-media\"></iframe>"
      ],
      "text/plain": [
       "<IPython.core.display.HTML object>"
      ]
     },
     "metadata": {},
     "output_type": "display_data"
    }
   ],
   "source": [
    "# Embed the player\n",
    "iframe_code = f'<iframe src=\"https://open.spotify.com/embed/track/{song_to_play_ID}\" width=\"320\" height=\"80\" frameborder=\"0\" allowtransparency=\"true\" allow=\"encrypted-media\"></iframe>'\n",
    "display(HTML(iframe_code))"
   ]
  },
  {
   "cell_type": "code",
   "execution_count": null,
   "id": "2611807a",
   "metadata": {},
   "outputs": [],
   "source": []
  },
  {
   "cell_type": "code",
   "execution_count": null,
   "id": "f47bbf23",
   "metadata": {},
   "outputs": [],
   "source": []
  },
  {
   "cell_type": "code",
   "execution_count": null,
   "id": "40de0e29",
   "metadata": {},
   "outputs": [],
   "source": []
  },
  {
   "cell_type": "markdown",
   "id": "edb068a5",
   "metadata": {},
   "source": []
  },
  {
   "cell_type": "code",
   "execution_count": null,
   "id": "148689c6",
   "metadata": {},
   "outputs": [],
   "source": []
  }
 ],
 "metadata": {
  "kernelspec": {
   "display_name": "Python 3 (ipykernel)",
   "language": "python",
   "name": "python3"
  },
  "language_info": {
   "codemirror_mode": {
    "name": "ipython",
    "version": 3
   },
   "file_extension": ".py",
   "mimetype": "text/x-python",
   "name": "python",
   "nbconvert_exporter": "python",
   "pygments_lexer": "ipython3",
   "version": "3.11.5"
  }
 },
 "nbformat": 4,
 "nbformat_minor": 5
}
